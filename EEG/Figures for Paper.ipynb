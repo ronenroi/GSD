{
 "cells": [
  {
   "cell_type": "code",
   "execution_count": 101,
   "metadata": {},
   "outputs": [],
   "source": [
    "import os\n",
    "import numpy as np\n",
    "import glob\n",
    "import matplotlib.pyplot as plt\n",
    "from scipy.signal import savgol_filter, find_peaks\n",
    "import pickle as pkl\n",
    "from plot_utils import extract_results\n",
    "from itertools import compress\n",
    "import seaborn as sns\n",
    "figures_path = os.path.join(os.getcwd(), 'Figures')\n",
    "from plot_utils import get_templates"
   ]
  },
  {
   "cell_type": "code",
   "execution_count": 102,
   "metadata": {},
   "outputs": [],
   "source": [
    "\n",
    "file_name = '1slice_DS_Baseline_n_rem'\n",
    "\n",
    "list_of_noise_files = glob.glob(os.path.join(os.path.dirname(os.path.realpath(__file__)), , 'saved_models', file_name, f'figure_data_noise=*'))\n",
    "list_of_noise_levels_all = [float(file.split('noise=')[1].split('.pkl')[0]) for file in list_of_noise_files]\n",
    "list_of_noise_levels_valid = list(filter(lambda x: x > 0, list_of_noise_levels_all))\n",
    "list_of_noise_levels_valid = list(filter(lambda x: x not in noise_levels_to_remove, list_of_noise_levels_valid))\n",
    "valid_idx = np.array([list_of_noise_levels_all[i] in list_of_noise_levels_valid for i in range(len(list_of_noise_levels_all))])\n",
    "list_of_noise_files_valid = list(compress(list_of_noise_files, valid_idx))\n",
    "list_of_noise_files_valid = [list_of_noise_files_valid[i] for i in np.argsort(list_of_noise_levels_valid)]\n",
    "list_of_noise_levels_valid = np.sort(list_of_noise_levels_valid)\n",
    "pal = sns.cubehelix_palette(len(list_of_noise_levels_valid), reverse=True)"
   ]
  },
  {
   "cell_type": "code",
   "execution_count": 157,
   "metadata": {},
   "outputs": [],
   "source": [
    "def plot_templates(file_name, cam_target, text_height, before=5., after=5., template_opt='spindle', task='all',\n",
    "                   num_patients=None, random=False, plot_noisy=False, noise_levels_to_remove=[]):\n",
    "    # If running from notebook, it is advisable to leave num_patients None, and so the highest number of patients will be loaded\n",
    "    assert (template_opt in ['rem', 'emg', 'sw', 'spindle'])\n",
    "    random_str = 'random_' if random else ''\n",
    "    if num_patients is None:\n",
    "        # Load saved templates (find the highest number of patients)\n",
    "        list_of_templates = glob.glob(f'plot_results/{random_str}{template_opt}_template_class{cam_target}_{file_name}*')\n",
    "        list_of_num_patients = [int(file.split('patients')[0].split('_')[-1]) for file in list_of_templates]\n",
    "        best_file_idx = np.argmax(list_of_num_patients)\n",
    "        num_patients = list_of_num_patients[best_file_idx]\n",
    "        new_file_name = f'{random_str}{template_opt}_template_class{cam_target}_{file_name}_' \\\n",
    "                     f'{num_patients}patients_'\n",
    "\n",
    "        template_file_name = list_of_templates[best_file_idx]\n",
    "    else:\n",
    "        new_file_name = f'{random_str}{template_opt}_template_class{cam_target}_{file_name}_' \\\n",
    "                             f'{num_patients}patients_'\n",
    "        template_file_name = f'plot_results/{new_file_name}'\n",
    "    print(f\"Loaded file name: {template_file_name}\")\n",
    "    with open(template_file_name, 'rb') as f:\n",
    "        templates = pkl.load(f)\n",
    "    num_templates = templates.shape[1]\n",
    "    # Normalize templates\n",
    "    for i in range(num_templates):\n",
    "        cam_i = templates[:, i]\n",
    "        if ((cam_i - cam_i.mean()) != 0).sum() < 5:\n",
    "            continue\n",
    "        if max(cam_i) != min(cam_i):\n",
    "            cam_i = (cam_i - min(cam_i)) / (max(cam_i) - min(cam_i))\n",
    "            templates[:, i] = cam_i\n",
    "\n",
    "    # X-axis in ms units\n",
    "    templates_ts = np.linspace(-before * 1000, after * 1000, templates.shape[0], endpoint=False)\n",
    "\n",
    "    fig, ax = plt.subplots(1, 1, figsize=(10, 7))\n",
    "    mean_cam = np.mean(templates, axis=1)\n",
    "#     mean_cam = savgol_filter(mean_cam, 11, 2)\n",
    "\n",
    "    ax.plot(templates_ts, mean_cam, '-k', label='Activation')\n",
    "#     ax.tick_params(direction='out', length=17, width=2, colors='black',\n",
    "#                grid_color='grey', grid_alpha=0.5)\n",
    "    plt.locator_params(nbins=4)\n",
    "    \n",
    "    \n",
    "    if plot_noisy:\n",
    "        # get lists of noisy templates: valid (noise > 0) and sorted (for the coloring to be meaningful)\n",
    "        str_s = os.path.join(os.getcwd(), 'plot_results','noise',f'random_{new_file_name}figure_data_noise=*')\n",
    "#         str_s = os.path.join(os.getcwd(), 'plot_results','noise','random_sw_template_class0_1slice_DS_Baseline_n_rem_100patients_figure_data_noise=0')\n",
    "        print(str_s)\n",
    "        list_of_noise_files = glob.glob(str_s)\n",
    "        print(f'list_of_noise_files:')\n",
    "        print(list_of_noise_files)\n",
    "        list_of_noise_levels_all = [float(file.split('noise=')[1].split('.pkl')[0]) for file in list_of_noise_files]\n",
    "        list_of_noise_levels_valid = list(filter(lambda x: x > 0 and x<0.9, list_of_noise_levels_all))\n",
    "        list_of_noise_levels_valid = list(filter(lambda x: x not in noise_levels_to_remove, list_of_noise_levels_valid))\n",
    "        valid_idx = np.array([list_of_noise_levels_all[i] in list_of_noise_levels_valid for i in range(len(list_of_noise_levels_all))])\n",
    "        list_of_noise_files_valid = list(compress(list_of_noise_files, valid_idx))\n",
    "        list_of_noise_files_valid = [list_of_noise_files_valid[i] for i in np.argsort(list_of_noise_levels_valid)]\n",
    "        list_of_noise_levels_valid = np.sort(list_of_noise_levels_valid)\n",
    "        pal = sns.cubehelix_palette(len(list_of_noise_levels_valid), reverse=True)\n",
    "\n",
    "        for i_noise, noise in enumerate(list_of_noise_levels_valid):\n",
    "            with open(list_of_noise_files_valid[i_noise], 'rb') as h:\n",
    "                save_data_noise = pkl.load(h)\n",
    "            \n",
    "            for i in range(save_data_noise.shape[1]):\n",
    "                cam_i = save_data_noise[:, i]\n",
    "                if ((cam_i - cam_i.mean()) != 0).sum() < 5:\n",
    "                    continue\n",
    "                if max(cam_i) != min(cam_i):\n",
    "                    cam_i = (cam_i - min(cam_i)) / (max(cam_i) - min(cam_i))\n",
    "                    save_data_noise[:, i] = cam_i\n",
    "                    \n",
    "            mean_cam_noise = np.mean(save_data_noise, axis=1) # np.mean(save_data_noise['cam_mat'], axis=1)\n",
    "            sns.lineplot(x=templates_ts, y=mean_cam_noise, label=noise, color=pal[i_noise])\n",
    "\n",
    "    \n",
    "    plt.xticks(fontsize=21)\n",
    "    plt.yticks(fontsize=21)\n",
    "    ax.set_xlabel('Time [ms]', fontdict={'size': 25})\n",
    "    ax.set_ylabel('Amplitude [ms]', fontdict={'size': 25})\n",
    "    plt.axvline(0, color='red', linestyle='--')\n",
    "\n",
    "    if task == 'all':\n",
    "        target_class = {0: 'Wake', 1: 'N1', 2: 'N2', 3: 'N3', 4: 'REM'}\n",
    "    elif task == 'wake_rem':\n",
    "        target_class = {0: 'Wake', 1: 'REM'}\n",
    "    elif task == 'rem_nrem':\n",
    "        target_class = {0: 'NREM', 1: 'REM'}\n",
    "\n",
    "    template_name_hloc = {'spindle': -2800, 'sw': -2200, 'emg': -500, 'rem': -3300}\n",
    "    template_name_print = {'spindle': 'Spindle Start', 'sw': 'SW Start', 'emg': 'Movement Onset',\n",
    "                           'rem': 'Eye movement '}\n",
    "\n",
    "    ax.text(template_name_hloc[template_opt], text_height, template_name_print[template_opt],\n",
    "            fontdict={'size': 21, 'style': 'italic', 'color': 'red'})\n",
    "    plt.grid()\n",
    "    plt.legend(loc=1, prop={'size': 21})\n",
    "    plt.show()\n",
    "    print(f'Averaged over {num_patients} patients and {num_templates} detections')\n",
    "    return fig"
   ]
  },
  {
   "cell_type": "code",
   "execution_count": 26,
   "metadata": {},
   "outputs": [],
   "source": [
    "with open(os.path.join(os.getcwd(), 'plot_results', 'noise','random_sw_template_class0_1slice_DS_Baseline_n_rem_6000patients_figure_data_noise=1'), 'rb') as h:\n",
    "    save_data_noise = pkl.load(h)\n",
    "    \n",
    "\n",
    "        \n"
   ]
  },
  {
   "cell_type": "markdown",
   "metadata": {},
   "source": [
    "## Figure 4 (a): Slow waves baseline"
   ]
  },
  {
   "cell_type": "code",
   "execution_count": 121,
   "metadata": {},
   "outputs": [
    {
     "name": "stdout",
     "output_type": "stream",
     "text": [
      "Classification Performance:\n",
      "Accuracy: 90.95, Kappa: 0.71, f1m: 0.91, f1M: 0.86\n",
      "\n",
      "Independence results\n",
      "R2: 0.723\n",
      "\n",
      "Warning: no rep2label_perf.pkl found in folder\n",
      "Loaded file name: plot_results/sw_template_class0_1slice_DS_Baseline_n_rem_6000patients_\n"
     ]
    },
    {
     "data": {
      "image/png": "[encoded data removed]",
      "text/plain": [
       "<Figure size 720x504 with 1 Axes>"
      ]
     },
     "metadata": {
      "needs_background": "light"
     },
     "output_type": "display_data"
    },
    {
     "name": "stdout",
     "output_type": "stream",
     "text": [
      "Averaged over 6000 patients and 37327 detections\n"
     ]
    }
   ],
   "source": [
    "file_name = '1slice_DS_Baseline_n_rem'\n",
    "cam_target = 0\n",
    "template_opt = 'sw'\n",
    "task = 'rem_nrem'\n",
    "extract_results(file_name)\n",
    "fig = plot_templates(file_name=file_name, cam_target=cam_target, text_height=0.45, template_opt=template_opt, before=5, after=5, task=task, random=False,plot_noisy=False)\n",
    "fig.savefig(f'Figures/{template_opt}_{file_name}.png', dpi=500)\n",
    "# fig = plot_templates(file_name=file_name, cam_target=cam_target, text_height=0.58, template_opt=template_opt, before=5, after=5, task=task, random=True)\n",
    "# fig.savefig(f'Figures/{template_opt}_{file_name}_random.png', dpi=500)"
   ]
  },
  {
   "cell_type": "markdown",
   "metadata": {},
   "source": [
    "## Figure 4 (b): Slow waves (HSIC)"
   ]
  },
  {
   "cell_type": "code",
   "execution_count": 134,
   "metadata": {},
   "outputs": [
    {
     "name": "stdout",
     "output_type": "stream",
     "text": [
      "Classification Performance:\n",
      "Accuracy: 90.21, Kappa: 0.68, f1m: 0.90, f1M: 0.84\n",
      "\n",
      "Independence results\n",
      "R2: -0.037\n",
      "\n",
      "Rep2Label Performance:\n",
      "Accuracy: 90.54, Kappa: 0.70, f1m: 0.91, f1M: 0.85\n",
      "\n",
      "Loaded file name: plot_results/sw_template_class0_1slice_DS_frequency_lambda20*0.25_lsb_remNrem_20_73_6001patients\n"
     ]
    },
    {
     "data": {
      "image/png": "[encoded data removed]",
      "text/plain": [
       "<Figure size 720x504 with 1 Axes>"
      ]
     },
     "metadata": {
      "needs_background": "light"
     },
     "output_type": "display_data"
    },
    {
     "name": "stdout",
     "output_type": "stream",
     "text": [
      "Averaged over 6001 patients and 63077 detections\n"
     ]
    }
   ],
   "source": [
    "file_name = '1slice_DS_frequency_lambda20*0.25_lsb_remNrem_20_73'\n",
    "cam_target = 0\n",
    "template_opt = 'sw'\n",
    "task = 'rem_nrem'\n",
    "extract_results(file_name)\n",
    "fig = plot_templates(file_name=file_name, cam_target=cam_target, text_height=0.405, template_opt=template_opt, before=5, after=5, task=task, random=False, plot_noisy=False)\n",
    "fig.savefig(f'Figures/{template_opt}_{file_name}.png', dpi=500)\n",
    "# fig = plot_templates(file_name=file_name, cam_target=cam_target, text_height=0.58, template_opt=template_opt, before=5, after=5, task=task, random=True)\n",
    "# fig.savefig(f'Figures/{template_opt}_{file_name}_random.png', dpi=500)"
   ]
  },
  {
   "cell_type": "markdown",
   "metadata": {},
   "source": [
    "## Figure 5 (a): Spindles baseline"
   ]
  },
  {
   "cell_type": "code",
   "execution_count": 140,
   "metadata": {
    "scrolled": false
   },
   "outputs": [
    {
     "name": "stdout",
     "output_type": "stream",
     "text": [
      "Classification Performance:\n",
      "Accuracy: 90.95, Kappa: 0.71, f1m: 0.91, f1M: 0.86\n",
      "\n",
      "Independence results\n",
      "R2: 0.723\n",
      "\n",
      "Warning: no rep2label_perf.pkl found in folder\n",
      "Loaded file name: plot_results/spindle_template_class0_1slice_DS_Baseline_n_rem_6000patients_\n"
     ]
    },
    {
     "data": {
      "image/png": "[encoded data removed]",
      "text/plain": [
       "<Figure size 720x504 with 1 Axes>"
      ]
     },
     "metadata": {
      "needs_background": "light"
     },
     "output_type": "display_data"
    },
    {
     "name": "stdout",
     "output_type": "stream",
     "text": [
      "Averaged over 6000 patients and 10454 detections\n"
     ]
    }
   ],
   "source": [
    "file_name = '1slice_DS_Baseline_n_rem'\n",
    "cam_target = 0\n",
    "template_opt = 'spindle'\n",
    "task = 'rem_nrem'\n",
    "extract_results(file_name)\n",
    "fig = plot_templates(file_name=file_name, cam_target=cam_target, text_height=0.45, template_opt=template_opt, before=5, after=5, task=task, random=False,plot_noisy=False)\n",
    "fig.savefig(f'Figures/{template_opt}_{file_name}.png', dpi=500)\n",
    "# fig = plot_templates(file_name=file_name, cam_target=cam_target, text_height=0.490, template_opt=template_opt, before=5, after=5, task=task, random=True)\n",
    "# fig.savefig(f'Figures/{template_opt}_{file_name}_random.png', dpi=500)"
   ]
  },
  {
   "cell_type": "markdown",
   "metadata": {},
   "source": [
    "## Figure 5 (b): Spindles HSIC"
   ]
  },
  {
   "cell_type": "code",
   "execution_count": 145,
   "metadata": {
    "scrolled": false
   },
   "outputs": [
    {
     "name": "stdout",
     "output_type": "stream",
     "text": [
      "Classification Performance:\n",
      "Accuracy: 90.21, Kappa: 0.68, f1m: 0.90, f1M: 0.84\n",
      "\n",
      "Independence results\n",
      "R2: -0.037\n",
      "\n",
      "Rep2Label Performance:\n",
      "Accuracy: 90.54, Kappa: 0.70, f1m: 0.91, f1M: 0.85\n",
      "\n",
      "Loaded file name: plot_results/spindle_template_class0_1slice_DS_frequency_lambda20*0.25_lsb_remNrem_20_73_6001patients\n",
      "/data/deep-sleep-mind/plot_results/noise/random_spindle_template_class0_1slice_DS_frequency_lambda20*0.25_lsb_remNrem_20_73_6001patients_figure_data_noise=*\n",
      "list_of_noise_files:\n",
      "['/data/deep-sleep-mind/plot_results/noise/random_spindle_template_class0_1slice_DS_frequency_lambda20*0.25_lsb_remNrem_20_73_6001patients_figure_data_noise=1', '/data/deep-sleep-mind/plot_results/noise/random_spindle_template_class0_1slice_DS_frequency_lambda20*0.25_lsb_remNrem_20_73_6001patients_figure_data_noise=0.05', '/data/deep-sleep-mind/plot_results/noise/random_spindle_template_class0_1slice_DS_frequency_lambda20*0.25_lsb_remNrem_20_73_6001patients_figure_data_noise=0.8', '/data/deep-sleep-mind/plot_results/noise/random_spindle_template_class0_1slice_DS_frequency_lambda20*0.25_lsb_remNrem_20_73_6001patients_figure_data_noise=0.1', '/data/deep-sleep-mind/plot_results/noise/random_spindle_template_class0_1slice_DS_frequency_lambda20*0.25_lsb_remNrem_20_73_6001patients_figure_data_noise=0.5', '/data/deep-sleep-mind/plot_results/noise/random_spindle_template_class0_1slice_DS_frequency_lambda20*0.25_lsb_remNrem_20_73_6001patients_figure_data_noise=0.2']\n"
     ]
    },
    {
     "data": {
      "image/png": "[encoded data removed]",
      "text/plain": [
       "<Figure size 720x504 with 1 Axes>"
      ]
     },
     "metadata": {
      "needs_background": "light"
     },
     "output_type": "display_data"
    },
    {
     "name": "stdout",
     "output_type": "stream",
     "text": [
      "Averaged over 6001 patients and 19219 detections\n"
     ]
    }
   ],
   "source": [
    "file_name = '1slice_DS_frequency_lambda20*0.25_lsb_remNrem_20_73'\n",
    "cam_target = 0\n",
    "template_opt = 'spindle'\n",
    "task = 'rem_nrem'\n",
    "extract_results(file_name)\n",
    "# print(f'plot_results/{template_opt}_template_class{cam_target}_{file_name}*')\n",
    "fig = plot_templates(file_name=file_name, cam_target=cam_target, text_height=0.49, template_opt=template_opt, before=5, after=5, task=task, random=False,plot_noisy=True)\n",
    "fig.savefig(f'Figures/{template_opt}_{file_name}_noise.png', dpi=500)\n",
    "# fig = plot_templates(file_name=file_name, cam_target=cam_target, text_height=0.490, template_opt=template_opt, before=5, after=5, task=task, random=True)\n",
    "# fig.savefig(f'Figures/{template_opt}_{file_name}_random.png', dpi=500)"
   ]
  },
  {
   "cell_type": "markdown",
   "metadata": {},
   "source": [
    "## Figure 6 (a): EOG baseline"
   ]
  },
  {
   "cell_type": "code",
   "execution_count": 158,
   "metadata": {},
   "outputs": [
    {
     "name": "stdout",
     "output_type": "stream",
     "text": [
      "Classification Performance:\n",
      "Accuracy: 90.95, Kappa: 0.71, f1m: 0.91, f1M: 0.86\n",
      "\n",
      "Independence results\n",
      "R2: 0.723\n",
      "\n",
      "Warning: no rep2label_perf.pkl found in folder\n",
      "Loaded file name: plot_results/rem_template_class1_1slice_DS_Baseline_n_rem_6000patients\n",
      "/data/deep-sleep-mind/plot_results/noise/random_rem_template_class1_1slice_DS_Baseline_n_rem_6000patients_figure_data_noise=*\n",
      "list_of_noise_files:\n",
      "['/data/deep-sleep-mind/plot_results/noise/random_rem_template_class1_1slice_DS_Baseline_n_rem_6000patients_figure_data_noise=1', '/data/deep-sleep-mind/plot_results/noise/random_rem_template_class1_1slice_DS_Baseline_n_rem_6000patients_figure_data_noise=0.8', '/data/deep-sleep-mind/plot_results/noise/random_rem_template_class1_1slice_DS_Baseline_n_rem_6000patients_figure_data_noise=0.1', '/data/deep-sleep-mind/plot_results/noise/random_rem_template_class1_1slice_DS_Baseline_n_rem_6000patients_figure_data_noise=0.5']\n"
     ]
    },
    {
     "data": {
      "image/png": "[encoded data removed]",
      "text/plain": [
       "<Figure size 720x504 with 1 Axes>"
      ]
     },
     "metadata": {
      "needs_background": "light"
     },
     "output_type": "display_data"
    },
    {
     "name": "stdout",
     "output_type": "stream",
     "text": [
      "Averaged over 6000 patients and 5556 detections\n"
     ]
    }
   ],
   "source": [
    "file_name = '1slice_DS_Baseline_n_rem'\n",
    "cam_target = 1\n",
    "template_opt = 'rem'\n",
    "task = 'rem_nrem'\n",
    "extract_results(file_name)\n",
    "# print(f'plot_results/{template_opt}_template_class{cam_target}_{file_name}*')\n",
    "fig = plot_templates(file_name=file_name, cam_target=cam_target, text_height=0.58, template_opt=template_opt, before=5, after=5, task=task, random=False, plot_noisy=True)\n",
    "\n",
    "fig.savefig(f'Figures/{template_opt}_{file_name}_noise.png', dpi=500)\n",
    "# fig = plot_templates(file_name=file_name, cam_target=cam_target, text_height=0.490, template_opt=template_opt, before=5, after=5, task=task, random=True)\n",
    "# fig.savefig(f'Figures/{template_opt}_{file_name}_random.png', dpi=500)"
   ]
  },
  {
   "cell_type": "markdown",
   "metadata": {},
   "source": [
    "## Figure 6 (b): EOG HSIC"
   ]
  },
  {
   "cell_type": "code",
   "execution_count": 159,
   "metadata": {},
   "outputs": [
    {
     "name": "stdout",
     "output_type": "stream",
     "text": [
      "Classification Performance:\n",
      "Accuracy: 90.21, Kappa: 0.68, f1m: 0.90, f1M: 0.84\n",
      "\n",
      "Independence results\n",
      "R2: -0.037\n",
      "\n",
      "Rep2Label Performance:\n",
      "Accuracy: 90.54, Kappa: 0.70, f1m: 0.91, f1M: 0.85\n",
      "\n",
      "Loaded file name: plot_results/rem_template_class1_1slice_DS_frequency_lambda20*0.25_lsb_remNrem_20_73_6001patients\n",
      "/data/deep-sleep-mind/plot_results/noise/random_rem_template_class1_1slice_DS_frequency_lambda20*0.25_lsb_remNrem_20_73_6001patients_figure_data_noise=*\n",
      "list_of_noise_files:\n",
      "['/data/deep-sleep-mind/plot_results/noise/random_rem_template_class1_1slice_DS_frequency_lambda20*0.25_lsb_remNrem_20_73_6001patients_figure_data_noise=0.2', '/data/deep-sleep-mind/plot_results/noise/random_rem_template_class1_1slice_DS_frequency_lambda20*0.25_lsb_remNrem_20_73_6001patients_figure_data_noise=1', '/data/deep-sleep-mind/plot_results/noise/random_rem_template_class1_1slice_DS_frequency_lambda20*0.25_lsb_remNrem_20_73_6001patients_figure_data_noise=0.5', '/data/deep-sleep-mind/plot_results/noise/random_rem_template_class1_1slice_DS_frequency_lambda20*0.25_lsb_remNrem_20_73_6001patients_figure_data_noise=0.8', '/data/deep-sleep-mind/plot_results/noise/random_rem_template_class1_1slice_DS_frequency_lambda20*0.25_lsb_remNrem_20_73_6001patients_figure_data_noise=0.1']\n"
     ]
    },
    {
     "data": {
      "image/png": "[encoded data removed]",
      "text/plain": [
       "<Figure size 720x504 with 1 Axes>"
      ]
     },
     "metadata": {
      "needs_background": "light"
     },
     "output_type": "display_data"
    },
    {
     "name": "stdout",
     "output_type": "stream",
     "text": [
      "Averaged over 6001 patients and 5556 detections\n"
     ]
    }
   ],
   "source": [
    "file_name = '1slice_DS_frequency_lambda20*0.25_lsb_remNrem_20_73'\n",
    "cam_target = 1\n",
    "template_opt = 'rem'\n",
    "task = 'rem_nrem'\n",
    "extract_results(file_name)\n",
    "fig = plot_templates(file_name=file_name, cam_target=cam_target, text_height=0.31, template_opt=template_opt, before=5, after=5, task=task, random=False,plot_noisy=True)\n",
    "fig.savefig(f'Figures/{template_opt}_{file_name}_noise.png', dpi=500)\n",
    "# fig = plot_templates(file_name=file_name, cam_target=cam_target, text_height=0.29, template_opt=template_opt, before=5, after=5, task=task, random=True)\n",
    "# fig.savefig(f'Figures/{template_opt}_{file_name}_random.png', dpi=500)"
   ]
  },
  {
   "cell_type": "code",
   "execution_count": 32,
   "metadata": {},
   "outputs": [
    {
     "name": "stdout",
     "output_type": "stream",
     "text": [
      "Classification Performance:\n",
      "Accuracy: 90.21, Kappa: 0.68, f1m: 0.90, f1M: 0.84\n",
      "\n",
      "Independence results\n",
      "R2: -0.037\n",
      "\n",
      "Rep2Label Performance:\n",
      "Accuracy: 90.54, Kappa: 0.70, f1m: 0.91, f1M: 0.85\n",
      "\n",
      "dataset_dir = ALL0.05\n",
      "Sample Frequency: 80\n",
      "Num Classes: 2\n"
     ]
    },
    {
     "name": "stderr",
     "output_type": "stream",
     "text": [
      "100%|██████████| 600/600 [00:01<00:00, 524.90it/s]\n",
      "  0%|          | 3/4321 [00:00<06:41, 10.76it/s]"
     ]
    },
    {
     "name": "stdout",
     "output_type": "stream",
     "text": [
      "[ 378.52410791  772.10039167  986.63821828 1119.25207751]\n",
      "[248.23426222 672.68256823 852.70975873]\n",
      "[259.26844095]\n"
     ]
    },
    {
     "name": "stderr",
     "output_type": "stream",
     "text": [
      "  0%|          | 7/4321 [00:00<05:22, 13.38it/s]"
     ]
    },
    {
     "name": "stdout",
     "output_type": "stream",
     "text": [
      "[ 454.22131073  524.27730979 1244.07067636]\n",
      "[290.49541327 386.10750289 449.6407107  580.99566704 975.91918899]\n",
      "[1187.70519966]\n"
     ]
    },
    {
     "name": "stderr",
     "output_type": "stream",
     "text": [
      "  0%|          | 15/4321 [00:00<04:20, 16.55it/s]"
     ]
    },
    {
     "name": "stdout",
     "output_type": "stream",
     "text": [
      "[1000.02066852]\n",
      "[594.04902799]\n",
      "[356.3359674]\n",
      "[1009.19467695 1067.75025427 1209.51150152]\n"
     ]
    },
    {
     "name": "stderr",
     "output_type": "stream",
     "text": [
      "  0%|          | 19/4321 [00:01<04:21, 16.48it/s]"
     ]
    },
    {
     "name": "stdout",
     "output_type": "stream",
     "text": [
      "[734.63554624 790.59390209]\n",
      "[ 781.65931517 1212.92022497]\n",
      "[347.73146075 667.83924855 746.29467945]\n",
      "[537.11144291]\n"
     ]
    },
    {
     "name": "stderr",
     "output_type": "stream",
     "text": [
      "  1%|          | 29/4321 [00:01<04:20, 16.50it/s]"
     ]
    },
    {
     "name": "stdout",
     "output_type": "stream",
     "text": [
      "[292.79670663 401.71146511]\n",
      "[531.03411953]\n"
     ]
    },
    {
     "name": "stderr",
     "output_type": "stream",
     "text": [
      "  1%|          | 35/4321 [00:02<04:03, 17.64it/s]"
     ]
    },
    {
     "name": "stdout",
     "output_type": "stream",
     "text": [
      "[244.55980459]\n"
     ]
    },
    {
     "name": "stderr",
     "output_type": "stream",
     "text": [
      "  1%|          | 39/4321 [00:02<04:15, 16.73it/s]"
     ]
    },
    {
     "name": "stdout",
     "output_type": "stream",
     "text": [
      "[]\n",
      "[349.13846039 482.06113574]\n"
     ]
    },
    {
     "name": "stderr",
     "output_type": "stream",
     "text": [
      "  1%|          | 45/4321 [00:02<04:14, 16.78it/s]"
     ]
    },
    {
     "name": "stdout",
     "output_type": "stream",
     "text": [
      "[426.33769319]\n"
     ]
    },
    {
     "name": "stderr",
     "output_type": "stream",
     "text": [
      "  1%|          | 51/4321 [00:03<04:09, 17.12it/s]"
     ]
    },
    {
     "name": "stdout",
     "output_type": "stream",
     "text": [
      "[1116.52076149]\n",
      "[1234.12203605]\n"
     ]
    },
    {
     "name": "stderr",
     "output_type": "stream",
     "text": [
      "  1%|▏         | 59/4321 [00:03<04:02, 17.57it/s]"
     ]
    },
    {
     "name": "stdout",
     "output_type": "stream",
     "text": [
      "[510.96312935 527.37040442 575.58357671]\n"
     ]
    },
    {
     "name": "stderr",
     "output_type": "stream",
     "text": [
      "\r",
      "  1%|▏         | 61/4321 [00:03<04:12, 16.90it/s]"
     ]
    },
    {
     "name": "stdout",
     "output_type": "stream",
     "text": [
      "[894.84416393]\n"
     ]
    },
    {
     "name": "stderr",
     "output_type": "stream",
     "text": [
      "  2%|▏         | 68/4321 [00:03<03:55, 18.08it/s]"
     ]
    },
    {
     "name": "stdout",
     "output_type": "stream",
     "text": [
      "[1230.80310707]\n",
      "[381.03949181]\n",
      "[ 355.46363253  952.39589974 1084.16084367]\n",
      "[]\n"
     ]
    },
    {
     "name": "stderr",
     "output_type": "stream",
     "text": [
      "  2%|▏         | 72/4321 [00:04<03:54, 18.13it/s]"
     ]
    },
    {
     "name": "stdout",
     "output_type": "stream",
     "text": [
      "[732.18616485]\n",
      "[]\n"
     ]
    },
    {
     "name": "stderr",
     "output_type": "stream",
     "text": [
      "  2%|▏         | 76/4321 [00:04<04:05, 17.29it/s]"
     ]
    },
    {
     "name": "stdout",
     "output_type": "stream",
     "text": [
      "[520.38442941 625.3157858 ]\n",
      "[]\n",
      "[919.96530252]\n"
     ]
    },
    {
     "name": "stderr",
     "output_type": "stream",
     "text": [
      "  2%|▏         | 82/4321 [00:04<04:28, 15.82it/s]"
     ]
    },
    {
     "name": "stdout",
     "output_type": "stream",
     "text": [
      "[1206.73360745]\n",
      "[]\n"
     ]
    },
    {
     "name": "stderr",
     "output_type": "stream",
     "text": [
      "  2%|▏         | 88/4321 [00:05<07:33,  9.34it/s]"
     ]
    },
    {
     "name": "stdout",
     "output_type": "stream",
     "text": [
      "[ 445.34075952  500.83231791  656.91955053  963.02191371 1034.00401363\n",
      " 1101.21458322]\n"
     ]
    },
    {
     "name": "stderr",
     "output_type": "stream",
     "text": [
      "  2%|▏         | 98/4321 [00:06<04:47, 14.70it/s]"
     ]
    },
    {
     "name": "stdout",
     "output_type": "stream",
     "text": [
      "[1067.93108892]\n",
      "[481.22836578]\n",
      "[969.92489894]\n",
      "[]\n"
     ]
    },
    {
     "name": "stderr",
     "output_type": "stream",
     "text": [
      "  2%|▏         | 102/4321 [00:06<04:27, 15.76it/s]"
     ]
    },
    {
     "name": "stdout",
     "output_type": "stream",
     "text": [
      "[ 584.78490966 1086.06544507]\n",
      "[ 939.03264559 1074.77136581 1115.01543652 1188.77841698]\n"
     ]
    },
    {
     "name": "stderr",
     "output_type": "stream",
     "text": [
      "  2%|▏         | 106/4321 [00:06<04:10, 16.85it/s]"
     ]
    },
    {
     "name": "stdout",
     "output_type": "stream",
     "text": [
      "[577.43663513]\n",
      "[ 631.55175047 1067.66055402]\n",
      "[1128.90686305]\n"
     ]
    },
    {
     "name": "stderr",
     "output_type": "stream",
     "text": [
      "  3%|▎         | 115/4321 [00:07<04:02, 17.34it/s]"
     ]
    },
    {
     "name": "stdout",
     "output_type": "stream",
     "text": [
      "[233.99588296 410.95635395 891.06369554]\n",
      "[]\n",
      "[1235.45150014]\n",
      "[]\n"
     ]
    },
    {
     "name": "stderr",
     "output_type": "stream",
     "text": [
      "  3%|▎         | 119/4321 [00:07<04:00, 17.47it/s]"
     ]
    },
    {
     "name": "stdout",
     "output_type": "stream",
     "text": [
      "[1048.89872412]\n"
     ]
    },
    {
     "name": "stderr",
     "output_type": "stream",
     "text": [
      "  3%|▎         | 129/4321 [00:07<04:01, 17.35it/s]"
     ]
    },
    {
     "name": "stdout",
     "output_type": "stream",
     "text": [
      "[307.50323194]\n",
      "[434.32131151]\n",
      "[325.23007489 987.38351162]\n"
     ]
    },
    {
     "name": "stderr",
     "output_type": "stream",
     "text": [
      "  3%|▎         | 135/4321 [00:08<04:03, 17.17it/s]"
     ]
    },
    {
     "name": "stdout",
     "output_type": "stream",
     "text": [
      "[ 457.81700132  900.80823541 1115.84405414]\n",
      "[]\n"
     ]
    },
    {
     "name": "stderr",
     "output_type": "stream",
     "text": [
      "  3%|▎         | 139/4321 [00:08<04:08, 16.85it/s]"
     ]
    },
    {
     "name": "stdout",
     "output_type": "stream",
     "text": [
      "[1100.55608538]\n",
      "[ 755.60849287 1016.62192412]\n"
     ]
    },
    {
     "name": "stderr",
     "output_type": "stream",
     "text": [
      "  3%|▎         | 143/4321 [00:08<04:09, 16.72it/s]"
     ]
    },
    {
     "name": "stdout",
     "output_type": "stream",
     "text": [
      "[ 907.14777476 1080.36671012]\n",
      "[722.38549634 889.26906166]\n",
      "[]\n"
     ]
    },
    {
     "name": "stderr",
     "output_type": "stream",
     "text": [
      "  3%|▎         | 147/4321 [00:09<04:09, 16.70it/s]"
     ]
    },
    {
     "name": "stdout",
     "output_type": "stream",
     "text": [
      "[]\n"
     ]
    },
    {
     "name": "stderr",
     "output_type": "stream",
     "text": [
      "  4%|▎         | 155/4321 [00:09<04:03, 17.10it/s]"
     ]
    },
    {
     "name": "stdout",
     "output_type": "stream",
     "text": [
      "[]\n",
      "[781.9011653  991.21317739]\n",
      "[ 440.27778618 1122.09795614]\n"
     ]
    },
    {
     "name": "stderr",
     "output_type": "stream",
     "text": [
      "  4%|▎         | 159/4321 [00:09<03:53, 17.79it/s]"
     ]
    },
    {
     "name": "stdout",
     "output_type": "stream",
     "text": [
      "[]\n",
      "[ 421.52100517 1065.3773902 ]\n"
     ]
    },
    {
     "name": "stderr",
     "output_type": "stream",
     "text": [
      "  4%|▍         | 167/4321 [00:10<04:03, 17.08it/s]"
     ]
    },
    {
     "name": "stdout",
     "output_type": "stream",
     "text": [
      "[834.49308781]\n",
      "[632.51033436]\n"
     ]
    },
    {
     "name": "stderr",
     "output_type": "stream",
     "text": [
      "  4%|▍         | 175/4321 [00:10<03:43, 18.58it/s]"
     ]
    },
    {
     "name": "stdout",
     "output_type": "stream",
     "text": [
      "[1169.07534662]\n",
      "[ 613.06624114 1258.46994733]\n"
     ]
    },
    {
     "name": "stderr",
     "output_type": "stream",
     "text": [
      "  4%|▍         | 183/4321 [00:11<03:59, 17.31it/s]"
     ]
    },
    {
     "name": "stdout",
     "output_type": "stream",
     "text": [
      "[326.79447835]\n",
      "[639.69293398]\n",
      "[1069.96355936]\n"
     ]
    },
    {
     "name": "stderr",
     "output_type": "stream",
     "text": [
      "  4%|▍         | 187/4321 [00:11<04:00, 17.16it/s]"
     ]
    },
    {
     "name": "stdout",
     "output_type": "stream",
     "text": [
      "[]\n",
      "[]\n"
     ]
    },
    {
     "name": "stderr",
     "output_type": "stream",
     "text": [
      "  4%|▍         | 191/4321 [00:11<04:08, 16.59it/s]"
     ]
    },
    {
     "name": "stdout",
     "output_type": "stream",
     "text": [
      "[367.2508712  483.71751251 589.17069134 703.83452838 898.52396   ]\n",
      "[ 522.50439892  655.88360958  869.88450654 1090.48670552]\n"
     ]
    },
    {
     "name": "stderr",
     "output_type": "stream",
     "text": [
      "  5%|▍         | 207/4321 [00:12<03:44, 18.32it/s]"
     ]
    },
    {
     "name": "stdout",
     "output_type": "stream",
     "text": [
      "[397.95511901 834.28877644 940.2773708 ]\n",
      "[1181.64187682]\n"
     ]
    },
    {
     "name": "stderr",
     "output_type": "stream",
     "text": [
      "  5%|▍         | 211/4321 [00:12<03:50, 17.87it/s]"
     ]
    },
    {
     "name": "stdout",
     "output_type": "stream",
     "text": [
      "[689.69659321]\n"
     ]
    },
    {
     "name": "stderr",
     "output_type": "stream",
     "text": [
      "  5%|▍         | 215/4321 [00:12<03:57, 17.26it/s]"
     ]
    },
    {
     "name": "stdout",
     "output_type": "stream",
     "text": [
      "[ 936.27748747  990.67721826 1181.4962682 ]\n",
      "[ 842.83346518 1267.09710161]\n",
      "[ 236.19202279  542.45579801  863.37837123 1243.49724267]\n"
     ]
    },
    {
     "name": "stderr",
     "output_type": "stream",
     "text": [
      "  5%|▌         | 225/4321 [00:13<03:53, 17.52it/s]"
     ]
    },
    {
     "name": "stdout",
     "output_type": "stream",
     "text": [
      "[]\n",
      "[1130.81851836]\n",
      "[]\n"
     ]
    },
    {
     "name": "stderr",
     "output_type": "stream",
     "text": [
      "  5%|▌         | 229/4321 [00:13<03:51, 17.65it/s]"
     ]
    },
    {
     "name": "stdout",
     "output_type": "stream",
     "text": [
      "[1162.92083308 1237.80257877]\n",
      "[295.37089854 427.5628962 ]\n"
     ]
    },
    {
     "name": "stderr",
     "output_type": "stream",
     "text": [
      "  5%|▌         | 233/4321 [00:13<03:48, 17.89it/s]"
     ]
    },
    {
     "name": "stdout",
     "output_type": "stream",
     "text": [
      "[375.30908374]\n"
     ]
    },
    {
     "name": "stderr",
     "output_type": "stream",
     "text": [
      "  6%|▌         | 239/4321 [00:14<03:49, 17.78it/s]"
     ]
    },
    {
     "name": "stdout",
     "output_type": "stream",
     "text": [
      "[ 823.87453891 1108.48431565 1207.91928275]\n",
      "[1186.12800928]\n",
      "[]\n"
     ]
    },
    {
     "name": "stderr",
     "output_type": "stream",
     "text": [
      "  6%|▌         | 245/4321 [00:14<03:57, 17.15it/s]"
     ]
    },
    {
     "name": "stdout",
     "output_type": "stream",
     "text": [
      "[]\n",
      "[]\n"
     ]
    },
    {
     "name": "stderr",
     "output_type": "stream",
     "text": [
      "  6%|▌         | 259/4321 [00:15<03:47, 17.85it/s]"
     ]
    },
    {
     "name": "stdout",
     "output_type": "stream",
     "text": [
      "[ 922.85453886 1102.54351728]\n",
      "[1268.55411956]\n",
      "[600.52687828]\n",
      "[1257.50977584]\n"
     ]
    },
    {
     "name": "stderr",
     "output_type": "stream",
     "text": [
      "  6%|▌         | 263/4321 [00:15<03:53, 17.35it/s]"
     ]
    },
    {
     "name": "stdout",
     "output_type": "stream",
     "text": [
      "[ 365.57254605  558.3785299   854.65860496 1221.62731068]\n",
      "[ 597.95373646 1251.75185119]\n",
      "[293.7090671  367.6856182  528.12649809]\n"
     ]
    },
    {
     "name": "stderr",
     "output_type": "stream",
     "text": [
      "  6%|▌         | 267/4321 [00:15<03:59, 16.90it/s]"
     ]
    },
    {
     "name": "stdout",
     "output_type": "stream",
     "text": [
      "[]\n",
      "[728.836661   876.46103595]\n",
      "[421.70282434 504.3373873 ]\n"
     ]
    },
    {
     "name": "stderr",
     "output_type": "stream",
     "text": [
      "  6%|▋         | 271/4321 [00:16<04:13, 15.97it/s]"
     ]
    },
    {
     "name": "stdout",
     "output_type": "stream",
     "text": [
      "[423.51953751 694.57061491]\n",
      "[307.11545206 407.41268873]\n"
     ]
    },
    {
     "name": "stderr",
     "output_type": "stream",
     "text": [
      "  6%|▋         | 275/4321 [00:16<04:25, 15.22it/s]"
     ]
    },
    {
     "name": "stdout",
     "output_type": "stream",
     "text": [
      "[1018.42961674 1152.30780028]\n",
      "[288.10474333]\n"
     ]
    },
    {
     "name": "stderr",
     "output_type": "stream",
     "text": [
      "  6%|▋         | 279/4321 [00:16<04:23, 15.31it/s]"
     ]
    },
    {
     "name": "stdout",
     "output_type": "stream",
     "text": [
      "[]\n",
      "[1010.31591425]\n",
      "[ 252.71527438 1092.73799898]\n",
      "[1145.12255731]\n"
     ]
    },
    {
     "name": "stderr",
     "output_type": "stream",
     "text": [
      "  7%|▋         | 283/4321 [00:16<04:23, 15.33it/s]"
     ]
    },
    {
     "name": "stdout",
     "output_type": "stream",
     "text": [
      "[ 322.23728864 1055.89822026]\n",
      "[630.7960186]\n"
     ]
    },
    {
     "name": "stderr",
     "output_type": "stream",
     "text": [
      "  7%|▋         | 287/4321 [00:17<04:21, 15.44it/s]"
     ]
    },
    {
     "name": "stdout",
     "output_type": "stream",
     "text": [
      "[1077.71364033]\n",
      "[1059.67740418 1072.27813182]\n"
     ]
    },
    {
     "name": "stderr",
     "output_type": "stream",
     "text": [
      "  7%|▋         | 291/4321 [00:17<04:17, 15.65it/s]"
     ]
    },
    {
     "name": "stdout",
     "output_type": "stream",
     "text": [
      "[1133.20802233 1247.63832871]\n",
      "[581.88990284 651.14425946 711.59826712]\n",
      "[]\n"
     ]
    },
    {
     "name": "stderr",
     "output_type": "stream",
     "text": [
      "  7%|▋         | 299/4321 [00:18<04:18, 15.56it/s]"
     ]
    },
    {
     "name": "stdout",
     "output_type": "stream",
     "text": [
      "[686.14548259 810.49552233]\n",
      "[ 466.9697056  1051.48204532 1088.64314646]\n",
      "[ 675.71728803  889.76416252  965.25040575 1129.18497383]\n",
      "[ 433.68453675  702.66887592  711.16137907  915.06085083 1053.5047638\n",
      " 1185.0111888 ]\n"
     ]
    },
    {
     "name": "stderr",
     "output_type": "stream",
     "text": [
      "  7%|▋         | 309/4321 [00:18<03:53, 17.20it/s]"
     ]
    },
    {
     "name": "stdout",
     "output_type": "stream",
     "text": [
      "[347.68554828]\n",
      "[1079.87043218]\n"
     ]
    },
    {
     "name": "stderr",
     "output_type": "stream",
     "text": [
      "  7%|▋         | 313/4321 [00:18<03:50, 17.37it/s]"
     ]
    },
    {
     "name": "stdout",
     "output_type": "stream",
     "text": [
      "[431.7103108  540.90748343]\n",
      "[656.34657831 775.51522696]\n",
      "[ 226.93094521  321.86532328  755.94412988  903.59977703 1087.19987937]\n"
     ]
    },
    {
     "name": "stderr",
     "output_type": "stream",
     "text": [
      "  7%|▋         | 317/4321 [00:19<04:00, 16.68it/s]"
     ]
    },
    {
     "name": "stdout",
     "output_type": "stream",
     "text": [
      "[832.76161426]\n",
      "[884.53527792]\n",
      "[ 729.78250111  840.07205868  954.21880251 1003.6774771  1153.67468502]\n"
     ]
    },
    {
     "name": "stderr",
     "output_type": "stream",
     "text": [
      "  7%|▋         | 321/4321 [00:19<03:58, 16.81it/s]"
     ]
    },
    {
     "name": "stdout",
     "output_type": "stream",
     "text": [
      "[488.77940328 892.39843069]\n"
     ]
    },
    {
     "name": "stderr",
     "output_type": "stream",
     "text": [
      "  8%|▊         | 325/4321 [00:19<03:50, 17.36it/s]"
     ]
    },
    {
     "name": "stdout",
     "output_type": "stream",
     "text": [
      "[ 785.98934766 1018.10284052]\n",
      "[ 639.09963486  767.42599063 1023.77363573]\n"
     ]
    },
    {
     "name": "stderr",
     "output_type": "stream",
     "text": [
      "\r",
      "  8%|▊         | 327/4321 [00:19<04:36, 14.44it/s]"
     ]
    },
    {
     "name": "stdout",
     "output_type": "stream",
     "text": [
      "[953.03190659 972.65377871]\n"
     ]
    },
    {
     "name": "stderr",
     "output_type": "stream",
     "text": [
      "  8%|▊         | 331/4321 [00:20<04:39, 14.27it/s]"
     ]
    },
    {
     "name": "stdout",
     "output_type": "stream",
     "text": [
      "[]\n",
      "[1083.09957065]\n",
      "[ 569.49938372  709.29941696  795.9196255  1079.01081423]\n"
     ]
    },
    {
     "name": "stderr",
     "output_type": "stream",
     "text": [
      "  8%|▊         | 335/4321 [00:20<04:19, 15.34it/s]"
     ]
    },
    {
     "name": "stdout",
     "output_type": "stream",
     "text": [
      "[798.79600108]\n",
      "[]\n"
     ]
    },
    {
     "name": "stderr",
     "output_type": "stream",
     "text": [
      "  8%|▊         | 339/4321 [00:20<04:28, 14.84it/s]"
     ]
    },
    {
     "name": "stdout",
     "output_type": "stream",
     "text": [
      "[]\n",
      "[ 862.22481214 1005.13659934 1006.78814869]\n",
      "[ 393.51276179 1036.70023412]\n"
     ]
    },
    {
     "name": "stderr",
     "output_type": "stream",
     "text": [
      "  8%|▊         | 345/4321 [00:20<03:59, 16.59it/s]"
     ]
    },
    {
     "name": "stdout",
     "output_type": "stream",
     "text": [
      "[]\n"
     ]
    },
    {
     "name": "stderr",
     "output_type": "stream",
     "text": [
      "  8%|▊         | 353/4321 [00:21<04:00, 16.51it/s]"
     ]
    },
    {
     "name": "stdout",
     "output_type": "stream",
     "text": [
      "[371.8365427]\n",
      "[642.05264489 631.14530462 697.41181206]\n"
     ]
    },
    {
     "name": "stderr",
     "output_type": "stream",
     "text": [
      "  8%|▊         | 359/4321 [00:21<03:46, 17.47it/s]"
     ]
    },
    {
     "name": "stdout",
     "output_type": "stream",
     "text": [
      "[1008.1509404  1218.75958151]\n",
      "[1016.82300513]\n",
      "[ 621.32313407  765.12998882  844.12015002  894.17097697 1154.54354071]\n"
     ]
    },
    {
     "name": "stderr",
     "output_type": "stream",
     "text": [
      "  8%|▊         | 363/4321 [00:21<04:01, 16.42it/s]"
     ]
    },
    {
     "name": "stdout",
     "output_type": "stream",
     "text": [
      "[ 764.24072197 1101.98149424]\n",
      "[ 586.04805182 1174.99665648]\n",
      "[]\n",
      "[]\n"
     ]
    },
    {
     "name": "stderr",
     "output_type": "stream",
     "text": [
      "  9%|▊         | 371/4321 [00:22<03:46, 17.41it/s]"
     ]
    },
    {
     "name": "stdout",
     "output_type": "stream",
     "text": [
      "[ 262.9663555   786.11588501 1263.76386302]\n"
     ]
    },
    {
     "name": "stderr",
     "output_type": "stream",
     "text": [
      "  9%|▊         | 375/4321 [00:22<03:53, 16.92it/s]"
     ]
    },
    {
     "name": "stdout",
     "output_type": "stream",
     "text": [
      "[889.53742162]\n",
      "[581.05852293]\n",
      "[1147.94742568]\n"
     ]
    },
    {
     "name": "stderr",
     "output_type": "stream",
     "text": [
      "  9%|▉         | 379/4321 [00:22<03:52, 16.99it/s]"
     ]
    },
    {
     "name": "stdout",
     "output_type": "stream",
     "text": [
      "[495.00135687 725.34435271 995.52893656]\n",
      "[389.66277862]\n"
     ]
    },
    {
     "name": "stderr",
     "output_type": "stream",
     "text": [
      "  9%|▉         | 383/4321 [00:23<03:54, 16.81it/s]"
     ]
    },
    {
     "name": "stdout",
     "output_type": "stream",
     "text": [
      "[ 316.23434455  401.39013153  555.27130905  737.97663381  904.84189337\n",
      " 1202.36578662]\n",
      "[697.23107419]\n"
     ]
    },
    {
     "name": "stderr",
     "output_type": "stream",
     "text": [
      "  9%|▉         | 388/4321 [00:23<03:40, 17.86it/s]"
     ]
    },
    {
     "name": "stdout",
     "output_type": "stream",
     "text": [
      "[ 866.48270586 1049.15860527]\n",
      "[]\n",
      "[1022.49832392 1007.09443116]\n"
     ]
    },
    {
     "name": "stderr",
     "output_type": "stream",
     "text": [
      "  9%|▉         | 396/4321 [00:23<03:34, 18.27it/s]"
     ]
    },
    {
     "name": "stdout",
     "output_type": "stream",
     "text": [
      "[489.87001889]\n",
      "[]\n"
     ]
    },
    {
     "name": "stderr",
     "output_type": "stream",
     "text": [
      "  9%|▉         | 400/4321 [00:24<03:33, 18.36it/s]"
     ]
    },
    {
     "name": "stdout",
     "output_type": "stream",
     "text": [
      "[]\n",
      "[ 377.34094938  642.63705921 1090.18062455 1231.26277774]\n",
      "[921.07399213]\n",
      "[1191.44153152]\n"
     ]
    },
    {
     "name": "stderr",
     "output_type": "stream",
     "text": [
      "  9%|▉         | 406/4321 [00:24<03:56, 16.59it/s]"
     ]
    },
    {
     "name": "stdout",
     "output_type": "stream",
     "text": [
      "[497.23184903]\n",
      "[573.35989892]\n",
      "[1012.05578962]\n"
     ]
    },
    {
     "name": "stderr",
     "output_type": "stream",
     "text": [
      " 10%|▉         | 412/4321 [00:24<03:45, 17.33it/s]"
     ]
    },
    {
     "name": "stdout",
     "output_type": "stream",
     "text": [
      "[1255.83464218]\n",
      "[]\n"
     ]
    },
    {
     "name": "stderr",
     "output_type": "stream",
     "text": [
      " 10%|▉         | 422/4321 [00:25<03:44, 17.38it/s]"
     ]
    },
    {
     "name": "stdout",
     "output_type": "stream",
     "text": [
      "[]\n"
     ]
    },
    {
     "name": "stderr",
     "output_type": "stream",
     "text": [
      " 10%|▉         | 432/4321 [00:25<03:41, 17.54it/s]"
     ]
    },
    {
     "name": "stdout",
     "output_type": "stream",
     "text": [
      "[ 618.08680817  781.2913876   823.02581514 1036.90068728 1219.87963589]\n",
      "[1009.64423245 1117.42366131]\n",
      "[]\n"
     ]
    },
    {
     "name": "stderr",
     "output_type": "stream",
     "text": [
      " 10%|█         | 436/4321 [00:26<03:41, 17.55it/s]"
     ]
    },
    {
     "name": "stdout",
     "output_type": "stream",
     "text": [
      "[355.60639841 442.78690327]\n",
      "[370.83401962 657.27200069]\n"
     ]
    },
    {
     "name": "stderr",
     "output_type": "stream",
     "text": [
      " 10%|█         | 440/4321 [00:26<03:48, 17.01it/s]"
     ]
    },
    {
     "name": "stdout",
     "output_type": "stream",
     "text": [
      "[ 285.51910308 1107.14930981]\n",
      "[ 404.16812982  872.29374016 1172.03674455]\n",
      "[]\n",
      "[1258.47919671]\n"
     ]
    },
    {
     "name": "stderr",
     "output_type": "stream",
     "text": [
      " 10%|█         | 444/4321 [00:26<03:41, 17.49it/s]"
     ]
    },
    {
     "name": "stdout",
     "output_type": "stream",
     "text": [
      "[294.23787663 413.77875406 788.22164136 928.0974519 ]\n",
      "[ 479.07717332  639.70342415  686.24059666  835.90677095  917.92045818\n",
      " 1030.25239359 1118.34096899]\n",
      "[426.0390346  559.98876484 667.59345876]\n",
      "[]\n"
     ]
    },
    {
     "name": "stderr",
     "output_type": "stream",
     "text": [
      " 10%|█         | 448/4321 [00:26<03:44, 17.25it/s]"
     ]
    },
    {
     "name": "stdout",
     "output_type": "stream",
     "text": [
      "[396.07947357 624.18554041 670.30704628 893.95261463]\n",
      "[ 801.81744112 1004.25419214 1151.54089301]\n",
      "[ 285.00604416  348.66732304  443.61321222  488.61128161  930.44950665\n",
      " 1064.39241071 1205.05214861]\n",
      "[ 262.51485754  379.70482368  910.9127381  1061.51410035]\n"
     ]
    },
    {
     "name": "stderr",
     "output_type": "stream",
     "text": [
      " 10%|█         | 452/4321 [00:27<03:41, 17.46it/s]"
     ]
    },
    {
     "name": "stdout",
     "output_type": "stream",
     "text": [
      "[236.08140394 442.91118169 503.55166954]\n",
      "[ 236.46770565  486.14320967  523.88368284  605.26463468  860.43569107\n",
      " 1045.64130947]\n"
     ]
    },
    {
     "name": "stderr",
     "output_type": "stream",
     "text": [
      " 11%|█         | 471/4321 [00:28<03:31, 18.23it/s]"
     ]
    },
    {
     "name": "stdout",
     "output_type": "stream",
     "text": [
      "[]\n"
     ]
    },
    {
     "name": "stderr",
     "output_type": "stream",
     "text": [
      " 11%|█         | 477/4321 [00:28<03:39, 17.55it/s]"
     ]
    },
    {
     "name": "stdout",
     "output_type": "stream",
     "text": [
      "[]\n",
      "[1104.00375804]\n",
      "[338.56475489]\n"
     ]
    },
    {
     "name": "stderr",
     "output_type": "stream",
     "text": [
      " 11%|█         | 483/4321 [00:28<03:44, 17.11it/s]"
     ]
    },
    {
     "name": "stdout",
     "output_type": "stream",
     "text": [
      "[370.92880008]\n",
      "[ 712.19831292  937.3273097   995.43022111 1073.62090062]\n",
      "[]\n",
      "[ 690.15611254  864.33115999  932.87416012 1110.47687906]\n"
     ]
    },
    {
     "name": "stderr",
     "output_type": "stream",
     "text": [
      " 11%|█▏        | 487/4321 [00:29<03:40, 17.35it/s]"
     ]
    },
    {
     "name": "stdout",
     "output_type": "stream",
     "text": [
      "[1107.79270971]\n",
      "[1110.41009665]\n"
     ]
    },
    {
     "name": "stderr",
     "output_type": "stream",
     "text": [
      " 11%|█▏        | 491/4321 [00:29<03:46, 16.88it/s]"
     ]
    },
    {
     "name": "stdout",
     "output_type": "stream",
     "text": [
      "[]\n",
      "[500.05866894]\n"
     ]
    },
    {
     "name": "stderr",
     "output_type": "stream",
     "text": [
      " 11%|█▏        | 496/4321 [00:29<03:37, 17.60it/s]"
     ]
    },
    {
     "name": "stdout",
     "output_type": "stream",
     "text": [
      "[983.88310916]\n"
     ]
    },
    {
     "name": "stderr",
     "output_type": "stream",
     "text": [
      " 12%|█▏        | 500/4321 [00:29<03:35, 17.76it/s]"
     ]
    },
    {
     "name": "stdout",
     "output_type": "stream",
     "text": [
      "[1068.71138995]\n"
     ]
    },
    {
     "name": "stderr",
     "output_type": "stream",
     "text": [
      " 12%|█▏        | 508/4321 [00:30<03:38, 17.46it/s]"
     ]
    },
    {
     "name": "stdout",
     "output_type": "stream",
     "text": [
      "[1211.58086405]\n",
      "[286.16713887 438.28942319 736.83119406 956.01427565]\n",
      "[775.91463406]\n"
     ]
    },
    {
     "name": "stderr",
     "output_type": "stream",
     "text": [
      " 12%|█▏        | 512/4321 [00:30<03:44, 16.95it/s]"
     ]
    },
    {
     "name": "stdout",
     "output_type": "stream",
     "text": [
      "[ 996.97227878 1048.1617422  1145.54497679]\n",
      "[574.83129747]\n",
      "[350.28806085]\n"
     ]
    },
    {
     "name": "stderr",
     "output_type": "stream",
     "text": [
      " 12%|█▏        | 516/4321 [00:30<03:29, 18.14it/s]"
     ]
    },
    {
     "name": "stdout",
     "output_type": "stream",
     "text": [
      "[ 315.3624195   786.37014485 1122.70477375]\n",
      "[]\n"
     ]
    },
    {
     "name": "stderr",
     "output_type": "stream",
     "text": [
      " 12%|█▏        | 520/4321 [00:30<03:28, 18.26it/s]"
     ]
    },
    {
     "name": "stdout",
     "output_type": "stream",
     "text": [
      "[]\n",
      "[224.65375342]\n"
     ]
    },
    {
     "name": "stderr",
     "output_type": "stream",
     "text": [
      " 12%|█▏        | 527/4321 [00:31<03:40, 17.21it/s]"
     ]
    },
    {
     "name": "stdout",
     "output_type": "stream",
     "text": [
      "[]\n",
      "[]\n"
     ]
    },
    {
     "name": "stderr",
     "output_type": "stream",
     "text": [
      " 12%|█▏        | 531/4321 [00:31<03:47, 16.69it/s]"
     ]
    },
    {
     "name": "stdout",
     "output_type": "stream",
     "text": [
      "[ 828.94100076 1116.52102439 1179.72948221]\n",
      "[ 687.434041  1109.0821094]\n",
      "[276.84933723]\n",
      "[727.63568864]\n"
     ]
    },
    {
     "name": "stderr",
     "output_type": "stream",
     "text": [
      " 12%|█▏        | 535/4321 [00:31<03:39, 17.26it/s]"
     ]
    },
    {
     "name": "stdout",
     "output_type": "stream",
     "text": [
      "[ 852.55656186  982.90819378 1093.11033088 1209.86486365]\n",
      "[340.81528519 561.34571924 776.0436824  986.40949145]\n",
      "[ 370.79953148  477.02808863  515.14441051  946.65843754 1063.45266751\n",
      " 1254.65724229]\n"
     ]
    },
    {
     "name": "stderr",
     "output_type": "stream",
     "text": [
      " 12%|█▏        | 539/4321 [00:31<03:30, 17.93it/s]"
     ]
    },
    {
     "name": "stdout",
     "output_type": "stream",
     "text": [
      "[739.81831091]\n",
      "[430.90111826 972.79699956]\n"
     ]
    },
    {
     "name": "stderr",
     "output_type": "stream",
     "text": [
      " 13%|█▎        | 547/4321 [00:32<03:31, 17.85it/s]"
     ]
    },
    {
     "name": "stdout",
     "output_type": "stream",
     "text": [
      "[1084.36257492]\n",
      "[]\n"
     ]
    },
    {
     "name": "stderr",
     "output_type": "stream",
     "text": [
      " 13%|█▎        | 553/4321 [00:32<03:40, 17.09it/s]"
     ]
    },
    {
     "name": "stdout",
     "output_type": "stream",
     "text": [
      "[690.16578483]\n",
      "[ 287.96339406  829.58879986 1091.12614212]\n",
      "[1038.33391928]\n"
     ]
    },
    {
     "name": "stderr",
     "output_type": "stream",
     "text": [
      " 13%|█▎        | 556/4321 [00:32<03:33, 17.66it/s]20-Mar-20 11:36:58 | ERROR | Wrong ROC amplitude. Unit must be uV. Returning None.\n",
      " 13%|█▎        | 558/4321 [00:33<03:37, 17.27it/s]"
     ]
    },
    {
     "name": "stdout",
     "output_type": "stream",
     "text": [
      "[927.70469688]\n",
      "[1055.34899501]\n"
     ]
    },
    {
     "name": "stderr",
     "output_type": "stream",
     "text": [
      "20-Mar-20 11:36:58 | ERROR | Wrong ROC amplitude. Unit must be uV. Returning None.\n",
      " 13%|█▎        | 560/4321 [00:33<03:36, 17.40it/s]20-Mar-20 11:36:58 | ERROR | Wrong ROC amplitude. Unit must be uV. Returning None.\n",
      "20-Mar-20 11:36:58 | ERROR | Wrong ROC amplitude. Unit must be uV. Returning None.\n",
      " 13%|█▎        | 562/4321 [00:33<03:27, 18.07it/s]20-Mar-20 11:36:58 | ERROR | Wrong ROC amplitude. Unit must be uV. Returning None.\n",
      " 13%|█▎        | 564/4321 [00:33<03:28, 18.01it/s]20-Mar-20 11:36:58 | ERROR | Wrong ROC amplitude. Unit must be uV. Returning None.\n",
      " 13%|█▎        | 566/4321 [00:33<03:31, 17.77it/s]"
     ]
    },
    {
     "name": "stdout",
     "output_type": "stream",
     "text": [
      "[]\n",
      "[510.64180704]\n"
     ]
    },
    {
     "name": "stderr",
     "output_type": "stream",
     "text": [
      " 13%|█▎        | 570/4321 [00:33<03:39, 17.07it/s]"
     ]
    },
    {
     "name": "stdout",
     "output_type": "stream",
     "text": [
      "[311.46988502]\n",
      "[ 378.82617816  527.95962983  682.1419885   990.76016717 1023.26048097\n",
      " 1150.13966663]\n",
      "[553.56699166]\n"
     ]
    },
    {
     "name": "stderr",
     "output_type": "stream",
     "text": [
      " 13%|█▎        | 574/4321 [00:33<03:31, 17.70it/s]"
     ]
    },
    {
     "name": "stdout",
     "output_type": "stream",
     "text": [
      "[1180.43010647]\n",
      "[ 840.69847312 1009.94372777 1034.41940848]\n",
      "[487.08998822]\n"
     ]
    },
    {
     "name": "stderr",
     "output_type": "stream",
     "text": [
      " 13%|█▎        | 578/4321 [00:34<03:39, 17.03it/s]"
     ]
    },
    {
     "name": "stdout",
     "output_type": "stream",
     "text": [
      "[ 457.2014578  1211.71863475]\n",
      "[1026.62880976 1040.24714306]\n",
      "[431.63507449 524.78142472 580.10222568 804.20973337]\n"
     ]
    },
    {
     "name": "stderr",
     "output_type": "stream",
     "text": [
      " 13%|█▎        | 582/4321 [00:34<03:51, 16.16it/s]"
     ]
    },
    {
     "name": "stdout",
     "output_type": "stream",
     "text": [
      "[1078.75143627]\n",
      "[297.02287166]\n",
      "[ 756.63929565 1169.69210905]\n"
     ]
    },
    {
     "name": "stderr",
     "output_type": "stream",
     "text": [
      " 14%|█▎        | 586/4321 [00:34<03:45, 16.54it/s]"
     ]
    },
    {
     "name": "stdout",
     "output_type": "stream",
     "text": [
      "[]\n",
      "[]\n"
     ]
    },
    {
     "name": "stderr",
     "output_type": "stream",
     "text": [
      " 14%|█▎        | 590/4321 [00:34<03:39, 17.01it/s]"
     ]
    },
    {
     "name": "stdout",
     "output_type": "stream",
     "text": [
      "[]\n",
      "[324.78551957]\n"
     ]
    },
    {
     "name": "stderr",
     "output_type": "stream",
     "text": [
      " 14%|█▍        | 598/4321 [00:35<03:28, 17.87it/s]"
     ]
    },
    {
     "name": "stdout",
     "output_type": "stream",
     "text": [
      "[600.05903771]\n",
      "[]\n"
     ]
    },
    {
     "name": "stderr",
     "output_type": "stream",
     "text": [
      " 14%|█▍        | 604/4321 [00:35<03:32, 17.46it/s]"
     ]
    },
    {
     "name": "stdout",
     "output_type": "stream",
     "text": [
      "[ 767.13156925 1024.33482671]\n",
      "[769.81005128 919.23245926]\n",
      "[]\n"
     ]
    },
    {
     "name": "stderr",
     "output_type": "stream",
     "text": [
      " 14%|█▍        | 608/4321 [00:35<03:41, 16.74it/s]"
     ]
    },
    {
     "name": "stdout",
     "output_type": "stream",
     "text": [
      "[]\n",
      "[1077.36473518]\n",
      "[1137.08923469]\n",
      "[]\n"
     ]
    },
    {
     "name": "stderr",
     "output_type": "stream",
     "text": [
      " 14%|█▍        | 612/4321 [00:36<03:39, 16.91it/s]"
     ]
    },
    {
     "name": "stdout",
     "output_type": "stream",
     "text": [
      "[467.78563625 518.12708359 771.93805917 858.59868698 838.17484432\n",
      " 951.6231212 ]\n",
      "[1075.04814103]\n",
      "[ 571.56335955  612.28985223  789.73023914  976.17069846 1037.54599701]\n"
     ]
    },
    {
     "name": "stderr",
     "output_type": "stream",
     "text": [
      " 14%|█▍        | 616/4321 [00:36<03:36, 17.12it/s]"
     ]
    },
    {
     "name": "stdout",
     "output_type": "stream",
     "text": [
      "[219.78661735 722.87286671 831.6475561 ]\n"
     ]
    },
    {
     "name": "stderr",
     "output_type": "stream",
     "text": [
      " 14%|█▍        | 624/4321 [00:36<03:20, 18.46it/s]"
     ]
    },
    {
     "name": "stdout",
     "output_type": "stream",
     "text": [
      "[1090.72418177]\n"
     ]
    },
    {
     "name": "stderr",
     "output_type": "stream",
     "text": [
      " 15%|█▍        | 628/4321 [00:37<03:36, 17.04it/s]"
     ]
    },
    {
     "name": "stdout",
     "output_type": "stream",
     "text": [
      "[ 360.49069768  488.96193516  701.34622767 1088.57787513]\n",
      "[ 770.78090336 1035.9847486  1058.70182522]\n",
      "[572.20586702 839.55760487 943.55506527]\n",
      "[1045.0675238  1171.21080506]\n"
     ]
    },
    {
     "name": "stderr",
     "output_type": "stream",
     "text": [
      " 15%|█▍        | 632/4321 [00:37<03:28, 17.74it/s]"
     ]
    },
    {
     "name": "stdout",
     "output_type": "stream",
     "text": [
      "[]\n",
      "[ 873.49896863 1189.23106436]\n"
     ]
    },
    {
     "name": "stderr",
     "output_type": "stream",
     "text": [
      " 15%|█▍        | 638/4321 [00:37<03:26, 17.84it/s]"
     ]
    },
    {
     "name": "stdout",
     "output_type": "stream",
     "text": [
      "[ 887.9963713  1139.25756063]\n",
      "[402.22083134]\n",
      "[ 722.57729123 1146.24732406]\n"
     ]
    },
    {
     "name": "stderr",
     "output_type": "stream",
     "text": [
      " 15%|█▍        | 644/4321 [00:38<03:34, 17.14it/s]"
     ]
    },
    {
     "name": "stdout",
     "output_type": "stream",
     "text": [
      "[654.46832806]\n",
      "[605.88049777]\n"
     ]
    },
    {
     "name": "stderr",
     "output_type": "stream",
     "text": [
      " 15%|█▍        | 648/4321 [00:38<03:30, 17.49it/s]"
     ]
    },
    {
     "name": "stdout",
     "output_type": "stream",
     "text": [
      "[504.30446549]\n",
      "[]\n"
     ]
    },
    {
     "name": "stderr",
     "output_type": "stream",
     "text": [
      " 15%|█▌        | 652/4321 [00:38<03:22, 18.12it/s]"
     ]
    },
    {
     "name": "stdout",
     "output_type": "stream",
     "text": [
      "[1275.16854721]\n",
      "[]\n"
     ]
    },
    {
     "name": "stderr",
     "output_type": "stream",
     "text": [
      " 15%|█▌        | 656/4321 [00:38<03:19, 18.34it/s]"
     ]
    },
    {
     "name": "stdout",
     "output_type": "stream",
     "text": [
      "[ 721.39757742 1100.24150253]\n"
     ]
    },
    {
     "name": "stderr",
     "output_type": "stream",
     "text": [
      " 15%|█▌        | 669/4321 [00:39<03:31, 17.29it/s]"
     ]
    },
    {
     "name": "stdout",
     "output_type": "stream",
     "text": [
      "[711.95388639 879.44672188]\n",
      "[ 881.55674696 1032.83430827]\n"
     ]
    },
    {
     "name": "stderr",
     "output_type": "stream",
     "text": [
      " 16%|█▌        | 675/4321 [00:39<03:19, 18.25it/s]"
     ]
    },
    {
     "name": "stdout",
     "output_type": "stream",
     "text": [
      "[ 614.74282725 1103.53460161]\n",
      "[ 806.20777323  895.60618591 1035.49839116]\n"
     ]
    },
    {
     "name": "stderr",
     "output_type": "stream",
     "text": [
      " 16%|█▌        | 679/4321 [00:39<03:25, 17.73it/s]"
     ]
    },
    {
     "name": "stdout",
     "output_type": "stream",
     "text": [
      "[ 354.05957104  536.2808233   618.60740104  787.3840478   924.57467552\n",
      " 1022.65938892]\n",
      "[]\n",
      "[]\n"
     ]
    },
    {
     "name": "stderr",
     "output_type": "stream",
     "text": [
      " 16%|█▌        | 683/4321 [00:40<03:20, 18.18it/s]"
     ]
    },
    {
     "name": "stdout",
     "output_type": "stream",
     "text": [
      "[883.94702876]\n",
      "[297.34533374 467.33998525]\n"
     ]
    },
    {
     "name": "stderr",
     "output_type": "stream",
     "text": [
      " 16%|█▌        | 688/4321 [00:40<04:04, 14.84it/s]"
     ]
    },
    {
     "name": "stdout",
     "output_type": "stream",
     "text": [
      "[538.33471606]\n"
     ]
    },
    {
     "name": "stderr",
     "output_type": "stream",
     "text": [
      " 16%|█▌        | 696/4321 [00:40<03:36, 16.72it/s]"
     ]
    },
    {
     "name": "stdout",
     "output_type": "stream",
     "text": [
      "[]\n",
      "[222.57815968]\n"
     ]
    },
    {
     "name": "stderr",
     "output_type": "stream",
     "text": [
      " 16%|█▌        | 702/4321 [00:41<03:28, 17.40it/s]"
     ]
    },
    {
     "name": "stdout",
     "output_type": "stream",
     "text": [
      "[215.42132423 224.19336908 402.03104582]\n",
      "[847.72849419]\n"
     ]
    },
    {
     "name": "stderr",
     "output_type": "stream",
     "text": [
      " 16%|█▋        | 706/4321 [00:41<03:33, 16.97it/s]"
     ]
    },
    {
     "name": "stdout",
     "output_type": "stream",
     "text": [
      "[]\n",
      "[376.47308469]\n",
      "[1116.08176005]\n"
     ]
    },
    {
     "name": "stderr",
     "output_type": "stream",
     "text": [
      " 17%|█▋        | 714/4321 [00:42<03:25, 17.54it/s]"
     ]
    },
    {
     "name": "stdout",
     "output_type": "stream",
     "text": [
      "[275.41247672 421.4620704  475.79517637 596.62677656]\n",
      "[529.8086047  826.33451172 932.60398614]\n"
     ]
    },
    {
     "name": "stderr",
     "output_type": "stream",
     "text": [
      " 17%|█▋        | 718/4321 [00:42<03:20, 17.99it/s]"
     ]
    },
    {
     "name": "stdout",
     "output_type": "stream",
     "text": [
      "[866.34897055]\n",
      "[414.52924125 459.15557719 638.26430772]\n",
      "[ 362.26248335  455.74777032  568.07342983  770.23863425  918.96225696\n",
      " 1001.10531981]\n"
     ]
    },
    {
     "name": "stderr",
     "output_type": "stream",
     "text": [
      " 17%|█▋        | 722/4321 [00:42<03:25, 17.54it/s]"
     ]
    },
    {
     "name": "stdout",
     "output_type": "stream",
     "text": [
      "[]\n",
      "[1055.5021904  1255.85309572]\n"
     ]
    },
    {
     "name": "stderr",
     "output_type": "stream",
     "text": [
      " 17%|█▋        | 728/4321 [00:42<03:26, 17.43it/s]"
     ]
    },
    {
     "name": "stdout",
     "output_type": "stream",
     "text": [
      "[]\n"
     ]
    },
    {
     "name": "stderr",
     "output_type": "stream",
     "text": [
      " 17%|█▋        | 736/4321 [00:43<03:14, 18.45it/s]"
     ]
    },
    {
     "name": "stdout",
     "output_type": "stream",
     "text": [
      "[]\n",
      "[ 290.12243972 1091.17620918]\n",
      "[]\n"
     ]
    },
    {
     "name": "stderr",
     "output_type": "stream",
     "text": [
      " 17%|█▋        | 740/4321 [00:43<03:25, 17.42it/s]"
     ]
    },
    {
     "name": "stdout",
     "output_type": "stream",
     "text": [
      "[590.35040499 847.7088535 ]\n",
      "[588.42206474 719.43422791 720.64232614]\n",
      "[]\n",
      "[]\n"
     ]
    },
    {
     "name": "stderr",
     "output_type": "stream",
     "text": [
      " 17%|█▋        | 746/4321 [00:43<03:28, 17.13it/s]"
     ]
    },
    {
     "name": "stdout",
     "output_type": "stream",
     "text": [
      "[]\n"
     ]
    },
    {
     "name": "stderr",
     "output_type": "stream",
     "text": [
      " 17%|█▋        | 750/4321 [00:44<03:30, 16.97it/s]"
     ]
    },
    {
     "name": "stdout",
     "output_type": "stream",
     "text": [
      "[905.22271749]\n",
      "[460.87165169 675.15932983]\n",
      "[392.28609444]\n",
      "[ 496.98651981  636.31698861 1212.86867281]\n"
     ]
    },
    {
     "name": "stderr",
     "output_type": "stream",
     "text": [
      " 17%|█▋        | 754/4321 [00:44<03:30, 16.96it/s]"
     ]
    },
    {
     "name": "stdout",
     "output_type": "stream",
     "text": [
      "[1123.16599161]\n",
      "[ 931.94959226  976.26014348 1119.31508832 1276.35673537]\n",
      "[ 447.22859798  726.2797258   756.45764286  979.7806593  1159.01252157]\n"
     ]
    },
    {
     "name": "stderr",
     "output_type": "stream",
     "text": [
      " 18%|█▊        | 758/4321 [00:44<03:23, 17.49it/s]"
     ]
    },
    {
     "name": "stdout",
     "output_type": "stream",
     "text": [
      "[]\n",
      "[478.01148149]\n"
     ]
    },
    {
     "name": "stderr",
     "output_type": "stream",
     "text": [
      " 18%|█▊        | 762/4321 [00:44<03:24, 17.44it/s]"
     ]
    },
    {
     "name": "stdout",
     "output_type": "stream",
     "text": [
      "[ 385.56633244  549.52863096 1086.85166386]\n",
      "[814.6396324]\n"
     ]
    },
    {
     "name": "stderr",
     "output_type": "stream",
     "text": [
      " 18%|█▊        | 775/4321 [00:45<03:13, 18.30it/s]"
     ]
    },
    {
     "name": "stdout",
     "output_type": "stream",
     "text": [
      "[ 462.45608988  816.15326595  998.84390558 1061.85155003]\n",
      "[1219.68836998]\n"
     ]
    },
    {
     "name": "stderr",
     "output_type": "stream",
     "text": [
      " 18%|█▊        | 779/4321 [00:45<03:19, 17.73it/s]"
     ]
    },
    {
     "name": "stdout",
     "output_type": "stream",
     "text": [
      "[281.30053245 581.56714335]\n",
      "[217.04247806 335.90020293]\n",
      "[227.87848327 284.05389088]\n"
     ]
    },
    {
     "name": "stderr",
     "output_type": "stream",
     "text": [
      " 18%|█▊        | 783/4321 [00:45<03:17, 17.95it/s]"
     ]
    },
    {
     "name": "stdout",
     "output_type": "stream",
     "text": [
      "[379.81932072]\n",
      "[615.84275061]\n",
      "[ 349.16395063  732.41952669  993.14098534  986.94869062 1088.83352563\n",
      " 1169.51907666]\n"
     ]
    },
    {
     "name": "stderr",
     "output_type": "stream",
     "text": [
      " 18%|█▊        | 787/4321 [00:46<03:22, 17.46it/s]"
     ]
    },
    {
     "name": "stdout",
     "output_type": "stream",
     "text": [
      "[ 619.00817788  820.90164803 1252.89628115]\n",
      "[ 712.47347261 1092.82974196 1137.34278497 1254.22984786]\n",
      "[647.42544288 844.75570501]\n",
      "[367.67551181 459.47545816]\n"
     ]
    },
    {
     "name": "stderr",
     "output_type": "stream",
     "text": [
      " 18%|█▊        | 795/4321 [00:46<03:25, 17.12it/s]"
     ]
    },
    {
     "name": "stdout",
     "output_type": "stream",
     "text": [
      "[435.78964139 682.32818871]\n",
      "[442.27057999 627.34730783]\n"
     ]
    },
    {
     "name": "stderr",
     "output_type": "stream",
     "text": [
      " 19%|█▊        | 800/4321 [00:46<03:19, 17.68it/s]"
     ]
    },
    {
     "name": "stdout",
     "output_type": "stream",
     "text": [
      "[1158.88885605]\n"
     ]
    },
    {
     "name": "stderr",
     "output_type": "stream",
     "text": [
      " 19%|█▊        | 804/4321 [00:47<03:25, 17.11it/s]"
     ]
    },
    {
     "name": "stdout",
     "output_type": "stream",
     "text": [
      "[ 543.79367551  555.83935298  714.70721468 1156.03123004]\n",
      "[411.56293408]\n",
      "[403.35390916 761.89493573]\n",
      "[937.08568324]\n"
     ]
    },
    {
     "name": "stderr",
     "output_type": "stream",
     "text": [
      " 19%|█▊        | 808/4321 [00:47<03:25, 17.12it/s]"
     ]
    },
    {
     "name": "stdout",
     "output_type": "stream",
     "text": [
      "[779.11974423]\n",
      "[481.01480157]\n"
     ]
    },
    {
     "name": "stderr",
     "output_type": "stream",
     "text": [
      " 19%|█▉        | 815/4321 [00:47<03:23, 17.27it/s]"
     ]
    },
    {
     "name": "stdout",
     "output_type": "stream",
     "text": [
      "[ 696.2070531  1185.53108482]\n",
      "[1137.58753702]\n"
     ]
    },
    {
     "name": "stderr",
     "output_type": "stream",
     "text": [
      " 19%|█▉        | 821/4321 [00:48<03:16, 17.79it/s]"
     ]
    },
    {
     "name": "stdout",
     "output_type": "stream",
     "text": [
      "[]\n",
      "[352.72720789 424.14075191]\n",
      "[]\n",
      "[]\n"
     ]
    },
    {
     "name": "stderr",
     "output_type": "stream",
     "text": [
      " 19%|█▉        | 827/4321 [00:48<03:14, 17.99it/s]"
     ]
    },
    {
     "name": "stdout",
     "output_type": "stream",
     "text": [
      "[1182.35286801]\n",
      "[]\n",
      "[ 365.08827885  441.2285734   696.0441184  1178.05292935]\n"
     ]
    },
    {
     "name": "stderr",
     "output_type": "stream",
     "text": [
      " 19%|█▉        | 831/4321 [00:48<03:14, 17.98it/s]"
     ]
    },
    {
     "name": "stdout",
     "output_type": "stream",
     "text": [
      "[442.12769758]\n",
      "[322.47820013 457.64214503 551.88131652 692.04606673 972.38231314]\n",
      "[ 628.05108195  722.6195486  1285.85847929]\n"
     ]
    },
    {
     "name": "stderr",
     "output_type": "stream",
     "text": [
      " 19%|█▉        | 835/4321 [00:48<03:16, 17.78it/s]"
     ]
    },
    {
     "name": "stdout",
     "output_type": "stream",
     "text": [
      "[ 440.49521913  720.83738564  845.4566746  1046.00935746 1128.00375037\n",
      " 1230.4553185 ]\n",
      "[]\n"
     ]
    },
    {
     "name": "stderr",
     "output_type": "stream",
     "text": [
      " 19%|█▉        | 841/4321 [00:49<03:21, 17.28it/s]"
     ]
    },
    {
     "name": "stdout",
     "output_type": "stream",
     "text": [
      "[1198.97628073]\n",
      "[ 654.06013547  786.77804352  867.6954328  1226.24196659]\n"
     ]
    },
    {
     "name": "stderr",
     "output_type": "stream",
     "text": [
      " 20%|█▉        | 845/4321 [00:49<03:14, 17.91it/s]"
     ]
    },
    {
     "name": "stdout",
     "output_type": "stream",
     "text": [
      "[280.48778824 389.89330916]\n",
      "[]\n"
     ]
    },
    {
     "name": "stderr",
     "output_type": "stream",
     "text": [
      " 20%|█▉        | 849/4321 [00:49<03:11, 18.09it/s]"
     ]
    },
    {
     "name": "stdout",
     "output_type": "stream",
     "text": [
      "[]\n"
     ]
    },
    {
     "name": "stderr",
     "output_type": "stream",
     "text": [
      " 20%|█▉        | 858/4321 [00:50<03:08, 18.35it/s]"
     ]
    },
    {
     "name": "stdout",
     "output_type": "stream",
     "text": [
      "[]\n"
     ]
    },
    {
     "name": "stderr",
     "output_type": "stream",
     "text": [
      " 20%|█▉        | 862/4321 [00:50<03:19, 17.37it/s]"
     ]
    },
    {
     "name": "stdout",
     "output_type": "stream",
     "text": [
      "[839.37617645]\n",
      "[]\n"
     ]
    },
    {
     "name": "stderr",
     "output_type": "stream",
     "text": [
      " 20%|██        | 868/4321 [00:50<03:21, 17.12it/s]"
     ]
    },
    {
     "name": "stdout",
     "output_type": "stream",
     "text": [
      "[288.47442256 349.26342236]\n",
      "[366.97983433]\n"
     ]
    },
    {
     "name": "stderr",
     "output_type": "stream",
     "text": [
      " 20%|██        | 874/4321 [00:51<03:24, 16.87it/s]"
     ]
    },
    {
     "name": "stdout",
     "output_type": "stream",
     "text": [
      "[1153.05170527]\n",
      "[460.89809599]\n"
     ]
    },
    {
     "name": "stderr",
     "output_type": "stream",
     "text": [
      " 20%|██        | 878/4321 [00:51<04:31, 12.67it/s]"
     ]
    },
    {
     "name": "stdout",
     "output_type": "stream",
     "text": [
      "[776.57390694]\n"
     ]
    },
    {
     "name": "stderr",
     "output_type": "stream",
     "text": [
      " 20%|██        | 882/4321 [00:51<04:38, 12.34it/s]"
     ]
    },
    {
     "name": "stdout",
     "output_type": "stream",
     "text": [
      "[ 786.61846055  836.01153014 1156.94156142 1192.38819403]\n"
     ]
    },
    {
     "name": "stderr",
     "output_type": "stream",
     "text": [
      " 21%|██        | 886/4321 [00:52<04:32, 12.59it/s]"
     ]
    },
    {
     "name": "stdout",
     "output_type": "stream",
     "text": [
      "[ 615.7544755   688.89874236  781.80371866 1054.60936889 1189.16222336]\n"
     ]
    },
    {
     "name": "stderr",
     "output_type": "stream",
     "text": [
      " 21%|██        | 898/4321 [00:52<03:29, 16.31it/s]"
     ]
    },
    {
     "name": "stdout",
     "output_type": "stream",
     "text": [
      "[704.17747559]\n",
      "[]\n"
     ]
    },
    {
     "name": "stderr",
     "output_type": "stream",
     "text": [
      " 21%|██        | 902/4321 [00:53<03:24, 16.75it/s]"
     ]
    },
    {
     "name": "stdout",
     "output_type": "stream",
     "text": [
      "[ 984.64487499 1242.27316267]\n",
      "[1013.04912508 1085.95675107 1166.14211455]\n"
     ]
    },
    {
     "name": "stderr",
     "output_type": "stream",
     "text": [
      " 21%|██        | 906/4321 [00:53<03:20, 17.06it/s]"
     ]
    },
    {
     "name": "stdout",
     "output_type": "stream",
     "text": [
      "[1136.87592351]\n"
     ]
    },
    {
     "name": "stderr",
     "output_type": "stream",
     "text": [
      " 21%|██        | 912/4321 [00:53<03:14, 17.56it/s]"
     ]
    },
    {
     "name": "stdout",
     "output_type": "stream",
     "text": [
      "[245.27838618 348.95488815 392.78006258 752.54727167]\n",
      "[405.29407299]\n",
      "[303.77879868]\n"
     ]
    },
    {
     "name": "stderr",
     "output_type": "stream",
     "text": [
      " 21%|██        | 916/4321 [00:53<03:10, 17.91it/s]"
     ]
    },
    {
     "name": "stdout",
     "output_type": "stream",
     "text": [
      "[287.96538446 405.43525042 511.97528697]\n",
      "[498.35048341]\n"
     ]
    },
    {
     "name": "stderr",
     "output_type": "stream",
     "text": [
      " 21%|██▏       | 924/4321 [00:54<03:16, 17.26it/s]"
     ]
    },
    {
     "name": "stdout",
     "output_type": "stream",
     "text": [
      "[]\n",
      "[ 966.16647567 1012.24190415]\n",
      "[280.00481571 419.30908519 423.69084605 606.63321663 809.8368705 ]\n",
      "[1095.24961996]\n"
     ]
    },
    {
     "name": "stderr",
     "output_type": "stream",
     "text": [
      " 21%|██▏       | 928/4321 [00:54<03:12, 17.61it/s]"
     ]
    },
    {
     "name": "stdout",
     "output_type": "stream",
     "text": [
      "[ 582.05834802 1111.2332088 ]\n",
      "[ 899.27674482  987.12516723 1178.37966147]\n",
      "[741.72262378]\n",
      "[]\n"
     ]
    },
    {
     "name": "stderr",
     "output_type": "stream",
     "text": [
      " 22%|██▏       | 932/4321 [00:54<03:22, 16.72it/s]"
     ]
    },
    {
     "name": "stdout",
     "output_type": "stream",
     "text": [
      "[763.35862789 892.65866668]\n",
      "[433.72257479]\n"
     ]
    },
    {
     "name": "stderr",
     "output_type": "stream",
     "text": [
      " 22%|██▏       | 936/4321 [00:55<03:26, 16.38it/s]"
     ]
    },
    {
     "name": "stdout",
     "output_type": "stream",
     "text": [
      "[ 297.43894639  782.91773592  936.9532804  1075.7259131  1246.23988317]\n",
      "[323.18999925 526.98254599 847.07625763 899.9111506 ]\n"
     ]
    },
    {
     "name": "stderr",
     "output_type": "stream",
     "text": [
      " 22%|██▏       | 940/4321 [00:55<03:24, 16.56it/s]"
     ]
    },
    {
     "name": "stdout",
     "output_type": "stream",
     "text": [
      "[910.40682718]\n",
      "[1028.72668061]\n",
      "[762.20359981]\n",
      "[1190.09388485]\n"
     ]
    },
    {
     "name": "stderr",
     "output_type": "stream",
     "text": [
      " 22%|██▏       | 944/4321 [00:55<03:18, 16.97it/s]"
     ]
    },
    {
     "name": "stdout",
     "output_type": "stream",
     "text": [
      "[1015.84954024 1207.35463112]\n",
      "[715.54345279 892.99900277]\n"
     ]
    },
    {
     "name": "stderr",
     "output_type": "stream",
     "text": [
      "\r",
      " 22%|██▏       | 946/4321 [00:55<03:18, 16.96it/s]"
     ]
    },
    {
     "name": "stdout",
     "output_type": "stream",
     "text": [
      "[535.86175891]\n",
      "[882.44050597]\n"
     ]
    },
    {
     "name": "stderr",
     "output_type": "stream",
     "text": [
      " 22%|██▏       | 950/4321 [00:56<04:30, 12.45it/s]"
     ]
    },
    {
     "name": "stdout",
     "output_type": "stream",
     "text": [
      "[691.96117434 801.40808128 871.9731045 ]\n",
      "[1208.71331144]\n"
     ]
    },
    {
     "name": "stderr",
     "output_type": "stream",
     "text": [
      " 22%|██▏       | 954/4321 [00:56<03:51, 14.56it/s]"
     ]
    },
    {
     "name": "stdout",
     "output_type": "stream",
     "text": [
      "[]\n"
     ]
    },
    {
     "name": "stderr",
     "output_type": "stream",
     "text": [
      " 22%|██▏       | 958/4321 [00:56<03:25, 16.38it/s]"
     ]
    },
    {
     "name": "stdout",
     "output_type": "stream",
     "text": [
      "[ 628.24399401 1153.68554912]\n",
      "[]\n"
     ]
    },
    {
     "name": "stderr",
     "output_type": "stream",
     "text": [
      " 22%|██▏       | 964/4321 [00:56<03:19, 16.80it/s]"
     ]
    },
    {
     "name": "stdout",
     "output_type": "stream",
     "text": [
      "[ 948.74144513 1164.05375693]\n",
      "[ 660.5915007  1059.64972349]\n",
      "[470.38649001 503.30633426 689.68931042]\n"
     ]
    },
    {
     "name": "stderr",
     "output_type": "stream",
     "text": [
      " 22%|██▏       | 968/4321 [00:57<03:12, 17.40it/s]"
     ]
    },
    {
     "name": "stdout",
     "output_type": "stream",
     "text": [
      "[]\n"
     ]
    },
    {
     "name": "stderr",
     "output_type": "stream",
     "text": [
      " 22%|██▏       | 972/4321 [00:57<03:06, 17.92it/s]"
     ]
    },
    {
     "name": "stdout",
     "output_type": "stream",
     "text": [
      "[]\n"
     ]
    },
    {
     "name": "stderr",
     "output_type": "stream",
     "text": [
      " 23%|██▎       | 976/4321 [00:57<03:16, 17.02it/s]"
     ]
    },
    {
     "name": "stdout",
     "output_type": "stream",
     "text": [
      "[731.48618534]\n",
      "[]\n",
      "[389.07892796]\n",
      "[ 522.98928367  757.75301876  815.64988348  908.99798425  981.69932281\n",
      " 1220.8760078 ]\n"
     ]
    },
    {
     "name": "stderr",
     "output_type": "stream",
     "text": [
      " 23%|██▎       | 980/4321 [00:57<03:31, 15.76it/s]"
     ]
    },
    {
     "name": "stdout",
     "output_type": "stream",
     "text": [
      "[ 281.21568383  389.74000197  568.28078332 1038.64051718]\n",
      "[ 633.61979057  665.22987788 1175.23294417 1269.72615895]\n"
     ]
    },
    {
     "name": "stderr",
     "output_type": "stream",
     "text": [
      "\r",
      " 23%|██▎       | 982/4321 [00:58<04:29, 12.40it/s]"
     ]
    },
    {
     "name": "stdout",
     "output_type": "stream",
     "text": [
      "[392.0728551  500.09504754]\n",
      "[1189.4213008]\n"
     ]
    },
    {
     "name": "stderr",
     "output_type": "stream",
     "text": [
      " 23%|██▎       | 986/4321 [00:58<04:00, 13.87it/s]"
     ]
    },
    {
     "name": "stdout",
     "output_type": "stream",
     "text": [
      "[]\n",
      "[291.06603221 313.14505636 729.05283973]\n",
      "[649.57482582 794.17448971]\n"
     ]
    },
    {
     "name": "stderr",
     "output_type": "stream",
     "text": [
      " 23%|██▎       | 992/4321 [00:58<03:45, 14.79it/s]"
     ]
    },
    {
     "name": "stdout",
     "output_type": "stream",
     "text": [
      "[703.96660881 886.0509848 ]\n",
      "[610.08613361]\n",
      "[481.95682886 658.34941853 764.09370238 838.65027038 957.41538947]\n"
     ]
    },
    {
     "name": "stderr",
     "output_type": "stream",
     "text": [
      " 23%|██▎       | 996/4321 [00:58<03:27, 15.99it/s]"
     ]
    },
    {
     "name": "stdout",
     "output_type": "stream",
     "text": [
      "[ 949.4578913  1182.00688336]\n",
      "[]\n",
      "[ 425.51994606 1000.52450031]\n"
     ]
    },
    {
     "name": "stderr",
     "output_type": "stream",
     "text": [
      " 23%|██▎       | 1000/4321 [00:59<03:27, 15.99it/s]"
     ]
    },
    {
     "name": "stdout",
     "output_type": "stream",
     "text": [
      "[1192.97978906]\n",
      "[408.09840565]\n",
      "[360.25613455 481.31498768 480.95930837 697.21778333]\n"
     ]
    },
    {
     "name": "stderr",
     "output_type": "stream",
     "text": [
      " 23%|██▎       | 1004/4321 [00:59<03:24, 16.22it/s]"
     ]
    },
    {
     "name": "stdout",
     "output_type": "stream",
     "text": [
      "[709.17895851 917.06198049 986.10366135]\n",
      "[609.76242898]\n",
      "[649.37364267]\n",
      "[723.67440106 791.03140133]\n"
     ]
    },
    {
     "name": "stderr",
     "output_type": "stream",
     "text": [
      " 23%|██▎       | 1008/4321 [00:59<03:27, 15.95it/s]"
     ]
    },
    {
     "name": "stdout",
     "output_type": "stream",
     "text": [
      "[ 963.96622278 1125.16681786]\n",
      "[602.17608686 759.26361188]\n",
      "[]\n"
     ]
    },
    {
     "name": "stderr",
     "output_type": "stream",
     "text": [
      " 23%|██▎       | 1012/4321 [00:59<03:26, 16.05it/s]"
     ]
    },
    {
     "name": "stdout",
     "output_type": "stream",
     "text": [
      "[ 283.79903719  818.45350703  908.45961933 1001.70711124]\n",
      "[893.93571967]\n",
      "[529.8255775]\n"
     ]
    },
    {
     "name": "stderr",
     "output_type": "stream",
     "text": [
      " 24%|██▎       | 1020/4321 [01:00<03:19, 16.53it/s]"
     ]
    },
    {
     "name": "stdout",
     "output_type": "stream",
     "text": [
      "[276.93070566 499.51326114]\n",
      "[524.90173629]\n"
     ]
    },
    {
     "name": "stderr",
     "output_type": "stream",
     "text": [
      " 24%|██▎       | 1024/4321 [01:00<03:23, 16.20it/s]"
     ]
    },
    {
     "name": "stdout",
     "output_type": "stream",
     "text": [
      "[373.413975   557.06257986]\n",
      "[368.3878409  530.79488207]\n"
     ]
    },
    {
     "name": "stderr",
     "output_type": "stream",
     "text": [
      " 24%|██▍       | 1030/4321 [01:01<03:22, 16.23it/s]"
     ]
    },
    {
     "name": "stdout",
     "output_type": "stream",
     "text": [
      "[ 304.35925817  460.65556128 1124.38583941 1237.42700279]\n",
      "[474.58117362]\n",
      "[]\n"
     ]
    },
    {
     "name": "stderr",
     "output_type": "stream",
     "text": [
      " 24%|██▍       | 1036/4321 [01:01<03:19, 16.48it/s]"
     ]
    },
    {
     "name": "stdout",
     "output_type": "stream",
     "text": [
      "[263.457936   313.69961004 637.12225261 761.50678623]\n",
      "[590.00073168]\n",
      "[268.47664874 358.38783372 741.08664329]\n",
      "[761.95465834 873.94586685]\n"
     ]
    },
    {
     "name": "stderr",
     "output_type": "stream",
     "text": [
      " 24%|██▍       | 1042/4321 [01:01<03:12, 17.00it/s]"
     ]
    },
    {
     "name": "stdout",
     "output_type": "stream",
     "text": [
      "[]\n",
      "[]\n",
      "[]\n"
     ]
    },
    {
     "name": "stderr",
     "output_type": "stream",
     "text": [
      " 24%|██▍       | 1048/4321 [01:02<03:07, 17.45it/s]"
     ]
    },
    {
     "name": "stdout",
     "output_type": "stream",
     "text": [
      "[]\n",
      "[]\n"
     ]
    },
    {
     "name": "stderr",
     "output_type": "stream",
     "text": [
      " 24%|██▍       | 1056/4321 [01:02<03:08, 17.35it/s]"
     ]
    },
    {
     "name": "stdout",
     "output_type": "stream",
     "text": [
      "[]\n",
      "[277.58517146 358.05995562]\n"
     ]
    },
    {
     "name": "stderr",
     "output_type": "stream",
     "text": [
      " 25%|██▍       | 1060/4321 [01:02<03:07, 17.39it/s]"
     ]
    },
    {
     "name": "stdout",
     "output_type": "stream",
     "text": [
      "[449.96965301 613.16613117]\n",
      "[1261.53098277]\n"
     ]
    },
    {
     "name": "stderr",
     "output_type": "stream",
     "text": [
      " 25%|██▍       | 1064/4321 [01:02<03:17, 16.53it/s]"
     ]
    },
    {
     "name": "stdout",
     "output_type": "stream",
     "text": [
      "[1223.64478739]\n",
      "[]\n",
      "[1219.90629484]\n"
     ]
    },
    {
     "name": "stderr",
     "output_type": "stream",
     "text": [
      " 25%|██▍       | 1068/4321 [01:03<03:17, 16.46it/s]"
     ]
    },
    {
     "name": "stdout",
     "output_type": "stream",
     "text": [
      "[1150.46954863 1227.969747  ]\n",
      "[]\n"
     ]
    },
    {
     "name": "stderr",
     "output_type": "stream",
     "text": [
      " 25%|██▍       | 1072/4321 [01:03<03:16, 16.53it/s]"
     ]
    },
    {
     "name": "stdout",
     "output_type": "stream",
     "text": [
      "[642.79182092 967.48520349]\n",
      "[]\n",
      "[ 428.76168687  606.99005663  965.67686625 1076.13476781]\n"
     ]
    },
    {
     "name": "stderr",
     "output_type": "stream",
     "text": [
      " 25%|██▍       | 1078/4321 [01:03<03:15, 16.60it/s]"
     ]
    },
    {
     "name": "stdout",
     "output_type": "stream",
     "text": [
      "[ 696.72831937  777.72308631  830.56426061  983.72860789 1053.01313965]\n",
      "[ 626.62713903 1248.97560742]\n",
      "[]\n"
     ]
    },
    {
     "name": "stderr",
     "output_type": "stream",
     "text": [
      " 25%|██▌       | 1090/4321 [01:04<03:12, 16.80it/s]"
     ]
    },
    {
     "name": "stdout",
     "output_type": "stream",
     "text": [
      "[ 286.93685912  391.38396998  471.49399845  460.89576114  695.66568784\n",
      " 1096.08972868 1207.05591583]\n"
     ]
    },
    {
     "name": "stderr",
     "output_type": "stream",
     "text": [
      " 25%|██▌       | 1094/4321 [01:04<03:15, 16.47it/s]"
     ]
    },
    {
     "name": "stdout",
     "output_type": "stream",
     "text": [
      "[ 318.50366047  713.29376264  826.17065743 1040.81759739 1205.07031249]\n",
      "[ 786.24962729 1206.9347947 ]\n",
      "[ 997.53344981 1274.97673677]\n",
      "[259.40728346 355.34381004]\n"
     ]
    },
    {
     "name": "stderr",
     "output_type": "stream",
     "text": [
      " 25%|██▌       | 1098/4321 [01:05<03:17, 16.32it/s]"
     ]
    },
    {
     "name": "stdout",
     "output_type": "stream",
     "text": [
      "[1050.3462855]\n",
      "[567.40830324 834.44404541]\n",
      "[ 296.95047626  654.97996156 1034.71012996]\n",
      "[ 492.35092479 1083.3244231 ]\n"
     ]
    },
    {
     "name": "stderr",
     "output_type": "stream",
     "text": [
      " 26%|██▌       | 1104/4321 [01:05<03:08, 17.08it/s]"
     ]
    },
    {
     "name": "stdout",
     "output_type": "stream",
     "text": [
      "[835.27630421]\n",
      "[292.99419073]\n",
      "[1057.62909935 1261.63180834]\n"
     ]
    },
    {
     "name": "stderr",
     "output_type": "stream",
     "text": [
      " 26%|██▌       | 1108/4321 [01:05<03:13, 16.62it/s]"
     ]
    },
    {
     "name": "stdout",
     "output_type": "stream",
     "text": [
      "[618.29179618]\n",
      "[]\n",
      "[ 464.1712861 1180.2962121]\n"
     ]
    },
    {
     "name": "stderr",
     "output_type": "stream",
     "text": [
      " 26%|██▌       | 1112/4321 [01:05<03:16, 16.33it/s]"
     ]
    },
    {
     "name": "stdout",
     "output_type": "stream",
     "text": [
      "[]\n",
      "[ 519.19302164  713.48473712  884.84146821  998.60568874 1141.51951666]\n",
      "[ 249.98179909  338.22946618  450.4745539   788.89401443 1104.40910075]\n"
     ]
    },
    {
     "name": "stderr",
     "output_type": "stream",
     "text": [
      " 26%|██▌       | 1116/4321 [01:06<03:17, 16.23it/s]"
     ]
    },
    {
     "name": "stdout",
     "output_type": "stream",
     "text": [
      "[471.58444864]\n",
      "[953.53766428]\n",
      "[]\n",
      "[336.55204559 502.26176289 552.31907587]\n"
     ]
    },
    {
     "name": "stderr",
     "output_type": "stream",
     "text": [
      " 26%|██▌       | 1120/4321 [01:06<03:15, 16.37it/s]"
     ]
    },
    {
     "name": "stdout",
     "output_type": "stream",
     "text": [
      "[737.70324483]\n",
      "[678.91971539]\n"
     ]
    },
    {
     "name": "stderr",
     "output_type": "stream",
     "text": [
      " 26%|██▌       | 1126/4321 [01:06<03:14, 16.42it/s]"
     ]
    },
    {
     "name": "stdout",
     "output_type": "stream",
     "text": [
      "[336.894471   957.40960544]\n",
      "[517.94009371 670.41818153]\n",
      "[1143.05063846]\n"
     ]
    },
    {
     "name": "stderr",
     "output_type": "stream",
     "text": [
      " 26%|██▌       | 1130/4321 [01:06<03:15, 16.34it/s]"
     ]
    },
    {
     "name": "stdout",
     "output_type": "stream",
     "text": [
      "[1095.62586047 1186.06364256]\n",
      "[634.04339674]\n"
     ]
    },
    {
     "name": "stderr",
     "output_type": "stream",
     "text": [
      " 26%|██▌       | 1134/4321 [01:07<03:13, 16.46it/s]"
     ]
    },
    {
     "name": "stdout",
     "output_type": "stream",
     "text": [
      "[ 356.49534816  560.5226783  1087.24016112]\n",
      "[445.93939085 624.93846978]\n",
      "[246.45963741]\n",
      "[301.2357713 352.3517096]\n"
     ]
    },
    {
     "name": "stderr",
     "output_type": "stream",
     "text": [
      " 26%|██▋       | 1138/4321 [01:07<03:13, 16.42it/s]"
     ]
    },
    {
     "name": "stdout",
     "output_type": "stream",
     "text": [
      "[ 257.26490148 1034.05132828 1036.60970946]\n",
      "[1225.52007405]\n",
      "[262.40615026 991.69317549]\n"
     ]
    },
    {
     "name": "stderr",
     "output_type": "stream",
     "text": [
      " 26%|██▋       | 1142/4321 [01:07<03:09, 16.77it/s]"
     ]
    },
    {
     "name": "stdout",
     "output_type": "stream",
     "text": [
      "[ 549.60808582  843.68431528 1152.60378532]\n",
      "[970.04113119]\n"
     ]
    },
    {
     "name": "stderr",
     "output_type": "stream",
     "text": [
      " 27%|██▋       | 1148/4321 [01:08<03:08, 16.88it/s]"
     ]
    },
    {
     "name": "stdout",
     "output_type": "stream",
     "text": [
      "[ 312.85277645  494.28083163  761.98648502  900.56725173 1060.91275685]\n",
      "[295.84451336]\n",
      "[]\n"
     ]
    },
    {
     "name": "stderr",
     "output_type": "stream",
     "text": [
      " 27%|██▋       | 1152/4321 [01:08<03:07, 16.86it/s]"
     ]
    },
    {
     "name": "stdout",
     "output_type": "stream",
     "text": [
      "[1195.27007961]\n",
      "[1006.57825609]\n",
      "[529.54544018]\n"
     ]
    },
    {
     "name": "stderr",
     "output_type": "stream",
     "text": [
      " 27%|██▋       | 1158/4321 [01:08<03:04, 17.10it/s]"
     ]
    },
    {
     "name": "stdout",
     "output_type": "stream",
     "text": [
      "[288.16407502 265.92762915]\n",
      "[1112.44257789 1227.9595649 ]\n",
      "[668.34165067]\n"
     ]
    },
    {
     "name": "stderr",
     "output_type": "stream",
     "text": [
      " 27%|██▋       | 1162/4321 [01:08<03:05, 17.00it/s]"
     ]
    },
    {
     "name": "stdout",
     "output_type": "stream",
     "text": [
      "[ 222.774015    992.22642036 1087.57171142]\n",
      "[830.19052006]\n"
     ]
    },
    {
     "name": "stderr",
     "output_type": "stream",
     "text": [
      " 27%|██▋       | 1166/4321 [01:09<03:07, 16.84it/s]"
     ]
    },
    {
     "name": "stdout",
     "output_type": "stream",
     "text": [
      "[792.99336712]\n",
      "[471.30706287 495.2549665  572.44425391]\n",
      "[814.0115938]\n",
      "[ 859.77916105  980.75276981 1143.83355916]\n"
     ]
    },
    {
     "name": "stderr",
     "output_type": "stream",
     "text": [
      " 27%|██▋       | 1170/4321 [01:09<03:13, 16.31it/s]"
     ]
    },
    {
     "name": "stdout",
     "output_type": "stream",
     "text": [
      "[1013.21430833]\n"
     ]
    },
    {
     "name": "stderr",
     "output_type": "stream",
     "text": [
      " 27%|██▋       | 1180/4321 [01:09<03:03, 17.10it/s]"
     ]
    },
    {
     "name": "stdout",
     "output_type": "stream",
     "text": [
      "[]\n",
      "[]\n"
     ]
    },
    {
     "name": "stderr",
     "output_type": "stream",
     "text": [
      " 27%|██▋       | 1186/4321 [01:10<02:54, 17.96it/s]"
     ]
    },
    {
     "name": "stdout",
     "output_type": "stream",
     "text": [
      "[1168.00082686]\n",
      "[1104.86706953]\n"
     ]
    },
    {
     "name": "stderr",
     "output_type": "stream",
     "text": [
      " 28%|██▊       | 1192/4321 [01:10<02:59, 17.39it/s]"
     ]
    },
    {
     "name": "stdout",
     "output_type": "stream",
     "text": [
      "[602.11024054]\n",
      "[]\n"
     ]
    },
    {
     "name": "stderr",
     "output_type": "stream",
     "text": [
      " 28%|██▊       | 1200/4321 [01:11<03:06, 16.77it/s]"
     ]
    },
    {
     "name": "stdout",
     "output_type": "stream",
     "text": [
      "[ 264.35226303  278.19994706  369.14300401 1142.84496918]\n",
      "[1170.67441546 1207.06026681]\n"
     ]
    },
    {
     "name": "stderr",
     "output_type": "stream",
     "text": [
      " 28%|██▊       | 1206/4321 [01:11<03:05, 16.75it/s]"
     ]
    },
    {
     "name": "stdout",
     "output_type": "stream",
     "text": [
      "[]\n",
      "[379.74251145]\n",
      "[1208.65665449]\n"
     ]
    },
    {
     "name": "stderr",
     "output_type": "stream",
     "text": [
      " 28%|██▊       | 1210/4321 [01:11<03:04, 16.87it/s]"
     ]
    },
    {
     "name": "stdout",
     "output_type": "stream",
     "text": [
      "[1240.38816311]\n",
      "[600.17780209 772.09238281]\n",
      "[ 504.97740845  555.96747285  630.04616168  742.80246784  786.21706752\n",
      "  828.84295221 1170.03537553]\n",
      "[931.81153493]\n"
     ]
    },
    {
     "name": "stderr",
     "output_type": "stream",
     "text": [
      " 28%|██▊       | 1214/4321 [01:11<03:07, 16.58it/s]"
     ]
    },
    {
     "name": "stdout",
     "output_type": "stream",
     "text": [
      "[1240.0523183]\n",
      "[ 979.15879245 1144.21791157]\n",
      "[]\n"
     ]
    },
    {
     "name": "stderr",
     "output_type": "stream",
     "text": [
      " 28%|██▊       | 1220/4321 [01:12<03:02, 17.01it/s]"
     ]
    },
    {
     "name": "stdout",
     "output_type": "stream",
     "text": [
      "[552.27433656]\n",
      "[631.33518385]\n"
     ]
    },
    {
     "name": "stderr",
     "output_type": "stream",
     "text": [
      " 28%|██▊       | 1230/4321 [01:12<03:02, 16.89it/s]"
     ]
    },
    {
     "name": "stdout",
     "output_type": "stream",
     "text": [
      "[346.64655117 441.51648188]\n",
      "[]\n",
      "[527.63924235 611.44022264]\n"
     ]
    },
    {
     "name": "stderr",
     "output_type": "stream",
     "text": [
      " 29%|██▊       | 1234/4321 [01:13<03:12, 16.00it/s]"
     ]
    },
    {
     "name": "stdout",
     "output_type": "stream",
     "text": [
      "[]\n",
      "[1232.85063319]\n",
      "[488.7532271]\n"
     ]
    },
    {
     "name": "stderr",
     "output_type": "stream",
     "text": [
      " 29%|██▊       | 1238/4321 [01:13<03:12, 15.98it/s]"
     ]
    },
    {
     "name": "stdout",
     "output_type": "stream",
     "text": [
      "[]\n",
      "[282.00471871]\n"
     ]
    },
    {
     "name": "stderr",
     "output_type": "stream",
     "text": [
      " 29%|██▉       | 1244/4321 [01:13<03:06, 16.53it/s]"
     ]
    },
    {
     "name": "stdout",
     "output_type": "stream",
     "text": [
      "[862.62912649]\n",
      "[371.91060288 419.7545152  493.54667673 729.58070065 904.29082114]\n",
      "[305.22123555]\n"
     ]
    },
    {
     "name": "stderr",
     "output_type": "stream",
     "text": [
      " 29%|██▉       | 1252/4321 [01:14<02:56, 17.36it/s]"
     ]
    },
    {
     "name": "stdout",
     "output_type": "stream",
     "text": [
      "[ 583.2201368   702.76487366  781.51971412 1127.64286929 1220.65077111]\n",
      "[833.8992195]\n",
      "[646.63302905]\n"
     ]
    },
    {
     "name": "stderr",
     "output_type": "stream",
     "text": [
      " 29%|██▉       | 1256/4321 [01:14<03:03, 16.72it/s]"
     ]
    },
    {
     "name": "stdout",
     "output_type": "stream",
     "text": [
      "[ 780.85838174  876.12137843 1007.92711947]\n",
      "[]\n",
      "[661.7067886]\n"
     ]
    },
    {
     "name": "stderr",
     "output_type": "stream",
     "text": [
      " 29%|██▉       | 1260/4321 [01:14<03:11, 15.98it/s]"
     ]
    },
    {
     "name": "stdout",
     "output_type": "stream",
     "text": [
      "[]\n",
      "[785.61450223]\n",
      "[276.34418134]\n",
      "[252.97246609]\n"
     ]
    },
    {
     "name": "stderr",
     "output_type": "stream",
     "text": [
      " 29%|██▉       | 1264/4321 [01:14<03:13, 15.78it/s]"
     ]
    },
    {
     "name": "stdout",
     "output_type": "stream",
     "text": [
      "[1126.81126451]\n",
      "[ 651.8066369   688.56400001  905.449289   1138.37097324]\n"
     ]
    },
    {
     "name": "stderr",
     "output_type": "stream",
     "text": [
      " 29%|██▉       | 1268/4321 [01:15<03:09, 16.08it/s]"
     ]
    },
    {
     "name": "stdout",
     "output_type": "stream",
     "text": [
      "[624.4558388]\n",
      "[660.61399343]\n"
     ]
    },
    {
     "name": "stderr",
     "output_type": "stream",
     "text": [
      " 29%|██▉       | 1272/4321 [01:15<03:07, 16.23it/s]"
     ]
    },
    {
     "name": "stdout",
     "output_type": "stream",
     "text": [
      "[397.55318632 444.53128773]\n",
      "[]\n"
     ]
    },
    {
     "name": "stderr",
     "output_type": "stream",
     "text": [
      " 30%|██▉       | 1280/4321 [01:15<03:02, 16.68it/s]"
     ]
    },
    {
     "name": "stdout",
     "output_type": "stream",
     "text": [
      "[400.18604854]\n"
     ]
    },
    {
     "name": "stderr",
     "output_type": "stream",
     "text": [
      " 30%|██▉       | 1288/4321 [01:16<03:07, 16.14it/s]"
     ]
    },
    {
     "name": "stdout",
     "output_type": "stream",
     "text": [
      "[]\n",
      "[563.10409453]\n",
      "[608.72812481]\n"
     ]
    },
    {
     "name": "stderr",
     "output_type": "stream",
     "text": [
      " 30%|██▉       | 1292/4321 [01:16<03:03, 16.48it/s]"
     ]
    },
    {
     "name": "stdout",
     "output_type": "stream",
     "text": [
      "[ 451.19746525  556.3749697   793.25391547 1175.22220418]\n",
      "[]\n",
      "[641.24880633]\n"
     ]
    },
    {
     "name": "stderr",
     "output_type": "stream",
     "text": [
      " 30%|███       | 1300/4321 [01:17<02:58, 16.93it/s]"
     ]
    },
    {
     "name": "stdout",
     "output_type": "stream",
     "text": [
      "[ 563.07957806  950.71832306 1071.30875528]\n",
      "[ 500.71982954  927.30440143 1062.17226402 1128.55029485]\n"
     ]
    },
    {
     "name": "stderr",
     "output_type": "stream",
     "text": [
      " 30%|███       | 1306/4321 [01:17<03:03, 16.45it/s]"
     ]
    },
    {
     "name": "stdout",
     "output_type": "stream",
     "text": [
      "[1003.82724913 1116.98112204]\n",
      "[]\n"
     ]
    },
    {
     "name": "stderr",
     "output_type": "stream",
     "text": [
      " 30%|███       | 1312/4321 [01:17<02:59, 16.75it/s]"
     ]
    },
    {
     "name": "stdout",
     "output_type": "stream",
     "text": [
      "[366.15720872 480.84627432 941.15287283]\n",
      "[489.05840262 740.40120832]\n"
     ]
    },
    {
     "name": "stderr",
     "output_type": "stream",
     "text": [
      " 31%|███       | 1320/4321 [01:18<02:56, 16.98it/s]"
     ]
    },
    {
     "name": "stdout",
     "output_type": "stream",
     "text": [
      "[]\n"
     ]
    },
    {
     "name": "stderr",
     "output_type": "stream",
     "text": [
      " 31%|███       | 1324/4321 [01:18<02:59, 16.73it/s]"
     ]
    },
    {
     "name": "stdout",
     "output_type": "stream",
     "text": [
      "[ 628.48332613  678.40889263  765.18787515 1064.95036727]\n",
      "[369.49138518]\n",
      "[387.98064102 655.05091022]\n",
      "[716.77264127]\n"
     ]
    },
    {
     "name": "stderr",
     "output_type": "stream",
     "text": [
      " 31%|███       | 1328/4321 [01:18<03:01, 16.50it/s]"
     ]
    },
    {
     "name": "stdout",
     "output_type": "stream",
     "text": [
      "[1101.03110654]\n",
      "[676.82309405]\n",
      "[407.07481245 436.81985958 593.04672183 664.88565684 825.7510819 ]\n"
     ]
    },
    {
     "name": "stderr",
     "output_type": "stream",
     "text": [
      " 31%|███       | 1332/4321 [01:19<03:00, 16.58it/s]"
     ]
    },
    {
     "name": "stdout",
     "output_type": "stream",
     "text": [
      "[]\n",
      "[ 547.4532286   842.31447238 1026.95812995 1131.10317753]\n",
      "[304.62716045 358.97822937]\n"
     ]
    },
    {
     "name": "stderr",
     "output_type": "stream",
     "text": [
      " 31%|███       | 1338/4321 [01:19<03:02, 16.36it/s]"
     ]
    },
    {
     "name": "stdout",
     "output_type": "stream",
     "text": [
      "[747.29326563]\n",
      "[]\n",
      "[1171.97723093 1227.50228506]\n"
     ]
    },
    {
     "name": "stderr",
     "output_type": "stream",
     "text": [
      " 31%|███       | 1350/4321 [01:20<03:01, 16.34it/s]"
     ]
    },
    {
     "name": "stdout",
     "output_type": "stream",
     "text": [
      "[]\n",
      "[900.36678979]\n"
     ]
    },
    {
     "name": "stderr",
     "output_type": "stream",
     "text": [
      " 32%|███▏      | 1370/4321 [01:21<02:47, 17.60it/s]"
     ]
    },
    {
     "name": "stdout",
     "output_type": "stream",
     "text": [
      "[ 338.87158576 1164.93241583]\n"
     ]
    },
    {
     "name": "stderr",
     "output_type": "stream",
     "text": [
      " 32%|███▏      | 1376/4321 [01:21<02:45, 17.78it/s]"
     ]
    },
    {
     "name": "stdout",
     "output_type": "stream",
     "text": [
      "[594.65004069]\n"
     ]
    },
    {
     "name": "stderr",
     "output_type": "stream",
     "text": [
      " 32%|███▏      | 1380/4321 [01:21<02:49, 17.39it/s]"
     ]
    },
    {
     "name": "stdout",
     "output_type": "stream",
     "text": [
      "[345.03322712 653.87946905]\n",
      "[ 777.36176859  887.55977164 1002.54126485]\n",
      "[ 751.23616611 1005.61343051  994.27769082 1092.93049502]\n"
     ]
    },
    {
     "name": "stderr",
     "output_type": "stream",
     "text": [
      " 32%|███▏      | 1384/4321 [01:22<02:47, 17.56it/s]"
     ]
    },
    {
     "name": "stdout",
     "output_type": "stream",
     "text": [
      "[525.56973341]\n",
      "[928.20467913]\n",
      "[]\n"
     ]
    },
    {
     "name": "stderr",
     "output_type": "stream",
     "text": [
      " 32%|███▏      | 1392/4321 [01:22<02:48, 17.43it/s]"
     ]
    },
    {
     "name": "stdout",
     "output_type": "stream",
     "text": [
      "[]\n",
      "[]\n"
     ]
    },
    {
     "name": "stderr",
     "output_type": "stream",
     "text": [
      " 32%|███▏      | 1396/4321 [01:22<02:47, 17.45it/s]"
     ]
    },
    {
     "name": "stdout",
     "output_type": "stream",
     "text": [
      "[]\n",
      "[476.38455492 620.60828822 794.28771608 858.1081413 ]\n"
     ]
    },
    {
     "name": "stderr",
     "output_type": "stream",
     "text": [
      " 32%|███▏      | 1400/4321 [01:23<02:53, 16.86it/s]"
     ]
    },
    {
     "name": "stdout",
     "output_type": "stream",
     "text": [
      "[483.24094558 638.59059303 895.63498125]\n",
      "[808.86331884]\n",
      "[ 543.10788952  866.27487266  908.04218105 1064.92622887]\n"
     ]
    },
    {
     "name": "stderr",
     "output_type": "stream",
     "text": [
      " 33%|███▎      | 1405/4321 [01:23<02:48, 17.31it/s]"
     ]
    },
    {
     "name": "stdout",
     "output_type": "stream",
     "text": [
      "[377.82099857 507.7312298  687.7248984 ]\n",
      "[1202.01430764]\n"
     ]
    },
    {
     "name": "stderr",
     "output_type": "stream",
     "text": [
      " 33%|███▎      | 1409/4321 [01:23<02:53, 16.78it/s]"
     ]
    },
    {
     "name": "stdout",
     "output_type": "stream",
     "text": [
      "[338.17675481]\n"
     ]
    },
    {
     "name": "stderr",
     "output_type": "stream",
     "text": [
      " 33%|███▎      | 1415/4321 [01:23<02:58, 16.29it/s]"
     ]
    },
    {
     "name": "stdout",
     "output_type": "stream",
     "text": [
      "[1113.93835008]\n",
      "[]\n",
      "[ 872.60585421 1146.07255498 1268.81242684]\n"
     ]
    },
    {
     "name": "stderr",
     "output_type": "stream",
     "text": [
      " 33%|███▎      | 1419/4321 [01:24<02:57, 16.31it/s]"
     ]
    },
    {
     "name": "stdout",
     "output_type": "stream",
     "text": [
      "[ 568.90699847  683.2637352   882.85607613 1105.71041052]\n",
      "[879.64537014]\n"
     ]
    },
    {
     "name": "stderr",
     "output_type": "stream",
     "text": [
      " 33%|███▎      | 1423/4321 [01:24<02:56, 16.39it/s]"
     ]
    },
    {
     "name": "stdout",
     "output_type": "stream",
     "text": [
      "[801.43575342]\n",
      "[ 355.93230943  520.83997249 1125.0608184 ]\n",
      "[296.83638873 806.95849506]\n"
     ]
    },
    {
     "name": "stderr",
     "output_type": "stream",
     "text": [
      " 33%|███▎      | 1427/4321 [01:24<02:52, 16.80it/s]"
     ]
    },
    {
     "name": "stdout",
     "output_type": "stream",
     "text": [
      "[491.02605095 789.98342214]\n",
      "[376.89315813 824.75726139 955.78657386]\n"
     ]
    },
    {
     "name": "stderr",
     "output_type": "stream",
     "text": [
      " 33%|███▎      | 1435/4321 [01:25<02:50, 16.95it/s]"
     ]
    },
    {
     "name": "stdout",
     "output_type": "stream",
     "text": [
      "[1127.97244378]\n"
     ]
    },
    {
     "name": "stderr",
     "output_type": "stream",
     "text": [
      " 33%|███▎      | 1439/4321 [01:25<02:52, 16.69it/s]"
     ]
    },
    {
     "name": "stdout",
     "output_type": "stream",
     "text": [
      "[]\n",
      "[611.12136503]\n"
     ]
    },
    {
     "name": "stderr",
     "output_type": "stream",
     "text": [
      " 33%|███▎      | 1443/4321 [01:25<02:56, 16.28it/s]"
     ]
    },
    {
     "name": "stdout",
     "output_type": "stream",
     "text": [
      "[511.13814053]\n",
      "[ 527.41260511  654.75293459  812.00503147  950.53364409 1180.36637291]\n",
      "[459.02742658]\n"
     ]
    },
    {
     "name": "stderr",
     "output_type": "stream",
     "text": [
      " 33%|███▎      | 1447/4321 [01:25<02:57, 16.21it/s]"
     ]
    },
    {
     "name": "stdout",
     "output_type": "stream",
     "text": [
      "[ 885.64987279  984.23097386 1133.39681075]\n",
      "[283.79218535 452.22230526]\n"
     ]
    },
    {
     "name": "stderr",
     "output_type": "stream",
     "text": [
      "\r",
      " 34%|███▎      | 1449/4321 [01:26<03:04, 15.54it/s]"
     ]
    },
    {
     "name": "stdout",
     "output_type": "stream",
     "text": [
      "[1256.41142115]\n",
      "[697.29993787 764.57692064]\n",
      "[]\n"
     ]
    },
    {
     "name": "stderr",
     "output_type": "stream",
     "text": [
      " 34%|███▎      | 1453/4321 [01:26<03:05, 15.43it/s]"
     ]
    },
    {
     "name": "stdout",
     "output_type": "stream",
     "text": [
      "[905.99613934]\n",
      "[298.68338944 627.31713401]\n"
     ]
    },
    {
     "name": "stderr",
     "output_type": "stream",
     "text": [
      " 34%|███▍      | 1463/4321 [01:26<02:52, 16.52it/s]"
     ]
    },
    {
     "name": "stdout",
     "output_type": "stream",
     "text": [
      "[ 450.53890298  676.49657621  723.0284048   964.78066426 1008.84613539]\n",
      "[ 808.8364005  1074.40494029 1192.31587658]\n"
     ]
    },
    {
     "name": "stderr",
     "output_type": "stream",
     "text": [
      " 34%|███▍      | 1467/4321 [01:27<02:45, 17.28it/s]"
     ]
    },
    {
     "name": "stdout",
     "output_type": "stream",
     "text": [
      "[540.63429997]\n",
      "[397.6190878]\n"
     ]
    },
    {
     "name": "stderr",
     "output_type": "stream",
     "text": [
      " 34%|███▍      | 1475/4321 [01:27<02:50, 16.65it/s]"
     ]
    },
    {
     "name": "stdout",
     "output_type": "stream",
     "text": [
      "[ 784.68856193 1047.17837612 1178.53452044]\n",
      "[]\n",
      "[1167.62196976]\n"
     ]
    },
    {
     "name": "stderr",
     "output_type": "stream",
     "text": [
      " 34%|███▍      | 1483/4321 [01:28<02:51, 16.57it/s]"
     ]
    },
    {
     "name": "stdout",
     "output_type": "stream",
     "text": [
      "[1176.80365642]\n"
     ]
    },
    {
     "name": "stderr",
     "output_type": "stream",
     "text": [
      " 35%|███▍      | 1491/4321 [01:28<02:53, 16.34it/s]"
     ]
    },
    {
     "name": "stdout",
     "output_type": "stream",
     "text": [
      "[]\n",
      "[]\n",
      "[ 297.32306398  973.25616471 1233.33100765]\n"
     ]
    },
    {
     "name": "stderr",
     "output_type": "stream",
     "text": [
      " 35%|███▍      | 1495/4321 [01:28<02:58, 15.85it/s]"
     ]
    },
    {
     "name": "stdout",
     "output_type": "stream",
     "text": [
      "[323.7541406]\n",
      "[ 671.13219723  809.83416631  887.28078887 1026.08120828]\n"
     ]
    },
    {
     "name": "stderr",
     "output_type": "stream",
     "text": [
      " 35%|███▍      | 1499/4321 [01:29<03:01, 15.53it/s]"
     ]
    },
    {
     "name": "stdout",
     "output_type": "stream",
     "text": [
      "[]\n",
      "[612.56140166]\n",
      "[ 692.39907735 1036.21113088]\n"
     ]
    },
    {
     "name": "stderr",
     "output_type": "stream",
     "text": [
      " 35%|███▍      | 1505/4321 [01:29<02:58, 15.76it/s]"
     ]
    },
    {
     "name": "stdout",
     "output_type": "stream",
     "text": [
      "[]\n",
      "[]\n"
     ]
    },
    {
     "name": "stderr",
     "output_type": "stream",
     "text": [
      " 35%|███▍      | 1509/4321 [01:29<02:57, 15.85it/s]"
     ]
    },
    {
     "name": "stdout",
     "output_type": "stream",
     "text": [
      "[374.06991391]\n"
     ]
    },
    {
     "name": "stderr",
     "output_type": "stream",
     "text": [
      " 35%|███▌      | 1513/4321 [01:29<02:47, 16.79it/s]"
     ]
    },
    {
     "name": "stdout",
     "output_type": "stream",
     "text": [
      "[ 271.97896887  464.21910581  619.89594467  803.1577932  1070.51522479\n",
      " 1244.79864426]\n"
     ]
    },
    {
     "name": "stderr",
     "output_type": "stream",
     "text": [
      " 35%|███▌      | 1523/4321 [01:30<02:53, 16.08it/s]"
     ]
    },
    {
     "name": "stdout",
     "output_type": "stream",
     "text": [
      "[]\n"
     ]
    },
    {
     "name": "stderr",
     "output_type": "stream",
     "text": [
      " 35%|███▌      | 1527/4321 [01:30<02:46, 16.75it/s]"
     ]
    },
    {
     "name": "stdout",
     "output_type": "stream",
     "text": [
      "[1121.31849546]\n",
      "[ 674.38416908 1021.2917295  1209.89687492]\n",
      "[]\n"
     ]
    },
    {
     "name": "stderr",
     "output_type": "stream",
     "text": [
      " 35%|███▌      | 1531/4321 [01:30<02:45, 16.86it/s]"
     ]
    },
    {
     "name": "stdout",
     "output_type": "stream",
     "text": [
      "[]\n",
      "[]\n"
     ]
    },
    {
     "name": "stderr",
     "output_type": "stream",
     "text": [
      " 36%|███▌      | 1539/4321 [01:31<02:38, 17.54it/s]"
     ]
    },
    {
     "name": "stdout",
     "output_type": "stream",
     "text": [
      "[273.62238465 405.42841373]\n",
      "[816.64113464]\n",
      "[ 787.2022662  1053.10376613]\n"
     ]
    },
    {
     "name": "stderr",
     "output_type": "stream",
     "text": [
      " 36%|███▌      | 1545/4321 [01:31<02:37, 17.65it/s]"
     ]
    },
    {
     "name": "stdout",
     "output_type": "stream",
     "text": [
      "[540.98015289 677.52491436]\n"
     ]
    },
    {
     "name": "stderr",
     "output_type": "stream",
     "text": [
      " 36%|███▌      | 1549/4321 [01:31<02:32, 18.18it/s]"
     ]
    },
    {
     "name": "stdout",
     "output_type": "stream",
     "text": [
      "[851.49912377 989.92224238]\n",
      "[]\n"
     ]
    },
    {
     "name": "stderr",
     "output_type": "stream",
     "text": [
      " 36%|███▌      | 1553/4321 [01:32<02:35, 17.76it/s]"
     ]
    },
    {
     "name": "stdout",
     "output_type": "stream",
     "text": [
      "[1242.34429369]\n"
     ]
    },
    {
     "name": "stderr",
     "output_type": "stream",
     "text": [
      " 36%|███▌      | 1561/4321 [01:32<02:42, 16.96it/s]"
     ]
    },
    {
     "name": "stdout",
     "output_type": "stream",
     "text": [
      "[]\n",
      "[627.45280501]\n"
     ]
    },
    {
     "name": "stderr",
     "output_type": "stream",
     "text": [
      " 36%|███▌      | 1565/4321 [01:32<02:34, 17.83it/s]"
     ]
    },
    {
     "name": "stdout",
     "output_type": "stream",
     "text": [
      "[326.70333193 456.63237441 804.4233026 ]\n"
     ]
    },
    {
     "name": "stderr",
     "output_type": "stream",
     "text": [
      " 36%|███▋      | 1571/4321 [01:33<02:39, 17.23it/s]"
     ]
    },
    {
     "name": "stdout",
     "output_type": "stream",
     "text": [
      "[1089.82842127 1127.73845171]\n",
      "[856.9487628]\n",
      "[]\n"
     ]
    },
    {
     "name": "stderr",
     "output_type": "stream",
     "text": [
      " 36%|███▋      | 1577/4321 [01:33<02:38, 17.30it/s]"
     ]
    },
    {
     "name": "stdout",
     "output_type": "stream",
     "text": [
      "[ 507.37711836 1249.7434161 ]\n",
      "[]\n"
     ]
    },
    {
     "name": "stderr",
     "output_type": "stream",
     "text": [
      " 37%|███▋      | 1584/4321 [01:34<02:38, 17.23it/s]"
     ]
    },
    {
     "name": "stdout",
     "output_type": "stream",
     "text": [
      "[]\n",
      "[]\n",
      "[523.32902473 752.90325611 837.23767671]\n",
      "[932.46451467]\n"
     ]
    },
    {
     "name": "stderr",
     "output_type": "stream",
     "text": [
      " 37%|███▋      | 1592/4321 [01:34<02:38, 17.23it/s]"
     ]
    },
    {
     "name": "stdout",
     "output_type": "stream",
     "text": [
      "[625.88984923]\n"
     ]
    },
    {
     "name": "stderr",
     "output_type": "stream",
     "text": [
      " 37%|███▋      | 1596/4321 [01:34<02:40, 16.96it/s]"
     ]
    },
    {
     "name": "stdout",
     "output_type": "stream",
     "text": [
      "[690.24801794]\n",
      "[ 441.672888    502.02118899  556.48845351  808.52514735  915.40379716\n",
      " 1055.67077631 1121.24143062 1149.17638129]\n"
     ]
    },
    {
     "name": "stderr",
     "output_type": "stream",
     "text": [
      " 37%|███▋      | 1602/4321 [01:35<02:44, 16.56it/s]"
     ]
    },
    {
     "name": "stdout",
     "output_type": "stream",
     "text": [
      "[ 296.68137635  640.45971665  693.99846045 1097.99665592]\n",
      "[461.8515535  566.00446339]\n",
      "[ 406.39497082  447.255674    562.52682119  695.27479438 1079.71951503\n",
      " 1125.36945118]\n"
     ]
    },
    {
     "name": "stderr",
     "output_type": "stream",
     "text": [
      " 37%|███▋      | 1606/4321 [01:35<02:42, 16.69it/s]"
     ]
    },
    {
     "name": "stdout",
     "output_type": "stream",
     "text": [
      "[ 726.05432779 1026.63436135 1154.92223686 1217.70642428]\n",
      "[336.51075468 505.61237005]\n"
     ]
    },
    {
     "name": "stderr",
     "output_type": "stream",
     "text": [
      " 37%|███▋      | 1610/4321 [01:35<02:39, 16.97it/s]"
     ]
    },
    {
     "name": "stdout",
     "output_type": "stream",
     "text": [
      "[288.83911657 537.37798186 726.24104256]\n",
      "[1103.26081402]\n",
      "[273.57728309 368.21891793 494.21812486]\n"
     ]
    },
    {
     "name": "stderr",
     "output_type": "stream",
     "text": [
      " 37%|███▋      | 1616/4321 [01:35<02:36, 17.31it/s]"
     ]
    },
    {
     "name": "stdout",
     "output_type": "stream",
     "text": [
      "[ 853.96024425  850.21831992  957.68409758 1241.22626687]\n",
      "[1147.35725226]\n"
     ]
    },
    {
     "name": "stderr",
     "output_type": "stream",
     "text": [
      " 37%|███▋      | 1620/4321 [01:36<02:40, 16.87it/s]"
     ]
    },
    {
     "name": "stdout",
     "output_type": "stream",
     "text": [
      "[]\n",
      "[376.85860508]\n",
      "[513.15174811 863.70507677 964.24809017]\n",
      "[684.41024578 968.98061039 984.21907391]\n"
     ]
    },
    {
     "name": "stderr",
     "output_type": "stream",
     "text": [
      " 38%|███▊      | 1624/4321 [01:36<02:40, 16.77it/s]"
     ]
    },
    {
     "name": "stdout",
     "output_type": "stream",
     "text": [
      "[ 250.23958313  964.20813408 1030.75871902]\n",
      "[ 291.33978012  347.72176322  931.62545693 1146.26164251]\n"
     ]
    },
    {
     "name": "stderr",
     "output_type": "stream",
     "text": [
      " 38%|███▊      | 1630/4321 [01:36<02:41, 16.68it/s]"
     ]
    },
    {
     "name": "stdout",
     "output_type": "stream",
     "text": [
      "[250.41111433 460.75329307 757.54201238 894.66254591]\n",
      "[ 589.27852908  864.75603257 1006.71335742]\n",
      "[ 294.06902648  327.12892858  489.00724974  556.66827181  824.71351001\n",
      " 1069.50674263]\n"
     ]
    },
    {
     "name": "stderr",
     "output_type": "stream",
     "text": [
      " 38%|███▊      | 1634/4321 [01:36<02:38, 16.94it/s]"
     ]
    },
    {
     "name": "stdout",
     "output_type": "stream",
     "text": [
      "[ 978.94330807 1077.24869575]\n",
      "[ 305.73877891  425.50101648  545.44694105 1189.54753771]\n",
      "[]\n"
     ]
    },
    {
     "name": "stderr",
     "output_type": "stream",
     "text": [
      " 38%|███▊      | 1638/4321 [01:37<02:44, 16.35it/s]"
     ]
    },
    {
     "name": "stdout",
     "output_type": "stream",
     "text": [
      "[567.45930815]\n",
      "[ 749.11052087 1222.77964869]\n",
      "[374.18002172]\n"
     ]
    },
    {
     "name": "stderr",
     "output_type": "stream",
     "text": [
      " 38%|███▊      | 1642/4321 [01:37<02:42, 16.52it/s]"
     ]
    },
    {
     "name": "stdout",
     "output_type": "stream",
     "text": [
      "[551.4821244  635.26813548]\n",
      "[1184.45292028]\n",
      "[]\n",
      "[701.43839521]\n"
     ]
    },
    {
     "name": "stderr",
     "output_type": "stream",
     "text": [
      " 38%|███▊      | 1646/4321 [01:37<02:41, 16.61it/s]"
     ]
    },
    {
     "name": "stdout",
     "output_type": "stream",
     "text": [
      "[289.98498443]\n",
      "[435.85111927 670.04436996 739.75213657]\n",
      "[]\n",
      "[]\n"
     ]
    },
    {
     "name": "stderr",
     "output_type": "stream",
     "text": [
      " 38%|███▊      | 1654/4321 [01:38<02:35, 17.12it/s]"
     ]
    },
    {
     "name": "stdout",
     "output_type": "stream",
     "text": [
      "[510.41846487]\n",
      "[]\n"
     ]
    },
    {
     "name": "stderr",
     "output_type": "stream",
     "text": [
      " 39%|███▊      | 1670/4321 [01:39<02:28, 17.81it/s]"
     ]
    },
    {
     "name": "stdout",
     "output_type": "stream",
     "text": [
      "[ 544.86046148  647.75574996  887.27388187 1022.07713463 1208.87406819]\n",
      "[319.3973471  475.57340298 535.71410835 638.37006501]\n",
      "[ 240.76960701  352.51397979 1196.92800332]\n",
      "[508.62160449 543.22488091]\n"
     ]
    },
    {
     "name": "stderr",
     "output_type": "stream",
     "text": [
      " 39%|███▊      | 1674/4321 [01:39<02:31, 17.48it/s]"
     ]
    },
    {
     "name": "stdout",
     "output_type": "stream",
     "text": [
      "[326.2710328]\n",
      "[1076.80605461 1266.18834861]\n",
      "[ 257.25940381  279.07171025  355.17369975  519.81589579  737.06138094\n",
      " 1020.29352613 1055.11148298]\n",
      "[561.7317284]\n"
     ]
    },
    {
     "name": "stderr",
     "output_type": "stream",
     "text": [
      " 39%|███▉      | 1682/4321 [01:39<02:33, 17.19it/s]"
     ]
    },
    {
     "name": "stdout",
     "output_type": "stream",
     "text": [
      "[1057.44116246 1203.34840202]\n",
      "[1118.01987418]\n",
      "[613.41520355 694.31286516 769.66836401]\n"
     ]
    },
    {
     "name": "stderr",
     "output_type": "stream",
     "text": [
      " 39%|███▉      | 1686/4321 [01:39<02:30, 17.53it/s]"
     ]
    },
    {
     "name": "stdout",
     "output_type": "stream",
     "text": [
      "[ 309.01104166  464.72651272  568.91554537  746.08403088 1053.03751704]\n",
      "[355.29166194 503.43866485]\n",
      "[ 398.82784595  424.76217917 1044.7431246  1144.85661124]\n"
     ]
    },
    {
     "name": "stderr",
     "output_type": "stream",
     "text": [
      " 39%|███▉      | 1692/4321 [01:40<02:26, 17.94it/s]"
     ]
    },
    {
     "name": "stdout",
     "output_type": "stream",
     "text": [
      "[680.39719734 862.59572818]\n",
      "[]\n",
      "[ 276.95061713 1138.16265018]\n"
     ]
    },
    {
     "name": "stderr",
     "output_type": "stream",
     "text": [
      " 39%|███▉      | 1700/4321 [01:40<02:33, 17.10it/s]"
     ]
    },
    {
     "name": "stdout",
     "output_type": "stream",
     "text": [
      "[ 863.86519793  906.97780883 1051.12214595]\n",
      "[1042.36718695]\n",
      "[ 936.02455793 1035.38293256]\n"
     ]
    },
    {
     "name": "stderr",
     "output_type": "stream",
     "text": [
      " 39%|███▉      | 1706/4321 [01:41<02:30, 17.41it/s]"
     ]
    },
    {
     "name": "stdout",
     "output_type": "stream",
     "text": [
      "[942.80372142]\n",
      "[554.97506664 692.9018126 ]\n",
      "[1189.58811591]\n"
     ]
    },
    {
     "name": "stderr",
     "output_type": "stream",
     "text": [
      " 40%|███▉      | 1710/4321 [01:41<02:28, 17.55it/s]"
     ]
    },
    {
     "name": "stdout",
     "output_type": "stream",
     "text": [
      "[]\n",
      "[1182.68297947 1232.54218868]\n"
     ]
    },
    {
     "name": "stderr",
     "output_type": "stream",
     "text": [
      " 40%|███▉      | 1714/4321 [01:41<02:33, 17.04it/s]"
     ]
    },
    {
     "name": "stdout",
     "output_type": "stream",
     "text": [
      "[404.01914999]\n",
      "[1086.77856024]\n"
     ]
    },
    {
     "name": "stderr",
     "output_type": "stream",
     "text": [
      " 40%|███▉      | 1720/4321 [01:41<02:37, 16.52it/s]"
     ]
    },
    {
     "name": "stdout",
     "output_type": "stream",
     "text": [
      "[396.24294061 500.01387421]\n",
      "[469.46503193 833.24213837 917.84494954]\n",
      "[382.19351388 542.6540545  637.15336136]\n"
     ]
    },
    {
     "name": "stderr",
     "output_type": "stream",
     "text": [
      " 40%|███▉      | 1724/4321 [01:42<02:44, 15.82it/s]"
     ]
    },
    {
     "name": "stdout",
     "output_type": "stream",
     "text": [
      "[252.01697308 454.51768996 681.34608925 890.36980428 939.45505565]\n",
      "[]\n",
      "[335.37960451 453.47193604 602.01719295]\n",
      "[ 277.14961493  375.14440155  442.22536513  532.62209515  895.83562984\n",
      " 1169.60933583 1239.12107644]\n"
     ]
    },
    {
     "name": "stderr",
     "output_type": "stream",
     "text": [
      " 40%|███▉      | 1728/4321 [01:42<02:45, 15.63it/s]"
     ]
    },
    {
     "name": "stdout",
     "output_type": "stream",
     "text": [
      "[420.01324728 511.35339472 999.26870989]\n",
      "[ 484.30306983 1189.12838452]\n"
     ]
    },
    {
     "name": "stderr",
     "output_type": "stream",
     "text": [
      " 40%|████      | 1732/4321 [01:42<02:45, 15.66it/s]"
     ]
    },
    {
     "name": "stdout",
     "output_type": "stream",
     "text": [
      "[931.05163111]\n",
      "[]\n"
     ]
    },
    {
     "name": "stderr",
     "output_type": "stream",
     "text": [
      " 40%|████      | 1736/4321 [01:42<02:43, 15.77it/s]"
     ]
    },
    {
     "name": "stdout",
     "output_type": "stream",
     "text": [
      "[ 630.20203494  799.82400603 1173.58978162]\n"
     ]
    },
    {
     "name": "stderr",
     "output_type": "stream",
     "text": [
      " 40%|████      | 1750/4321 [01:43<02:36, 16.42it/s]"
     ]
    },
    {
     "name": "stdout",
     "output_type": "stream",
     "text": [
      "[]\n"
     ]
    },
    {
     "name": "stderr",
     "output_type": "stream",
     "text": [
      " 41%|████      | 1756/4321 [01:44<02:46, 15.45it/s]"
     ]
    },
    {
     "name": "stdout",
     "output_type": "stream",
     "text": [
      "[829.36529127]\n",
      "[1093.49957399]\n"
     ]
    },
    {
     "name": "stderr",
     "output_type": "stream",
     "text": [
      " 41%|████      | 1764/4321 [01:44<02:46, 15.40it/s]"
     ]
    },
    {
     "name": "stdout",
     "output_type": "stream",
     "text": [
      "[313.72095609]\n",
      "[]\n",
      "[792.01416327]\n"
     ]
    },
    {
     "name": "stderr",
     "output_type": "stream",
     "text": [
      " 41%|████      | 1770/4321 [01:45<02:35, 16.45it/s]"
     ]
    },
    {
     "name": "stdout",
     "output_type": "stream",
     "text": [
      "[354.48591391 493.56629802 555.17404188 581.74454037 743.81045408]\n",
      "[415.30913717 546.68321747]\n",
      "[]\n",
      "[ 984.39467678 1030.3058221 ]\n"
     ]
    },
    {
     "name": "stderr",
     "output_type": "stream",
     "text": [
      " 41%|████      | 1776/4321 [01:45<02:29, 16.97it/s]"
     ]
    },
    {
     "name": "stdout",
     "output_type": "stream",
     "text": [
      "[ 804.39662958 1164.25223158]\n"
     ]
    },
    {
     "name": "stderr",
     "output_type": "stream",
     "text": [
      " 41%|████      | 1782/4321 [01:45<02:31, 16.77it/s]"
     ]
    },
    {
     "name": "stdout",
     "output_type": "stream",
     "text": [
      "[555.44222995]\n",
      "[]\n"
     ]
    },
    {
     "name": "stderr",
     "output_type": "stream",
     "text": [
      " 41%|████▏     | 1786/4321 [01:46<02:26, 17.31it/s]"
     ]
    },
    {
     "name": "stdout",
     "output_type": "stream",
     "text": [
      "[502.76022956 548.15276566]\n"
     ]
    },
    {
     "name": "stderr",
     "output_type": "stream",
     "text": [
      " 41%|████▏     | 1790/4321 [01:46<02:25, 17.39it/s]"
     ]
    },
    {
     "name": "stdout",
     "output_type": "stream",
     "text": [
      "[394.07037157 443.95152819 556.31152387 620.83508917]\n",
      "[854.07532784]\n"
     ]
    },
    {
     "name": "stderr",
     "output_type": "stream",
     "text": [
      " 42%|████▏     | 1794/4321 [01:46<02:26, 17.20it/s]"
     ]
    },
    {
     "name": "stdout",
     "output_type": "stream",
     "text": [
      "[]\n",
      "[]\n",
      "[358.76317603]\n"
     ]
    },
    {
     "name": "stderr",
     "output_type": "stream",
     "text": [
      " 42%|████▏     | 1800/4321 [01:46<02:39, 15.80it/s]"
     ]
    },
    {
     "name": "stdout",
     "output_type": "stream",
     "text": [
      "[]\n",
      "[477.39247017]\n",
      "[]\n"
     ]
    },
    {
     "name": "stderr",
     "output_type": "stream",
     "text": [
      " 42%|████▏     | 1804/4321 [01:47<02:31, 16.64it/s]"
     ]
    },
    {
     "name": "stdout",
     "output_type": "stream",
     "text": [
      "[493.60479476]\n",
      "[313.71396027 392.94142915]\n",
      "[1190.77990647]\n"
     ]
    },
    {
     "name": "stderr",
     "output_type": "stream",
     "text": [
      " 42%|████▏     | 1808/4321 [01:47<02:32, 16.47it/s]"
     ]
    },
    {
     "name": "stdout",
     "output_type": "stream",
     "text": [
      "[1104.09858201]\n",
      "[314.78506997]\n"
     ]
    },
    {
     "name": "stderr",
     "output_type": "stream",
     "text": [
      " 42%|████▏     | 1812/4321 [01:47<02:27, 17.07it/s]"
     ]
    },
    {
     "name": "stdout",
     "output_type": "stream",
     "text": [
      "[411.45933992 579.35940315 688.48161708]\n",
      "[ 947.91664785 1087.71321608]\n"
     ]
    },
    {
     "name": "stderr",
     "output_type": "stream",
     "text": [
      " 42%|████▏     | 1818/4321 [01:47<02:28, 16.89it/s]"
     ]
    },
    {
     "name": "stdout",
     "output_type": "stream",
     "text": [
      "[785.40606165]\n",
      "[1036.86302921 1214.82978334]\n"
     ]
    },
    {
     "name": "stderr",
     "output_type": "stream",
     "text": [
      " 42%|████▏     | 1824/4321 [01:48<02:26, 17.10it/s]"
     ]
    },
    {
     "name": "stdout",
     "output_type": "stream",
     "text": [
      "[]\n"
     ]
    },
    {
     "name": "stderr",
     "output_type": "stream",
     "text": [
      " 42%|████▏     | 1830/4321 [01:48<02:21, 17.62it/s]"
     ]
    },
    {
     "name": "stdout",
     "output_type": "stream",
     "text": [
      "[917.34797681]\n",
      "[1109.18303892]\n"
     ]
    },
    {
     "name": "stderr",
     "output_type": "stream",
     "text": [
      " 42%|████▏     | 1836/4321 [01:49<02:27, 16.88it/s]"
     ]
    },
    {
     "name": "stdout",
     "output_type": "stream",
     "text": [
      "[316.02499306 879.93355837 999.36005887]\n",
      "[281.0210819  371.10630156 428.77803842 722.57686559]\n"
     ]
    },
    {
     "name": "stderr",
     "output_type": "stream",
     "text": [
      " 43%|████▎     | 1849/4321 [01:49<02:26, 16.90it/s]"
     ]
    },
    {
     "name": "stdout",
     "output_type": "stream",
     "text": [
      "[ 894.06791978 1030.68500264 1082.20789209]\n",
      "[282.71530012]\n",
      "[1047.19744115]\n"
     ]
    },
    {
     "name": "stderr",
     "output_type": "stream",
     "text": [
      " 43%|████▎     | 1861/4321 [01:50<02:16, 17.99it/s]"
     ]
    },
    {
     "name": "stdout",
     "output_type": "stream",
     "text": [
      "[]\n"
     ]
    },
    {
     "name": "stderr",
     "output_type": "stream",
     "text": [
      " 43%|████▎     | 1873/4321 [01:51<02:16, 17.95it/s]"
     ]
    },
    {
     "name": "stdout",
     "output_type": "stream",
     "text": [
      "[1186.79790123]\n"
     ]
    },
    {
     "name": "stderr",
     "output_type": "stream",
     "text": [
      " 43%|████▎     | 1877/4321 [01:51<02:24, 16.88it/s]"
     ]
    },
    {
     "name": "stdout",
     "output_type": "stream",
     "text": [
      "[362.68704218]\n",
      "[634.72997114 957.19830296]\n"
     ]
    },
    {
     "name": "stderr",
     "output_type": "stream",
     "text": [
      " 44%|████▎     | 1881/4321 [01:51<02:25, 16.81it/s]"
     ]
    },
    {
     "name": "stdout",
     "output_type": "stream",
     "text": [
      "[711.68978655 907.90450444 975.99568433]\n",
      "[441.62634381]\n",
      "[ 938.56991241 1138.37273726]\n"
     ]
    },
    {
     "name": "stderr",
     "output_type": "stream",
     "text": [
      " 44%|████▎     | 1887/4321 [01:51<02:22, 17.07it/s]"
     ]
    },
    {
     "name": "stdout",
     "output_type": "stream",
     "text": [
      "[300.87636618 336.4830401  788.37404668]\n",
      "[541.04101516 576.20065207 776.43689124 841.6763741 ]\n",
      "[]\n",
      "[ 625.55812247  822.11773198 1084.13920094]\n"
     ]
    },
    {
     "name": "stderr",
     "output_type": "stream",
     "text": [
      " 44%|████▍     | 1891/4321 [01:52<02:15, 17.90it/s]"
     ]
    },
    {
     "name": "stdout",
     "output_type": "stream",
     "text": [
      "[429.41759397 787.56618326 822.15891541]\n",
      "[1075.39375027]\n"
     ]
    },
    {
     "name": "stderr",
     "output_type": "stream",
     "text": [
      " 44%|████▍     | 1895/4321 [01:52<02:14, 18.07it/s]"
     ]
    },
    {
     "name": "stdout",
     "output_type": "stream",
     "text": [
      "[287.82866027 794.78378525]\n"
     ]
    },
    {
     "name": "stderr",
     "output_type": "stream",
     "text": [
      " 44%|████▍     | 1899/4321 [01:52<02:18, 17.43it/s]"
     ]
    },
    {
     "name": "stdout",
     "output_type": "stream",
     "text": [
      "[315.51971125 836.73520393]\n",
      "[]\n"
     ]
    },
    {
     "name": "stderr",
     "output_type": "stream",
     "text": [
      " 44%|████▍     | 1907/4321 [01:53<02:19, 17.32it/s]"
     ]
    },
    {
     "name": "stdout",
     "output_type": "stream",
     "text": [
      "[]\n",
      "[ 749.25193767 1054.52187737 1108.44328014]\n",
      "[]\n"
     ]
    },
    {
     "name": "stderr",
     "output_type": "stream",
     "text": [
      " 44%|████▍     | 1911/4321 [01:53<02:20, 17.14it/s]"
     ]
    },
    {
     "name": "stdout",
     "output_type": "stream",
     "text": [
      "[]\n",
      "[299.02899397]\n"
     ]
    },
    {
     "name": "stderr",
     "output_type": "stream",
     "text": [
      " 44%|████▍     | 1915/4321 [01:53<02:26, 16.39it/s]"
     ]
    },
    {
     "name": "stdout",
     "output_type": "stream",
     "text": [
      "[729.88517807 888.97206621]\n",
      "[ 971.56508574 1090.22454619]\n"
     ]
    },
    {
     "name": "stderr",
     "output_type": "stream",
     "text": [
      " 44%|████▍     | 1919/4321 [01:53<02:24, 16.67it/s]"
     ]
    },
    {
     "name": "stdout",
     "output_type": "stream",
     "text": [
      "[238.84288793 236.34727747]\n",
      "[676.13572683]\n",
      "[ 591.11673964  987.35273198 1089.57234029 1271.09370201]\n"
     ]
    },
    {
     "name": "stderr",
     "output_type": "stream",
     "text": [
      " 45%|████▍     | 1923/4321 [01:54<02:21, 16.91it/s]"
     ]
    },
    {
     "name": "stdout",
     "output_type": "stream",
     "text": [
      "[1133.83053765]\n",
      "[ 420.26844006  510.02593162  653.70670338  677.07432715  777.76192751\n",
      " 1002.26996315 1073.84130912]\n",
      "[]\n"
     ]
    },
    {
     "name": "stderr",
     "output_type": "stream",
     "text": [
      " 45%|████▍     | 1929/4321 [01:54<02:20, 17.06it/s]"
     ]
    },
    {
     "name": "stdout",
     "output_type": "stream",
     "text": [
      "[341.00022889 530.72145182 848.66118619]\n"
     ]
    },
    {
     "name": "stderr",
     "output_type": "stream",
     "text": [
      " 45%|████▍     | 1933/4321 [01:54<02:23, 16.69it/s]"
     ]
    },
    {
     "name": "stdout",
     "output_type": "stream",
     "text": [
      "[1098.42799861 1156.13851032]\n",
      "[351.15248546]\n"
     ]
    },
    {
     "name": "stderr",
     "output_type": "stream",
     "text": [
      " 45%|████▍     | 1937/4321 [01:54<02:22, 16.69it/s]"
     ]
    },
    {
     "name": "stdout",
     "output_type": "stream",
     "text": [
      "[]\n"
     ]
    },
    {
     "name": "stderr",
     "output_type": "stream",
     "text": [
      " 45%|████▌     | 1957/4321 [01:56<02:35, 15.16it/s]"
     ]
    },
    {
     "name": "stdout",
     "output_type": "stream",
     "text": [
      "[ 625.2609869  1032.04074218]\n",
      "[ 697.5732688   913.27589333  969.04121772 1096.88944403]\n",
      "[651.38423418]\n"
     ]
    },
    {
     "name": "stderr",
     "output_type": "stream",
     "text": [
      " 45%|████▌     | 1961/4321 [01:56<02:24, 16.34it/s]"
     ]
    },
    {
     "name": "stdout",
     "output_type": "stream",
     "text": [
      "[472.38935906 616.06591411 786.65418189]\n",
      "[]\n",
      "[354.3693715 514.2083211]\n"
     ]
    },
    {
     "name": "stderr",
     "output_type": "stream",
     "text": [
      " 46%|████▌     | 1969/4321 [01:56<02:22, 16.51it/s]"
     ]
    },
    {
     "name": "stdout",
     "output_type": "stream",
     "text": [
      "[1147.83320456]\n",
      "[870.87374461]\n"
     ]
    },
    {
     "name": "stderr",
     "output_type": "stream",
     "text": [
      " 46%|████▌     | 1975/4321 [01:57<02:26, 16.01it/s]"
     ]
    },
    {
     "name": "stdout",
     "output_type": "stream",
     "text": [
      "[967.59544992]\n",
      "[1248.35158085]\n",
      "[]\n"
     ]
    },
    {
     "name": "stderr",
     "output_type": "stream",
     "text": [
      " 46%|████▌     | 1979/4321 [01:57<02:23, 16.33it/s]"
     ]
    },
    {
     "name": "stdout",
     "output_type": "stream",
     "text": [
      "[ 664.7853101   833.80711527 1025.83246515]\n",
      "[]\n",
      "[ 441.24696831  561.37964525 1235.26570278]\n",
      "[ 940.62170805 1077.15542915]\n"
     ]
    },
    {
     "name": "stderr",
     "output_type": "stream",
     "text": [
      " 46%|████▌     | 1985/4321 [01:57<02:18, 16.90it/s]"
     ]
    },
    {
     "name": "stdout",
     "output_type": "stream",
     "text": [
      "[982.05471379]\n",
      "[476.10631863]\n"
     ]
    },
    {
     "name": "stderr",
     "output_type": "stream",
     "text": [
      " 46%|████▌     | 1991/4321 [01:58<02:15, 17.26it/s]"
     ]
    },
    {
     "name": "stdout",
     "output_type": "stream",
     "text": [
      "[611.71158885]\n",
      "[]\n"
     ]
    },
    {
     "name": "stderr",
     "output_type": "stream",
     "text": [
      " 46%|████▌     | 1995/4321 [01:58<02:16, 17.03it/s]"
     ]
    },
    {
     "name": "stdout",
     "output_type": "stream",
     "text": [
      "[745.010232]\n",
      "[474.34200222]\n"
     ]
    },
    {
     "name": "stderr",
     "output_type": "stream",
     "text": [
      " 46%|████▋     | 2001/4321 [01:58<02:17, 16.91it/s]"
     ]
    },
    {
     "name": "stdout",
     "output_type": "stream",
     "text": [
      "[865.7603001]\n",
      "[1203.58059345]\n",
      "[1020.8279346]\n"
     ]
    },
    {
     "name": "stderr",
     "output_type": "stream",
     "text": [
      " 46%|████▋     | 2005/4321 [01:58<02:13, 17.32it/s]"
     ]
    },
    {
     "name": "stdout",
     "output_type": "stream",
     "text": [
      "[ 257.87328824 1051.97688575]\n",
      "[1052.4803845]\n",
      "[ 405.39295357  771.6212719   985.16208092 1062.33948045 1192.20403921]\n"
     ]
    },
    {
     "name": "stderr",
     "output_type": "stream",
     "text": [
      " 47%|████▋     | 2011/4321 [01:59<02:13, 17.28it/s]"
     ]
    },
    {
     "name": "stdout",
     "output_type": "stream",
     "text": [
      "[474.82312778]\n",
      "[552.32982912]\n",
      "[401.00030503]\n",
      "[1212.0735641]\n"
     ]
    },
    {
     "name": "stderr",
     "output_type": "stream",
     "text": [
      " 47%|████▋     | 2023/4321 [02:00<02:29, 15.38it/s]"
     ]
    },
    {
     "name": "stdout",
     "output_type": "stream",
     "text": [
      "[1075.37248141]\n"
     ]
    },
    {
     "name": "stderr",
     "output_type": "stream",
     "text": [
      " 47%|████▋     | 2027/4321 [02:00<02:21, 16.17it/s]"
     ]
    },
    {
     "name": "stdout",
     "output_type": "stream",
     "text": [
      "[988.4053206]\n",
      "[489.59841964 741.79421555]\n"
     ]
    },
    {
     "name": "stderr",
     "output_type": "stream",
     "text": [
      " 47%|████▋     | 2031/4321 [02:00<02:23, 16.00it/s]"
     ]
    },
    {
     "name": "stdout",
     "output_type": "stream",
     "text": [
      "[244.87741701]\n",
      "[573.70087443 600.84313292 789.94590445 994.74797086]\n",
      "[1043.13306944]\n"
     ]
    },
    {
     "name": "stderr",
     "output_type": "stream",
     "text": [
      " 47%|████▋     | 2035/4321 [02:00<02:20, 16.28it/s]"
     ]
    },
    {
     "name": "stdout",
     "output_type": "stream",
     "text": [
      "[ 453.66316087  915.72040477 1047.49406908 1208.6162639 ]\n",
      "[755.71564872 809.3419911 ]\n"
     ]
    },
    {
     "name": "stderr",
     "output_type": "stream",
     "text": [
      " 47%|████▋     | 2039/4321 [02:01<02:23, 15.93it/s]"
     ]
    },
    {
     "name": "stdout",
     "output_type": "stream",
     "text": [
      "[ 358.11147377  662.34427323  830.12147367 1188.3840288  1216.23725009]\n",
      "[876.31062378 968.7678235 ]\n",
      "[430.30267748]\n"
     ]
    },
    {
     "name": "stderr",
     "output_type": "stream",
     "text": [
      " 47%|████▋     | 2045/4321 [02:01<02:16, 16.62it/s]"
     ]
    },
    {
     "name": "stdout",
     "output_type": "stream",
     "text": [
      "[ 818.18392956  922.18505839 1112.81942791]\n",
      "[283.35202846]\n"
     ]
    },
    {
     "name": "stderr",
     "output_type": "stream",
     "text": [
      " 47%|████▋     | 2049/4321 [02:01<02:19, 16.24it/s]"
     ]
    },
    {
     "name": "stdout",
     "output_type": "stream",
     "text": [
      "[]\n"
     ]
    },
    {
     "name": "stderr",
     "output_type": "stream",
     "text": [
      "\r",
      " 47%|████▋     | 2051/4321 [02:01<02:35, 14.63it/s]"
     ]
    },
    {
     "name": "stdout",
     "output_type": "stream",
     "text": [
      "[1136.45652769 1254.34777514]\n",
      "[]\n"
     ]
    },
    {
     "name": "stderr",
     "output_type": "stream",
     "text": [
      " 48%|████▊     | 2055/4321 [02:02<02:41, 14.06it/s]"
     ]
    },
    {
     "name": "stdout",
     "output_type": "stream",
     "text": [
      "[]\n"
     ]
    },
    {
     "name": "stderr",
     "output_type": "stream",
     "text": [
      "\r",
      " 48%|████▊     | 2057/4321 [02:02<02:35, 14.53it/s]"
     ]
    },
    {
     "name": "stdout",
     "output_type": "stream",
     "text": [
      "[]\n",
      "[413.53030782 561.97976877]\n"
     ]
    },
    {
     "name": "stderr",
     "output_type": "stream",
     "text": [
      " 48%|████▊     | 2063/4321 [02:02<02:36, 14.39it/s]"
     ]
    },
    {
     "name": "stdout",
     "output_type": "stream",
     "text": [
      "[624.66030415]\n",
      "[501.4744744  651.66675403]\n"
     ]
    },
    {
     "name": "stderr",
     "output_type": "stream",
     "text": [
      "\r",
      " 48%|████▊     | 2065/4321 [02:02<02:51, 13.15it/s]"
     ]
    },
    {
     "name": "stdout",
     "output_type": "stream",
     "text": [
      "[882.49208423 931.45477739]\n",
      "[]\n",
      "[]\n"
     ]
    },
    {
     "name": "stderr",
     "output_type": "stream",
     "text": [
      " 48%|████▊     | 2069/4321 [02:03<02:52, 13.08it/s]"
     ]
    },
    {
     "name": "stdout",
     "output_type": "stream",
     "text": [
      "[448.42274375 451.77358206 677.01455051]\n"
     ]
    },
    {
     "name": "stderr",
     "output_type": "stream",
     "text": [
      " 48%|████▊     | 2073/4321 [02:03<02:41, 13.89it/s]"
     ]
    },
    {
     "name": "stdout",
     "output_type": "stream",
     "text": [
      "[985.92157401]\n",
      "[]\n"
     ]
    },
    {
     "name": "stderr",
     "output_type": "stream",
     "text": [
      " 48%|████▊     | 2079/4321 [02:03<02:22, 15.75it/s]"
     ]
    },
    {
     "name": "stdout",
     "output_type": "stream",
     "text": [
      "[610.8820348]\n"
     ]
    },
    {
     "name": "stderr",
     "output_type": "stream",
     "text": [
      "\r",
      " 48%|████▊     | 2081/4321 [02:03<02:33, 14.63it/s]"
     ]
    },
    {
     "name": "stdout",
     "output_type": "stream",
     "text": [
      "[578.02291612]\n"
     ]
    },
    {
     "name": "stderr",
     "output_type": "stream",
     "text": [
      " 48%|████▊     | 2091/4321 [02:04<02:53, 12.84it/s]"
     ]
    },
    {
     "name": "stdout",
     "output_type": "stream",
     "text": [
      "[590.83345311]\n",
      "[957.6484365]\n",
      "[1074.71959573]\n"
     ]
    },
    {
     "name": "stderr",
     "output_type": "stream",
     "text": [
      " 48%|████▊     | 2095/4321 [02:05<02:41, 13.75it/s]"
     ]
    },
    {
     "name": "stdout",
     "output_type": "stream",
     "text": [
      "[306.12393729]\n",
      "[1005.68683146]\n",
      "[709.85923628 860.43920936]\n"
     ]
    },
    {
     "name": "stderr",
     "output_type": "stream",
     "text": [
      " 49%|████▊     | 2099/4321 [02:05<02:35, 14.30it/s]"
     ]
    },
    {
     "name": "stdout",
     "output_type": "stream",
     "text": [
      "[348.40020494 356.03288247]\n"
     ]
    },
    {
     "name": "stderr",
     "output_type": "stream",
     "text": [
      " 49%|████▉     | 2111/4321 [02:06<02:51, 12.92it/s]"
     ]
    },
    {
     "name": "stdout",
     "output_type": "stream",
     "text": [
      "[]\n",
      "[]\n",
      "[ 881.2113869  1058.82279137]\n"
     ]
    },
    {
     "name": "stderr",
     "output_type": "stream",
     "text": [
      "\r",
      " 49%|████▉     | 2113/4321 [02:06<02:57, 12.44it/s]"
     ]
    },
    {
     "name": "stdout",
     "output_type": "stream",
     "text": [
      "[ 330.32042037  514.13910479 1161.98299542]\n",
      "[401.84174602 630.7009676  757.26981492]\n",
      "[276.00714035]\n"
     ]
    },
    {
     "name": "stderr",
     "output_type": "stream",
     "text": [
      " 49%|████▉     | 2117/4321 [02:06<03:29, 10.54it/s]"
     ]
    },
    {
     "name": "stdout",
     "output_type": "stream",
     "text": [
      "[308.14130551]\n",
      "[952.00401499]\n"
     ]
    },
    {
     "name": "stderr",
     "output_type": "stream",
     "text": [
      " 49%|████▉     | 2121/4321 [02:07<03:53,  9.41it/s]"
     ]
    },
    {
     "name": "stdout",
     "output_type": "stream",
     "text": [
      "[601.8645097  864.37894306]\n",
      "[383.98034827 709.99180247]\n"
     ]
    },
    {
     "name": "stderr",
     "output_type": "stream",
     "text": [
      "\r",
      " 49%|████▉     | 2123/4321 [02:07<03:44,  9.78it/s]"
     ]
    },
    {
     "name": "stdout",
     "output_type": "stream",
     "text": [
      "[935.09231991]\n"
     ]
    },
    {
     "name": "stderr",
     "output_type": "stream",
     "text": [
      " 50%|████▉     | 2140/4321 [02:09<03:24, 10.68it/s]"
     ]
    },
    {
     "name": "stdout",
     "output_type": "stream",
     "text": [
      "[1089.65061081]\n",
      "[1185.39248784]\n",
      "[]\n"
     ]
    },
    {
     "name": "stderr",
     "output_type": "stream",
     "text": [
      " 50%|████▉     | 2146/4321 [02:10<02:50, 12.73it/s]"
     ]
    },
    {
     "name": "stdout",
     "output_type": "stream",
     "text": [
      "[]\n",
      "[1022.5687819]\n"
     ]
    },
    {
     "name": "stderr",
     "output_type": "stream",
     "text": [
      " 50%|████▉     | 2150/4321 [02:10<02:41, 13.47it/s]"
     ]
    },
    {
     "name": "stdout",
     "output_type": "stream",
     "text": [
      "[488.07421113 572.4142335  678.94281322]\n",
      "[520.57680322 776.05291323 942.23439871]\n"
     ]
    },
    {
     "name": "stderr",
     "output_type": "stream",
     "text": [
      " 50%|████▉     | 2156/4321 [02:11<02:25, 14.86it/s]"
     ]
    },
    {
     "name": "stdout",
     "output_type": "stream",
     "text": [
      "[]\n",
      "[683.91373328 774.58214214 829.98437932]\n"
     ]
    },
    {
     "name": "stderr",
     "output_type": "stream",
     "text": [
      " 50%|█████     | 2164/4321 [02:11<02:15, 15.93it/s]"
     ]
    },
    {
     "name": "stdout",
     "output_type": "stream",
     "text": [
      "[ 964.7120697  1040.81813901 1220.45610093]\n",
      "[640.05166483 730.90628229 899.48741047]\n"
     ]
    },
    {
     "name": "stderr",
     "output_type": "stream",
     "text": [
      " 50%|█████     | 2178/4321 [02:12<02:02, 17.52it/s]"
     ]
    },
    {
     "name": "stdout",
     "output_type": "stream",
     "text": [
      "[559.15021329 629.68713955]\n"
     ]
    },
    {
     "name": "stderr",
     "output_type": "stream",
     "text": [
      " 50%|█████     | 2182/4321 [02:12<02:02, 17.51it/s]"
     ]
    },
    {
     "name": "stdout",
     "output_type": "stream",
     "text": [
      "[]\n",
      "[]\n"
     ]
    },
    {
     "name": "stderr",
     "output_type": "stream",
     "text": [
      " 51%|█████     | 2186/4321 [02:12<02:00, 17.78it/s]"
     ]
    },
    {
     "name": "stdout",
     "output_type": "stream",
     "text": [
      "[785.37780169]\n"
     ]
    },
    {
     "name": "stderr",
     "output_type": "stream",
     "text": [
      " 51%|█████     | 2190/4321 [02:13<02:01, 17.60it/s]"
     ]
    },
    {
     "name": "stdout",
     "output_type": "stream",
     "text": [
      "[785.4002433]\n",
      "[338.4841111]\n"
     ]
    },
    {
     "name": "stderr",
     "output_type": "stream",
     "text": [
      " 51%|█████     | 2194/4321 [02:13<01:56, 18.21it/s]"
     ]
    },
    {
     "name": "stdout",
     "output_type": "stream",
     "text": [
      "[388.30432658 758.33421731 842.34391087]\n",
      "[]\n",
      "[731.4936183]\n"
     ]
    },
    {
     "name": "stderr",
     "output_type": "stream",
     "text": [
      " 51%|█████     | 2198/4321 [02:13<01:57, 18.10it/s]"
     ]
    },
    {
     "name": "stdout",
     "output_type": "stream",
     "text": [
      "[]\n",
      "[]\n"
     ]
    },
    {
     "name": "stderr",
     "output_type": "stream",
     "text": [
      " 51%|█████     | 2204/4321 [02:13<01:56, 18.11it/s]"
     ]
    },
    {
     "name": "stdout",
     "output_type": "stream",
     "text": [
      "[471.10394944 629.91130622]\n"
     ]
    },
    {
     "name": "stderr",
     "output_type": "stream",
     "text": [
      " 51%|█████     | 2208/4321 [02:14<02:15, 15.64it/s]"
     ]
    },
    {
     "name": "stdout",
     "output_type": "stream",
     "text": [
      "[794.48506708 965.15448773]\n"
     ]
    },
    {
     "name": "stderr",
     "output_type": "stream",
     "text": [
      " 51%|█████     | 2212/4321 [02:14<02:05, 16.75it/s]"
     ]
    },
    {
     "name": "stdout",
     "output_type": "stream",
     "text": [
      "[ 596.2256815  1150.37688206]\n"
     ]
    },
    {
     "name": "stderr",
     "output_type": "stream",
     "text": [
      " 51%|█████▏    | 2224/4321 [02:14<01:59, 17.48it/s]"
     ]
    },
    {
     "name": "stdout",
     "output_type": "stream",
     "text": [
      "[750.08444287]\n"
     ]
    },
    {
     "name": "stderr",
     "output_type": "stream",
     "text": [
      " 52%|█████▏    | 2228/4321 [02:15<02:05, 16.63it/s]"
     ]
    },
    {
     "name": "stdout",
     "output_type": "stream",
     "text": [
      "[613.42557108 683.44158856 794.08546769 832.38795671]\n"
     ]
    },
    {
     "name": "stderr",
     "output_type": "stream",
     "text": [
      " 52%|█████▏    | 2234/4321 [02:15<02:00, 17.29it/s]"
     ]
    },
    {
     "name": "stdout",
     "output_type": "stream",
     "text": [
      "[]\n"
     ]
    },
    {
     "name": "stderr",
     "output_type": "stream",
     "text": [
      " 52%|█████▏    | 2240/4321 [02:15<01:58, 17.54it/s]"
     ]
    },
    {
     "name": "stdout",
     "output_type": "stream",
     "text": [
      "[542.59784143 743.71674496 911.62755035]\n",
      "[ 956.58856705 1060.45156913]\n"
     ]
    },
    {
     "name": "stderr",
     "output_type": "stream",
     "text": [
      " 52%|█████▏    | 2244/4321 [02:16<02:02, 17.01it/s]"
     ]
    },
    {
     "name": "stdout",
     "output_type": "stream",
     "text": [
      "[318.95116984]\n"
     ]
    },
    {
     "name": "stderr",
     "output_type": "stream",
     "text": [
      " 52%|█████▏    | 2250/4321 [02:16<01:55, 17.92it/s]"
     ]
    },
    {
     "name": "stdout",
     "output_type": "stream",
     "text": [
      "[580.62558303]\n"
     ]
    },
    {
     "name": "stderr",
     "output_type": "stream",
     "text": [
      " 52%|█████▏    | 2254/4321 [02:16<01:55, 17.92it/s]"
     ]
    },
    {
     "name": "stdout",
     "output_type": "stream",
     "text": [
      "[ 306.03766963 1184.74796728]\n",
      "[1212.47846403]\n",
      "[]\n",
      "[790.68653405]\n"
     ]
    },
    {
     "name": "stderr",
     "output_type": "stream",
     "text": [
      " 52%|█████▏    | 2258/4321 [02:17<02:05, 16.38it/s]"
     ]
    },
    {
     "name": "stdout",
     "output_type": "stream",
     "text": [
      "[395.34570828 558.23131297 813.3655126 ]\n"
     ]
    },
    {
     "name": "stderr",
     "output_type": "stream",
     "text": [
      " 52%|█████▏    | 2265/4321 [02:17<01:59, 17.19it/s]"
     ]
    },
    {
     "name": "stdout",
     "output_type": "stream",
     "text": [
      "[]\n",
      "[290.92092542]\n",
      "[272.83180911 494.2322976  849.17143226]\n",
      "[ 526.9262642   649.83263439  942.68308152 1071.39428082]\n"
     ]
    },
    {
     "name": "stderr",
     "output_type": "stream",
     "text": [
      " 53%|█████▎    | 2269/4321 [02:17<02:00, 17.10it/s]"
     ]
    },
    {
     "name": "stdout",
     "output_type": "stream",
     "text": [
      "[328.0265135  753.41852615]\n",
      "[324.06401822 399.49921293 483.00346256]\n",
      "[276.89850334]\n"
     ]
    },
    {
     "name": "stderr",
     "output_type": "stream",
     "text": [
      " 53%|█████▎    | 2273/4321 [02:17<01:56, 17.55it/s]"
     ]
    },
    {
     "name": "stdout",
     "output_type": "stream",
     "text": [
      "[ 312.77664142 1054.10848756]\n",
      "[ 336.62349007  422.6775705  1164.04465699]\n"
     ]
    },
    {
     "name": "stderr",
     "output_type": "stream",
     "text": [
      " 53%|█████▎    | 2281/4321 [02:18<01:56, 17.56it/s]"
     ]
    },
    {
     "name": "stdout",
     "output_type": "stream",
     "text": [
      "[252.0583789  328.28540494]\n",
      "[405.01171154]\n"
     ]
    },
    {
     "name": "stderr",
     "output_type": "stream",
     "text": [
      " 53%|█████▎    | 2285/4321 [02:18<01:55, 17.70it/s]"
     ]
    },
    {
     "name": "stdout",
     "output_type": "stream",
     "text": [
      "[341.86857428]\n",
      "[224.84801446 493.05975576 644.46481187 812.34939238 939.63881604\n",
      " 970.68820212]\n"
     ]
    },
    {
     "name": "stderr",
     "output_type": "stream",
     "text": [
      " 53%|█████▎    | 2289/4321 [02:18<02:02, 16.62it/s]"
     ]
    },
    {
     "name": "stdout",
     "output_type": "stream",
     "text": [
      "[ 303.10358989  401.79782458  699.47192861  743.84064976  918.5641285\n",
      " 1027.78486815 1123.18816275]\n",
      "[]\n",
      "[ 663.14502699  860.64711127 1110.53988498 1196.57065796]\n",
      "[375.88841925]\n"
     ]
    },
    {
     "name": "stderr",
     "output_type": "stream",
     "text": [
      " 53%|█████▎    | 2293/4321 [02:19<01:56, 17.38it/s]"
     ]
    },
    {
     "name": "stdout",
     "output_type": "stream",
     "text": [
      "[]\n"
     ]
    },
    {
     "name": "stderr",
     "output_type": "stream",
     "text": [
      " 53%|█████▎    | 2297/4321 [02:19<01:57, 17.16it/s]"
     ]
    },
    {
     "name": "stdout",
     "output_type": "stream",
     "text": [
      "[ 800.32094374 1280.78007589]\n",
      "[797.18897871]\n",
      "[]\n"
     ]
    },
    {
     "name": "stderr",
     "output_type": "stream",
     "text": [
      " 53%|█████▎    | 2301/4321 [02:19<01:59, 16.94it/s]"
     ]
    },
    {
     "name": "stdout",
     "output_type": "stream",
     "text": [
      "[455.40518073]\n",
      "[]\n",
      "[ 593.11743184  704.80677987 1213.6825089 ]\n",
      "[413.80344944 743.46392021 814.82367334]\n"
     ]
    },
    {
     "name": "stderr",
     "output_type": "stream",
     "text": [
      " 53%|█████▎    | 2305/4321 [02:19<01:55, 17.49it/s]"
     ]
    },
    {
     "name": "stdout",
     "output_type": "stream",
     "text": [
      "[272.74419369 606.78019212 686.93978202]\n",
      "[335.96464726]\n",
      "[ 844.02972689 1121.56605226]\n",
      "[792.27118822]\n"
     ]
    },
    {
     "name": "stderr",
     "output_type": "stream",
     "text": [
      " 54%|█████▎    | 2320/4321 [02:20<01:51, 17.92it/s]"
     ]
    },
    {
     "name": "stdout",
     "output_type": "stream",
     "text": [
      "[416.32446587]\n"
     ]
    },
    {
     "name": "stderr",
     "output_type": "stream",
     "text": [
      " 54%|█████▍    | 2324/4321 [02:20<01:53, 17.57it/s]"
     ]
    },
    {
     "name": "stdout",
     "output_type": "stream",
     "text": [
      "[823.22338696]\n",
      "[313.981209]\n"
     ]
    },
    {
     "name": "stderr",
     "output_type": "stream",
     "text": [
      " 54%|█████▍    | 2328/4321 [02:20<01:56, 17.03it/s]"
     ]
    },
    {
     "name": "stdout",
     "output_type": "stream",
     "text": [
      "[379.97647017 893.08866054]\n",
      "[]\n",
      "[ 400.73309565  517.9121368   505.67812345  679.52935472  769.91493468\n",
      "  891.98609569 1024.30704141 1158.18424829]\n"
     ]
    },
    {
     "name": "stderr",
     "output_type": "stream",
     "text": [
      " 54%|█████▍    | 2344/4321 [02:21<01:49, 17.98it/s]"
     ]
    },
    {
     "name": "stdout",
     "output_type": "stream",
     "text": [
      "[ 768.12062634 1018.47389302]\n"
     ]
    },
    {
     "name": "stderr",
     "output_type": "stream",
     "text": [
      " 54%|█████▍    | 2348/4321 [02:22<01:50, 17.85it/s]"
     ]
    },
    {
     "name": "stdout",
     "output_type": "stream",
     "text": [
      "[978.26112494]\n"
     ]
    },
    {
     "name": "stderr",
     "output_type": "stream",
     "text": [
      " 54%|█████▍    | 2352/4321 [02:22<01:54, 17.23it/s]"
     ]
    },
    {
     "name": "stdout",
     "output_type": "stream",
     "text": [
      "[]\n",
      "[835.32677283]\n"
     ]
    },
    {
     "name": "stderr",
     "output_type": "stream",
     "text": [
      " 55%|█████▍    | 2356/4321 [02:22<01:53, 17.38it/s]"
     ]
    },
    {
     "name": "stdout",
     "output_type": "stream",
     "text": [
      "[607.66239239]\n",
      "[ 395.55998984  797.18900696 1052.28477995 1095.91753349]\n",
      "[1203.40386095]\n"
     ]
    },
    {
     "name": "stderr",
     "output_type": "stream",
     "text": [
      " 55%|█████▍    | 2360/4321 [02:22<01:51, 17.61it/s]"
     ]
    },
    {
     "name": "stdout",
     "output_type": "stream",
     "text": [
      "[]\n",
      "[ 664.44596176  865.75794073 1163.71185806]\n"
     ]
    },
    {
     "name": "stderr",
     "output_type": "stream",
     "text": [
      " 55%|█████▍    | 2364/4321 [02:23<01:51, 17.51it/s]"
     ]
    },
    {
     "name": "stdout",
     "output_type": "stream",
     "text": [
      "[492.52237808 519.359223  ]\n",
      "[1247.35839302]\n"
     ]
    },
    {
     "name": "stderr",
     "output_type": "stream",
     "text": [
      " 55%|█████▍    | 2368/4321 [02:23<01:54, 17.13it/s]"
     ]
    },
    {
     "name": "stdout",
     "output_type": "stream",
     "text": [
      "[1231.49487692]\n",
      "[]\n"
     ]
    },
    {
     "name": "stderr",
     "output_type": "stream",
     "text": [
      " 55%|█████▍    | 2375/4321 [02:23<01:42, 18.91it/s]"
     ]
    },
    {
     "name": "stdout",
     "output_type": "stream",
     "text": [
      "[]\n",
      "[533.34674281]\n"
     ]
    },
    {
     "name": "stderr",
     "output_type": "stream",
     "text": [
      " 55%|█████▌    | 2381/4321 [02:23<01:48, 17.80it/s]"
     ]
    },
    {
     "name": "stdout",
     "output_type": "stream",
     "text": [
      "[ 247.01181557  893.92543965 1209.00293079]\n",
      "[]\n",
      "[ 926.22306134 1115.97900123]\n",
      "[455.38693696 866.31658142]\n"
     ]
    },
    {
     "name": "stderr",
     "output_type": "stream",
     "text": [
      " 55%|█████▌    | 2387/4321 [02:24<01:49, 17.59it/s]"
     ]
    },
    {
     "name": "stdout",
     "output_type": "stream",
     "text": [
      "[277.56744174]\n",
      "[ 742.42773484  899.01331175  985.88525507 1227.13522644]\n",
      "[]\n",
      "[]\n"
     ]
    },
    {
     "name": "stderr",
     "output_type": "stream",
     "text": [
      " 55%|█████▌    | 2391/4321 [02:24<01:48, 17.81it/s]"
     ]
    },
    {
     "name": "stdout",
     "output_type": "stream",
     "text": [
      "[470.14437014 595.61237801]\n",
      "[844.0569385  964.61324854]\n"
     ]
    },
    {
     "name": "stderr",
     "output_type": "stream",
     "text": [
      " 55%|█████▌    | 2395/4321 [02:24<01:46, 18.08it/s]"
     ]
    },
    {
     "name": "stdout",
     "output_type": "stream",
     "text": [
      "[342.89144012 449.17492757]\n"
     ]
    },
    {
     "name": "stderr",
     "output_type": "stream",
     "text": [
      " 56%|█████▌    | 2399/4321 [02:24<01:46, 18.03it/s]"
     ]
    },
    {
     "name": "stdout",
     "output_type": "stream",
     "text": [
      "[ 718.20155954 1105.24270963]\n",
      "[]\n",
      "[1014.35805854]\n"
     ]
    },
    {
     "name": "stderr",
     "output_type": "stream",
     "text": [
      " 56%|█████▌    | 2405/4321 [02:25<01:50, 17.30it/s]"
     ]
    },
    {
     "name": "stdout",
     "output_type": "stream",
     "text": [
      "[412.05433611]\n",
      "[415.5111407  553.34207407]\n",
      "[ 858.90108307 1010.81265436 1014.26594198]\n"
     ]
    },
    {
     "name": "stderr",
     "output_type": "stream",
     "text": [
      " 56%|█████▌    | 2409/4321 [02:25<01:53, 16.91it/s]"
     ]
    },
    {
     "name": "stdout",
     "output_type": "stream",
     "text": [
      "[568.73114254]\n",
      "[]\n"
     ]
    },
    {
     "name": "stderr",
     "output_type": "stream",
     "text": [
      " 56%|█████▌    | 2413/4321 [02:25<01:52, 16.96it/s]"
     ]
    },
    {
     "name": "stdout",
     "output_type": "stream",
     "text": [
      "[ 683.67861901  779.93750595 1127.478485  ]\n",
      "[1051.35065187 1157.67296021]\n"
     ]
    },
    {
     "name": "stderr",
     "output_type": "stream",
     "text": [
      " 56%|█████▌    | 2423/4321 [02:26<01:48, 17.52it/s]"
     ]
    },
    {
     "name": "stdout",
     "output_type": "stream",
     "text": [
      "[]\n"
     ]
    },
    {
     "name": "stderr",
     "output_type": "stream",
     "text": [
      " 56%|█████▌    | 2429/4321 [02:26<01:48, 17.50it/s]"
     ]
    },
    {
     "name": "stdout",
     "output_type": "stream",
     "text": [
      "[ 328.05268761  402.12922151  697.44261608 1092.59992264]\n",
      "[]\n"
     ]
    },
    {
     "name": "stderr",
     "output_type": "stream",
     "text": [
      " 57%|█████▋    | 2443/4321 [02:27<02:04, 15.13it/s]"
     ]
    },
    {
     "name": "stdout",
     "output_type": "stream",
     "text": [
      "[ 246.68300741  332.14744105  455.06599857  706.72225296  749.93473932\n",
      "  873.30382542 1193.15812157 1260.80553343]\n",
      "[775.72992031 920.67817093]\n",
      "[741.98018015]\n"
     ]
    },
    {
     "name": "stderr",
     "output_type": "stream",
     "text": [
      " 57%|█████▋    | 2447/4321 [02:27<01:57, 15.99it/s]"
     ]
    },
    {
     "name": "stdout",
     "output_type": "stream",
     "text": [
      "[938.47335326]\n",
      "[]\n"
     ]
    },
    {
     "name": "stderr",
     "output_type": "stream",
     "text": [
      " 57%|█████▋    | 2457/4321 [02:28<01:50, 16.81it/s]"
     ]
    },
    {
     "name": "stdout",
     "output_type": "stream",
     "text": [
      "[422.58460601 476.03824595 621.91873953 660.81770502 871.02462391\n",
      " 993.91920619]\n",
      "[314.9921779  683.84404621]\n"
     ]
    },
    {
     "name": "stderr",
     "output_type": "stream",
     "text": [
      " 57%|█████▋    | 2461/4321 [02:28<01:47, 17.30it/s]"
     ]
    },
    {
     "name": "stdout",
     "output_type": "stream",
     "text": [
      "[]\n"
     ]
    },
    {
     "name": "stderr",
     "output_type": "stream",
     "text": [
      " 57%|█████▋    | 2467/4321 [02:29<01:47, 17.25it/s]"
     ]
    },
    {
     "name": "stdout",
     "output_type": "stream",
     "text": [
      "[790.90603438]\n"
     ]
    },
    {
     "name": "stderr",
     "output_type": "stream",
     "text": [
      " 57%|█████▋    | 2475/4321 [02:29<01:42, 17.93it/s]"
     ]
    },
    {
     "name": "stdout",
     "output_type": "stream",
     "text": [
      "[386.02714194 576.48438593]\n",
      "[436.46063731 582.1528272  624.65869934 811.1263533 ]\n"
     ]
    },
    {
     "name": "stderr",
     "output_type": "stream",
     "text": [
      " 57%|█████▋    | 2483/4321 [02:29<01:44, 17.58it/s]"
     ]
    },
    {
     "name": "stdout",
     "output_type": "stream",
     "text": [
      "[874.14407171]\n",
      "[717.17109831 936.82313072]\n",
      "[ 279.25102278  754.54276435  795.62445267 1200.77530033]\n"
     ]
    },
    {
     "name": "stderr",
     "output_type": "stream",
     "text": [
      " 58%|█████▊    | 2487/4321 [02:30<01:43, 17.68it/s]"
     ]
    },
    {
     "name": "stdout",
     "output_type": "stream",
     "text": [
      "[504.88609776]\n",
      "[344.56379239 459.19453131]\n"
     ]
    },
    {
     "name": "stderr",
     "output_type": "stream",
     "text": [
      " 58%|█████▊    | 2491/4321 [02:30<01:39, 18.44it/s]"
     ]
    },
    {
     "name": "stdout",
     "output_type": "stream",
     "text": [
      "[1178.61994511]\n",
      "[ 236.3983592   337.61313525  532.43515185 1138.56311167]\n"
     ]
    },
    {
     "name": "stderr",
     "output_type": "stream",
     "text": [
      " 58%|█████▊    | 2497/4321 [02:30<01:46, 17.14it/s]"
     ]
    },
    {
     "name": "stdout",
     "output_type": "stream",
     "text": [
      "[516.77486016]\n",
      "[566.04516033]\n",
      "[909.44523207]\n"
     ]
    },
    {
     "name": "stderr",
     "output_type": "stream",
     "text": [
      " 58%|█████▊    | 2501/4321 [02:30<01:44, 17.48it/s]"
     ]
    },
    {
     "name": "stdout",
     "output_type": "stream",
     "text": [
      "[ 419.40867497  552.88257837  570.73595937  829.76682459 1248.71146725]\n",
      "[]\n"
     ]
    },
    {
     "name": "stderr",
     "output_type": "stream",
     "text": [
      " 58%|█████▊    | 2505/4321 [02:31<01:46, 17.05it/s]"
     ]
    },
    {
     "name": "stdout",
     "output_type": "stream",
     "text": [
      "[1035.76773493 1164.18013397]\n",
      "[1011.97953245]\n"
     ]
    },
    {
     "name": "stderr",
     "output_type": "stream",
     "text": [
      " 58%|█████▊    | 2511/4321 [02:31<01:43, 17.45it/s]"
     ]
    },
    {
     "name": "stdout",
     "output_type": "stream",
     "text": [
      "[]\n",
      "[1025.70240858]\n",
      "[ 466.59294334 1151.5262215 ]\n"
     ]
    },
    {
     "name": "stderr",
     "output_type": "stream",
     "text": [
      " 58%|█████▊    | 2517/4321 [02:31<01:45, 17.05it/s]"
     ]
    },
    {
     "name": "stdout",
     "output_type": "stream",
     "text": [
      "[ 654.45392855  779.5264317  1038.15386324  992.61207216]\n",
      "[717.15988403 859.82855564]\n",
      "[ 246.00259141  872.48504048 1146.99135194]\n",
      "[ 655.91742979  848.0231774  1088.94517424 1235.16751916]\n"
     ]
    },
    {
     "name": "stderr",
     "output_type": "stream",
     "text": [
      " 58%|█████▊    | 2523/4321 [02:32<01:44, 17.20it/s]"
     ]
    },
    {
     "name": "stdout",
     "output_type": "stream",
     "text": [
      "[ 649.82381424  789.9046249  1093.11026245]\n",
      "[ 993.37968962 1018.72039573 1093.95028827]\n"
     ]
    },
    {
     "name": "stderr",
     "output_type": "stream",
     "text": [
      " 59%|█████▊    | 2529/4321 [02:32<01:42, 17.55it/s]"
     ]
    },
    {
     "name": "stdout",
     "output_type": "stream",
     "text": [
      "[563.92422242 779.60408783]\n",
      "[583.31222879]\n"
     ]
    },
    {
     "name": "stderr",
     "output_type": "stream",
     "text": [
      " 59%|█████▊    | 2533/4321 [02:32<01:44, 17.19it/s]"
     ]
    },
    {
     "name": "stdout",
     "output_type": "stream",
     "text": [
      "[842.51030944]\n",
      "[334.03875955]\n"
     ]
    },
    {
     "name": "stderr",
     "output_type": "stream",
     "text": [
      " 59%|█████▉    | 2539/4321 [02:33<01:42, 17.34it/s]"
     ]
    },
    {
     "name": "stdout",
     "output_type": "stream",
     "text": [
      "[1091.02456146]\n",
      "[870.76872528]\n"
     ]
    },
    {
     "name": "stderr",
     "output_type": "stream",
     "text": [
      " 59%|█████▉    | 2543/4321 [02:33<01:42, 17.32it/s]"
     ]
    },
    {
     "name": "stdout",
     "output_type": "stream",
     "text": [
      "[1096.08163901]\n"
     ]
    },
    {
     "name": "stderr",
     "output_type": "stream",
     "text": [
      " 59%|█████▉    | 2549/4321 [02:33<01:42, 17.30it/s]"
     ]
    },
    {
     "name": "stdout",
     "output_type": "stream",
     "text": [
      "[756.48447701]\n",
      "[820.48858172]\n"
     ]
    },
    {
     "name": "stderr",
     "output_type": "stream",
     "text": [
      " 59%|█████▉    | 2562/4321 [02:34<01:36, 18.16it/s]"
     ]
    },
    {
     "name": "stdout",
     "output_type": "stream",
     "text": [
      "[1130.76450349 1192.49319337]\n"
     ]
    },
    {
     "name": "stderr",
     "output_type": "stream",
     "text": [
      " 59%|█████▉    | 2566/4321 [02:34<01:36, 18.23it/s]"
     ]
    },
    {
     "name": "stdout",
     "output_type": "stream",
     "text": [
      "[484.98088661 712.50548119 863.62610083]\n"
     ]
    },
    {
     "name": "stderr",
     "output_type": "stream",
     "text": [
      " 60%|█████▉    | 2573/4321 [02:35<01:39, 17.62it/s]"
     ]
    },
    {
     "name": "stdout",
     "output_type": "stream",
     "text": [
      "[948.55383701]\n",
      "[1168.45742363]\n",
      "[289.10301013 469.98520561]\n"
     ]
    },
    {
     "name": "stderr",
     "output_type": "stream",
     "text": [
      " 60%|█████▉    | 2587/4321 [02:35<01:41, 17.07it/s]"
     ]
    },
    {
     "name": "stdout",
     "output_type": "stream",
     "text": [
      "[750.19068593]\n"
     ]
    },
    {
     "name": "stderr",
     "output_type": "stream",
     "text": [
      " 60%|██████    | 2595/4321 [02:36<01:39, 17.30it/s]"
     ]
    },
    {
     "name": "stdout",
     "output_type": "stream",
     "text": [
      "[489.59530599]\n",
      "[]\n",
      "[226.46563406]\n"
     ]
    },
    {
     "name": "stderr",
     "output_type": "stream",
     "text": [
      " 60%|██████    | 2607/4321 [02:37<01:40, 17.03it/s]"
     ]
    },
    {
     "name": "stdout",
     "output_type": "stream",
     "text": [
      "[822.59829469]\n",
      "[429.76879244]\n"
     ]
    },
    {
     "name": "stderr",
     "output_type": "stream",
     "text": [
      " 61%|██████    | 2619/4321 [02:37<01:34, 17.96it/s]"
     ]
    },
    {
     "name": "stdout",
     "output_type": "stream",
     "text": [
      "[368.17050792]\n",
      "[822.90144082 854.80018657]\n"
     ]
    },
    {
     "name": "stderr",
     "output_type": "stream",
     "text": [
      " 61%|██████    | 2623/4321 [02:37<01:34, 17.89it/s]"
     ]
    },
    {
     "name": "stdout",
     "output_type": "stream",
     "text": [
      "[ 999.87850002 1035.20336834]\n",
      "[1096.94996058]\n"
     ]
    },
    {
     "name": "stderr",
     "output_type": "stream",
     "text": [
      " 61%|██████    | 2629/4321 [02:38<01:40, 16.89it/s]"
     ]
    },
    {
     "name": "stdout",
     "output_type": "stream",
     "text": [
      "[825.05177437]\n",
      "[ 839.18675954 1112.13416062]\n",
      "[ 981.67643635 1043.67296481]\n",
      "[743.9862283]\n"
     ]
    },
    {
     "name": "stderr",
     "output_type": "stream",
     "text": [
      " 61%|██████    | 2633/4321 [02:38<01:38, 17.18it/s]"
     ]
    },
    {
     "name": "stdout",
     "output_type": "stream",
     "text": [
      "[1100.6383587]\n"
     ]
    },
    {
     "name": "stderr",
     "output_type": "stream",
     "text": [
      " 61%|██████    | 2637/4321 [02:38<01:37, 17.34it/s]"
     ]
    },
    {
     "name": "stdout",
     "output_type": "stream",
     "text": [
      "[ 908.2885559  1046.35381709 1058.56255819]\n",
      "[415.06843166 677.19682711]\n",
      "[840.65705754]\n"
     ]
    },
    {
     "name": "stderr",
     "output_type": "stream",
     "text": [
      " 61%|██████    | 2643/4321 [02:39<01:33, 17.91it/s]"
     ]
    },
    {
     "name": "stdout",
     "output_type": "stream",
     "text": [
      "[]\n",
      "[]\n"
     ]
    },
    {
     "name": "stderr",
     "output_type": "stream",
     "text": [
      " 61%|██████▏   | 2649/4321 [02:39<01:31, 18.32it/s]"
     ]
    },
    {
     "name": "stdout",
     "output_type": "stream",
     "text": [
      "[ 366.37661946 1103.73984897 1182.16654851]\n"
     ]
    },
    {
     "name": "stderr",
     "output_type": "stream",
     "text": [
      " 61%|██████▏   | 2653/4321 [02:39<01:30, 18.52it/s]"
     ]
    },
    {
     "name": "stdout",
     "output_type": "stream",
     "text": [
      "[984.13289549]\n",
      "[]\n"
     ]
    },
    {
     "name": "stderr",
     "output_type": "stream",
     "text": [
      " 62%|██████▏   | 2659/4321 [02:39<01:31, 18.08it/s]"
     ]
    },
    {
     "name": "stdout",
     "output_type": "stream",
     "text": [
      "[385.31649501 514.01230472]\n",
      "[492.22077001 588.84223815 721.84836342]\n",
      "[454.06657336]\n"
     ]
    },
    {
     "name": "stderr",
     "output_type": "stream",
     "text": [
      " 62%|██████▏   | 2663/4321 [02:40<01:33, 17.77it/s]"
     ]
    },
    {
     "name": "stdout",
     "output_type": "stream",
     "text": [
      "[]\n",
      "[1007.83303979 1192.34629597]\n"
     ]
    },
    {
     "name": "stderr",
     "output_type": "stream",
     "text": [
      "\r",
      " 62%|██████▏   | 2665/4321 [02:40<01:35, 17.41it/s]"
     ]
    },
    {
     "name": "stdout",
     "output_type": "stream",
     "text": [
      "[ 351.35536936  542.22764228  769.20717695  921.50043674 1107.27675343]\n",
      "[396.1120477  988.32306342]\n"
     ]
    },
    {
     "name": "stderr",
     "output_type": "stream",
     "text": [
      "\r",
      " 62%|██████▏   | 2667/4321 [02:40<02:11, 12.60it/s]"
     ]
    },
    {
     "name": "stdout",
     "output_type": "stream",
     "text": [
      "[294.06908769]\n"
     ]
    },
    {
     "name": "stderr",
     "output_type": "stream",
     "text": [
      " 62%|██████▏   | 2671/4321 [02:40<02:24, 11.42it/s]"
     ]
    },
    {
     "name": "stdout",
     "output_type": "stream",
     "text": [
      "[ 377.29698279 1089.20854245]\n"
     ]
    },
    {
     "name": "stderr",
     "output_type": "stream",
     "text": [
      " 62%|██████▏   | 2679/4321 [02:41<01:44, 15.71it/s]"
     ]
    },
    {
     "name": "stdout",
     "output_type": "stream",
     "text": [
      "[ 408.70924937 1151.7840187 ]\n",
      "[]\n"
     ]
    },
    {
     "name": "stderr",
     "output_type": "stream",
     "text": [
      " 62%|██████▏   | 2683/4321 [02:41<01:41, 16.15it/s]"
     ]
    },
    {
     "name": "stdout",
     "output_type": "stream",
     "text": [
      "[526.97260358]\n",
      "[ 896.83071687 1191.25149028]\n",
      "[]\n",
      "[258.12758557 318.89561952 512.80756264 632.09497652]\n"
     ]
    },
    {
     "name": "stderr",
     "output_type": "stream",
     "text": [
      " 62%|██████▏   | 2687/4321 [02:41<01:41, 16.03it/s]"
     ]
    },
    {
     "name": "stdout",
     "output_type": "stream",
     "text": [
      "[261.00034316 432.43944743 642.48604784]\n",
      "[]\n"
     ]
    },
    {
     "name": "stderr",
     "output_type": "stream",
     "text": [
      " 62%|██████▏   | 2693/4321 [02:42<01:36, 16.81it/s]"
     ]
    },
    {
     "name": "stdout",
     "output_type": "stream",
     "text": [
      "[]\n"
     ]
    },
    {
     "name": "stderr",
     "output_type": "stream",
     "text": [
      " 62%|██████▏   | 2697/4321 [02:42<01:55, 14.05it/s]"
     ]
    },
    {
     "name": "stdout",
     "output_type": "stream",
     "text": [
      "[435.69677354]\n"
     ]
    },
    {
     "name": "stderr",
     "output_type": "stream",
     "text": [
      " 63%|██████▎   | 2703/4321 [02:42<01:50, 14.70it/s]"
     ]
    },
    {
     "name": "stdout",
     "output_type": "stream",
     "text": [
      "[292.47326649 465.54920091]\n",
      "[]\n"
     ]
    },
    {
     "name": "stderr",
     "output_type": "stream",
     "text": [
      " 63%|██████▎   | 2707/4321 [02:43<01:45, 15.27it/s]"
     ]
    },
    {
     "name": "stdout",
     "output_type": "stream",
     "text": [
      "[]\n"
     ]
    },
    {
     "name": "stderr",
     "output_type": "stream",
     "text": [
      " 63%|██████▎   | 2711/4321 [02:43<01:42, 15.66it/s]"
     ]
    },
    {
     "name": "stdout",
     "output_type": "stream",
     "text": [
      "[747.74909891]\n",
      "[635.24790199 822.16083217]\n"
     ]
    },
    {
     "name": "stderr",
     "output_type": "stream",
     "text": [
      " 63%|██████▎   | 2715/4321 [02:43<01:37, 16.41it/s]"
     ]
    },
    {
     "name": "stdout",
     "output_type": "stream",
     "text": [
      "[536.3732019]\n"
     ]
    },
    {
     "name": "stderr",
     "output_type": "stream",
     "text": [
      " 63%|██████▎   | 2731/4321 [02:44<01:24, 18.75it/s]"
     ]
    },
    {
     "name": "stdout",
     "output_type": "stream",
     "text": [
      "[345.98992634]\n",
      "[649.77552408]\n"
     ]
    },
    {
     "name": "stderr",
     "output_type": "stream",
     "text": [
      " 64%|██████▎   | 2751/4321 [02:45<01:30, 17.40it/s]"
     ]
    },
    {
     "name": "stdout",
     "output_type": "stream",
     "text": [
      "[]\n"
     ]
    },
    {
     "name": "stderr",
     "output_type": "stream",
     "text": [
      " 64%|██████▍   | 2765/4321 [02:46<01:27, 17.84it/s]"
     ]
    },
    {
     "name": "stdout",
     "output_type": "stream",
     "text": [
      "[902.70733199]\n",
      "[1001.07737747]\n"
     ]
    },
    {
     "name": "stderr",
     "output_type": "stream",
     "text": [
      " 64%|██████▍   | 2781/4321 [02:47<01:24, 18.31it/s]"
     ]
    },
    {
     "name": "stdout",
     "output_type": "stream",
     "text": [
      "[]\n"
     ]
    },
    {
     "name": "stderr",
     "output_type": "stream",
     "text": [
      " 64%|██████▍   | 2785/4321 [02:47<01:27, 17.56it/s]"
     ]
    },
    {
     "name": "stdout",
     "output_type": "stream",
     "text": [
      "[866.76863968 907.69168619]\n",
      "[435.50429588]\n",
      "[]\n",
      "[1141.58072002]\n"
     ]
    },
    {
     "name": "stderr",
     "output_type": "stream",
     "text": [
      " 65%|██████▍   | 2789/4321 [02:47<01:26, 17.81it/s]"
     ]
    },
    {
     "name": "stdout",
     "output_type": "stream",
     "text": [
      "[1165.62242592]\n",
      "[]\n"
     ]
    },
    {
     "name": "stderr",
     "output_type": "stream",
     "text": [
      " 65%|██████▌   | 2819/4321 [02:49<01:25, 17.66it/s]"
     ]
    },
    {
     "name": "stdout",
     "output_type": "stream",
     "text": [
      "[327.61510592 422.2899597  864.46279567]\n",
      "[618.41705043 851.62937084]\n"
     ]
    },
    {
     "name": "stderr",
     "output_type": "stream",
     "text": [
      " 65%|██████▌   | 2825/4321 [02:49<01:27, 17.07it/s]"
     ]
    },
    {
     "name": "stdout",
     "output_type": "stream",
     "text": [
      "[1081.1340484]\n",
      "[756.79502517 933.8924995 ]\n"
     ]
    },
    {
     "name": "stderr",
     "output_type": "stream",
     "text": [
      " 66%|██████▌   | 2831/4321 [02:50<01:29, 16.67it/s]"
     ]
    },
    {
     "name": "stdout",
     "output_type": "stream",
     "text": [
      "[1223.7753472]\n",
      "[403.52687632]\n",
      "[1098.04754639]\n"
     ]
    },
    {
     "name": "stderr",
     "output_type": "stream",
     "text": [
      " 66%|██████▌   | 2835/4321 [02:50<01:26, 17.22it/s]"
     ]
    },
    {
     "name": "stdout",
     "output_type": "stream",
     "text": [
      "[520.32758333 499.38186006]\n"
     ]
    },
    {
     "name": "stderr",
     "output_type": "stream",
     "text": [
      " 66%|██████▌   | 2839/4321 [02:50<01:29, 16.63it/s]"
     ]
    },
    {
     "name": "stdout",
     "output_type": "stream",
     "text": [
      "[438.08088564]\n",
      "[]\n"
     ]
    },
    {
     "name": "stderr",
     "output_type": "stream",
     "text": [
      " 66%|██████▌   | 2843/4321 [02:51<01:46, 13.90it/s]"
     ]
    },
    {
     "name": "stdout",
     "output_type": "stream",
     "text": [
      "[486.92913471 609.43316912 876.17435617 925.74642373 992.41600265]\n",
      "[553.81529842]\n",
      "[313.26400434 378.11040857 485.81502961]\n",
      "[]\n"
     ]
    },
    {
     "name": "stderr",
     "output_type": "stream",
     "text": [
      " 66%|██████▌   | 2847/4321 [02:51<01:36, 15.30it/s]"
     ]
    },
    {
     "name": "stdout",
     "output_type": "stream",
     "text": [
      "[ 482.58007578  989.71385204 1078.47850833]\n",
      "[ 885.57845998 1148.20394888]\n",
      "[ 649.08177849  764.68998005  967.61099535 1198.5109009 ]\n",
      "[1056.74972786]\n"
     ]
    },
    {
     "name": "stderr",
     "output_type": "stream",
     "text": [
      " 66%|██████▌   | 2851/4321 [02:51<01:29, 16.47it/s]"
     ]
    },
    {
     "name": "stdout",
     "output_type": "stream",
     "text": [
      "[311.9967294]\n",
      "[ 477.44183554  572.7185326   701.57231834  982.70922036 1041.73161262]\n"
     ]
    },
    {
     "name": "stderr",
     "output_type": "stream",
     "text": [
      " 66%|██████▌   | 2857/4321 [02:51<01:26, 16.92it/s]"
     ]
    },
    {
     "name": "stdout",
     "output_type": "stream",
     "text": [
      "[ 296.84052327  466.08732967  503.67623378  700.47037149  838.92327818\n",
      " 1034.85549317 1051.89452679 1177.73751628 1216.81506254]\n",
      "[ 926.18902119 1080.20459433]\n",
      "[691.21377001]\n"
     ]
    },
    {
     "name": "stderr",
     "output_type": "stream",
     "text": [
      " 66%|██████▋   | 2863/4321 [02:52<01:26, 16.91it/s]"
     ]
    },
    {
     "name": "stdout",
     "output_type": "stream",
     "text": [
      "[ 754.09279761  925.44374344 1007.48992383 1038.76008009]\n",
      "[465.37241719]\n",
      "[]\n"
     ]
    },
    {
     "name": "stderr",
     "output_type": "stream",
     "text": [
      " 66%|██████▋   | 2869/4321 [02:52<01:23, 17.37it/s]"
     ]
    },
    {
     "name": "stdout",
     "output_type": "stream",
     "text": [
      "[1209.75188344]\n",
      "[382.59656916]\n"
     ]
    },
    {
     "name": "stderr",
     "output_type": "stream",
     "text": [
      " 66%|██████▋   | 2873/4321 [02:52<01:23, 17.42it/s]"
     ]
    },
    {
     "name": "stdout",
     "output_type": "stream",
     "text": [
      "[373.70257955 422.28046975]\n",
      "[1042.65650051]\n",
      "[407.78907677]\n"
     ]
    },
    {
     "name": "stderr",
     "output_type": "stream",
     "text": [
      " 67%|██████▋   | 2879/4321 [02:53<01:22, 17.46it/s]"
     ]
    },
    {
     "name": "stdout",
     "output_type": "stream",
     "text": [
      "[799.45983833]\n",
      "[]\n"
     ]
    },
    {
     "name": "stderr",
     "output_type": "stream",
     "text": [
      " 67%|██████▋   | 2883/4321 [02:53<01:22, 17.38it/s]"
     ]
    },
    {
     "name": "stdout",
     "output_type": "stream",
     "text": [
      "[670.2344263]\n",
      "[482.78793463 649.47590801]\n",
      "[]\n"
     ]
    },
    {
     "name": "stderr",
     "output_type": "stream",
     "text": [
      " 67%|██████▋   | 2890/4321 [02:53<01:19, 18.04it/s]"
     ]
    },
    {
     "name": "stdout",
     "output_type": "stream",
     "text": [
      "[555.81173374]\n",
      "[343.93622218 962.50612861]\n",
      "[538.19788849 702.22557962]\n"
     ]
    },
    {
     "name": "stderr",
     "output_type": "stream",
     "text": [
      " 67%|██████▋   | 2897/4321 [02:54<01:20, 17.61it/s]"
     ]
    },
    {
     "name": "stdout",
     "output_type": "stream",
     "text": [
      "[309.27819614]\n"
     ]
    },
    {
     "name": "stderr",
     "output_type": "stream",
     "text": [
      " 67%|██████▋   | 2903/4321 [02:54<01:19, 17.78it/s]"
     ]
    },
    {
     "name": "stdout",
     "output_type": "stream",
     "text": [
      "[859.9205373]\n",
      "[ 531.04250191  961.83172674 1087.80766363]\n",
      "[1185.14863303]\n"
     ]
    },
    {
     "name": "stderr",
     "output_type": "stream",
     "text": [
      " 67%|██████▋   | 2907/4321 [02:54<01:21, 17.44it/s]"
     ]
    },
    {
     "name": "stdout",
     "output_type": "stream",
     "text": [
      "[278.28377954]\n",
      "[]\n"
     ]
    },
    {
     "name": "stderr",
     "output_type": "stream",
     "text": [
      " 67%|██████▋   | 2911/4321 [02:54<01:22, 17.11it/s]"
     ]
    },
    {
     "name": "stdout",
     "output_type": "stream",
     "text": [
      "[ 877.09365131  885.61787589 1046.41106934]\n",
      "[]\n"
     ]
    },
    {
     "name": "stderr",
     "output_type": "stream",
     "text": [
      " 67%|██████▋   | 2915/4321 [02:55<01:21, 17.29it/s]"
     ]
    },
    {
     "name": "stdout",
     "output_type": "stream",
     "text": [
      "[ 319.44874227  412.08958023  504.65362485  666.98402149 1124.77906462]\n",
      "[279.6047659]\n"
     ]
    },
    {
     "name": "stderr",
     "output_type": "stream",
     "text": [
      " 68%|██████▊   | 2930/4321 [02:55<01:17, 17.96it/s]"
     ]
    },
    {
     "name": "stdout",
     "output_type": "stream",
     "text": [
      "[494.57775463 548.69287089 656.48538947]\n",
      "[]\n",
      "[ 960.89440204 1209.16207625]\n"
     ]
    },
    {
     "name": "stderr",
     "output_type": "stream",
     "text": [
      " 68%|██████▊   | 2934/4321 [02:56<01:18, 17.65it/s]"
     ]
    },
    {
     "name": "stdout",
     "output_type": "stream",
     "text": [
      "[461.66116763]\n",
      "[]\n",
      "[ 257.96313244 1182.97954943]\n"
     ]
    },
    {
     "name": "stderr",
     "output_type": "stream",
     "text": [
      " 68%|██████▊   | 2942/4321 [02:56<01:19, 17.28it/s]"
     ]
    },
    {
     "name": "stdout",
     "output_type": "stream",
     "text": [
      "[276.92666809]\n",
      "[979.58244368]\n",
      "[361.30989587]\n"
     ]
    },
    {
     "name": "stderr",
     "output_type": "stream",
     "text": [
      " 68%|██████▊   | 2946/4321 [02:56<01:20, 17.08it/s]"
     ]
    },
    {
     "name": "stdout",
     "output_type": "stream",
     "text": [
      "[314.66384833]\n",
      "[ 351.95703216  419.94146684  518.5649035   733.81554215  971.81944371\n",
      " 1059.62101035]\n"
     ]
    },
    {
     "name": "stderr",
     "output_type": "stream",
     "text": [
      " 68%|██████▊   | 2950/4321 [02:57<01:22, 16.64it/s]"
     ]
    },
    {
     "name": "stdout",
     "output_type": "stream",
     "text": [
      "[343.80744977 482.63926957]\n",
      "[262.52970588 430.33071865 508.14324065 698.55568468]\n"
     ]
    },
    {
     "name": "stderr",
     "output_type": "stream",
     "text": [
      " 68%|██████▊   | 2956/4321 [02:57<01:24, 16.16it/s]"
     ]
    },
    {
     "name": "stdout",
     "output_type": "stream",
     "text": [
      "[ 544.67801473  647.30644193  814.77561732 1176.33137035]\n",
      "[256.25969975 339.39207261 609.41283273 920.99658794]\n",
      "[1223.19552098]\n"
     ]
    },
    {
     "name": "stderr",
     "output_type": "stream",
     "text": [
      " 69%|██████▊   | 2968/4321 [02:58<01:23, 16.28it/s]"
     ]
    },
    {
     "name": "stdout",
     "output_type": "stream",
     "text": [
      "[]\n",
      "[]\n"
     ]
    },
    {
     "name": "stderr",
     "output_type": "stream",
     "text": [
      " 69%|██████▉   | 2974/4321 [02:58<01:18, 17.15it/s]"
     ]
    },
    {
     "name": "stdout",
     "output_type": "stream",
     "text": [
      "[]\n",
      "[744.43975632]\n",
      "[537.10746547]\n",
      "[348.11001878]\n"
     ]
    },
    {
     "name": "stderr",
     "output_type": "stream",
     "text": [
      " 69%|██████▉   | 2980/4321 [02:58<01:16, 17.53it/s]"
     ]
    },
    {
     "name": "stdout",
     "output_type": "stream",
     "text": [
      "[]\n",
      "[ 685.77151878  742.94837253  824.97874172 1013.78750072]\n",
      "[]\n"
     ]
    },
    {
     "name": "stderr",
     "output_type": "stream",
     "text": [
      " 69%|██████▉   | 2984/4321 [02:59<01:16, 17.49it/s]"
     ]
    },
    {
     "name": "stdout",
     "output_type": "stream",
     "text": [
      "[644.21925741 805.43302439]\n",
      "[ 901.9118826  1141.88627364]\n",
      "[392.64494169 458.22868664 528.88618356]\n"
     ]
    },
    {
     "name": "stderr",
     "output_type": "stream",
     "text": [
      " 69%|██████▉   | 2988/4321 [02:59<01:18, 16.98it/s]"
     ]
    },
    {
     "name": "stdout",
     "output_type": "stream",
     "text": [
      "[323.32170587 472.68851423]\n",
      "[598.24721895 656.53846817]\n"
     ]
    },
    {
     "name": "stderr",
     "output_type": "stream",
     "text": [
      " 69%|██████▉   | 2994/4321 [02:59<01:18, 16.87it/s]"
     ]
    },
    {
     "name": "stdout",
     "output_type": "stream",
     "text": [
      "[507.18987763 727.17182612]\n",
      "[292.60026751]\n",
      "[]\n"
     ]
    },
    {
     "name": "stderr",
     "output_type": "stream",
     "text": [
      " 69%|██████▉   | 3000/4321 [03:00<01:17, 16.97it/s]"
     ]
    },
    {
     "name": "stdout",
     "output_type": "stream",
     "text": [
      "[490.31590692]\n",
      "[ 263.3334016   371.23947043 1209.11539635]\n",
      "[497.47261955 871.36310201]\n"
     ]
    },
    {
     "name": "stderr",
     "output_type": "stream",
     "text": [
      " 70%|██████▉   | 3004/4321 [03:00<01:16, 17.11it/s]"
     ]
    },
    {
     "name": "stdout",
     "output_type": "stream",
     "text": [
      "[259.30947434 286.53787669 551.66065648]\n",
      "[]\n"
     ]
    },
    {
     "name": "stderr",
     "output_type": "stream",
     "text": [
      " 70%|██████▉   | 3008/4321 [03:00<01:17, 16.86it/s]"
     ]
    },
    {
     "name": "stdout",
     "output_type": "stream",
     "text": [
      "[]\n",
      "[ 488.09591055 1027.2028792  1101.57778334]\n",
      "[ 487.768602    595.77232996  767.36500064  942.27432549 1026.84195534\n",
      " 1132.03686582 1234.9364379 ]\n",
      "[295.93983759 435.21085265 592.01575926 829.89505859]\n"
     ]
    },
    {
     "name": "stderr",
     "output_type": "stream",
     "text": [
      " 70%|██████▉   | 3014/4321 [03:00<01:17, 16.92it/s]"
     ]
    },
    {
     "name": "stdout",
     "output_type": "stream",
     "text": [
      "[ 521.73925436  921.7862896  1196.82824978]\n",
      "[812.76733073 959.9173345 ]\n",
      "[765.99545515]\n"
     ]
    },
    {
     "name": "stderr",
     "output_type": "stream",
     "text": [
      " 70%|██████▉   | 3018/4321 [03:01<01:14, 17.46it/s]"
     ]
    },
    {
     "name": "stdout",
     "output_type": "stream",
     "text": [
      "[ 289.07726363  432.71986065  498.37903559 1174.11879004]\n"
     ]
    },
    {
     "name": "stderr",
     "output_type": "stream",
     "text": [
      " 70%|███████   | 3026/4321 [03:01<01:11, 18.15it/s]"
     ]
    },
    {
     "name": "stdout",
     "output_type": "stream",
     "text": [
      "[1153.20078715]\n",
      "[ 258.5885892   579.01134806  667.67037507 1061.24824073 1097.97569466]\n"
     ]
    },
    {
     "name": "stderr",
     "output_type": "stream",
     "text": [
      " 70%|███████   | 3030/4321 [03:01<01:12, 17.87it/s]"
     ]
    },
    {
     "name": "stdout",
     "output_type": "stream",
     "text": [
      "[ 360.410334   1234.62757427]\n"
     ]
    },
    {
     "name": "stderr",
     "output_type": "stream",
     "text": [
      " 70%|███████   | 3036/4321 [03:02<01:12, 17.74it/s]"
     ]
    },
    {
     "name": "stdout",
     "output_type": "stream",
     "text": [
      "[329.58817095 741.09300495]\n",
      "[]\n"
     ]
    },
    {
     "name": "stderr",
     "output_type": "stream",
     "text": [
      " 70%|███████   | 3040/4321 [03:02<01:12, 17.73it/s]"
     ]
    },
    {
     "name": "stdout",
     "output_type": "stream",
     "text": [
      "[922.31709365]\n"
     ]
    },
    {
     "name": "stderr",
     "output_type": "stream",
     "text": [
      " 71%|███████   | 3056/4321 [03:03<01:09, 18.13it/s]"
     ]
    },
    {
     "name": "stdout",
     "output_type": "stream",
     "text": [
      "[364.22419919 482.00977384]\n"
     ]
    },
    {
     "name": "stderr",
     "output_type": "stream",
     "text": [
      " 71%|███████   | 3062/4321 [03:03<01:11, 17.52it/s]"
     ]
    },
    {
     "name": "stdout",
     "output_type": "stream",
     "text": [
      "[]\n",
      "[309.24075067 408.93413657]\n",
      "[ 763.20913895 1001.72906177 1027.08012135]\n"
     ]
    },
    {
     "name": "stderr",
     "output_type": "stream",
     "text": [
      " 71%|███████   | 3066/4321 [03:03<01:12, 17.28it/s]"
     ]
    },
    {
     "name": "stdout",
     "output_type": "stream",
     "text": [
      "[905.49264747 977.64202451]\n",
      "[]\n"
     ]
    },
    {
     "name": "stderr",
     "output_type": "stream",
     "text": [
      " 71%|███████   | 3070/4321 [03:04<01:11, 17.55it/s]"
     ]
    },
    {
     "name": "stdout",
     "output_type": "stream",
     "text": [
      "[364.30956951 453.34293458 763.0811988 ]\n"
     ]
    },
    {
     "name": "stderr",
     "output_type": "stream",
     "text": [
      " 71%|███████   | 3076/4321 [03:04<01:09, 17.91it/s]"
     ]
    },
    {
     "name": "stdout",
     "output_type": "stream",
     "text": [
      "[851.13427955 914.64956047]\n"
     ]
    },
    {
     "name": "stderr",
     "output_type": "stream",
     "text": [
      " 71%|███████▏  | 3080/4321 [03:04<01:13, 16.97it/s]"
     ]
    },
    {
     "name": "stdout",
     "output_type": "stream",
     "text": [
      "[1074.29735248]\n",
      "[1095.36522806]\n",
      "[]\n"
     ]
    },
    {
     "name": "stderr",
     "output_type": "stream",
     "text": [
      " 71%|███████▏  | 3088/4321 [03:05<01:09, 17.87it/s]"
     ]
    },
    {
     "name": "stdout",
     "output_type": "stream",
     "text": [
      "[1239.57706188]\n",
      "[ 486.38015906  539.3319076   888.87602044 1041.41952146 1206.55549746]\n",
      "[ 230.54318477  331.71625556  590.79086566  909.27950864 1216.88700341]\n",
      "[297.86022406 431.66640464]\n"
     ]
    },
    {
     "name": "stderr",
     "output_type": "stream",
     "text": [
      " 72%|███████▏  | 3092/4321 [03:05<01:07, 18.22it/s]"
     ]
    },
    {
     "name": "stdout",
     "output_type": "stream",
     "text": [
      "[ 900.6641511   985.14059223 1129.39638416]\n",
      "[445.94472672 636.92728106]\n"
     ]
    },
    {
     "name": "stderr",
     "output_type": "stream",
     "text": [
      " 72%|███████▏  | 3098/4321 [03:05<01:09, 17.65it/s]"
     ]
    },
    {
     "name": "stdout",
     "output_type": "stream",
     "text": [
      "[ 520.89630191  680.35356063  909.17319421 1032.99630295 1265.37505712]\n",
      "[328.14620195]\n",
      "[383.00904425]\n"
     ]
    },
    {
     "name": "stderr",
     "output_type": "stream",
     "text": [
      " 72%|███████▏  | 3102/4321 [03:05<01:09, 17.48it/s]"
     ]
    },
    {
     "name": "stdout",
     "output_type": "stream",
     "text": [
      "[ 408.91409147  570.65555213  633.93995984  799.20273524  879.2686169\n",
      " 1097.43670037]\n",
      "[312.49928013]\n"
     ]
    },
    {
     "name": "stderr",
     "output_type": "stream",
     "text": [
      " 72%|███████▏  | 3106/4321 [03:06<01:11, 16.88it/s]"
     ]
    },
    {
     "name": "stdout",
     "output_type": "stream",
     "text": [
      "[ 520.07840914 1233.33228478]\n",
      "[357.69226489 627.02346095]\n",
      "[664.15669009 855.89975558]\n"
     ]
    },
    {
     "name": "stderr",
     "output_type": "stream",
     "text": [
      " 72%|███████▏  | 3110/4321 [03:06<01:10, 17.10it/s]"
     ]
    },
    {
     "name": "stdout",
     "output_type": "stream",
     "text": [
      "[641.1961408]\n"
     ]
    },
    {
     "name": "stderr",
     "output_type": "stream",
     "text": [
      " 72%|███████▏  | 3118/4321 [03:06<01:11, 16.93it/s]"
     ]
    },
    {
     "name": "stdout",
     "output_type": "stream",
     "text": [
      "[982.59243413]\n",
      "[ 219.07836296  319.62604377  942.33278139 1100.84482413]\n"
     ]
    },
    {
     "name": "stderr",
     "output_type": "stream",
     "text": [
      " 72%|███████▏  | 3122/4321 [03:07<01:12, 16.52it/s]"
     ]
    },
    {
     "name": "stdout",
     "output_type": "stream",
     "text": [
      "[1123.68935524]\n",
      "[531.53675507 706.7291907 ]\n",
      "[ 256.50095961  627.46071394  742.71293757  814.54473488 1053.60073282\n",
      " 1100.15460468 1210.96521448]\n",
      "[1037.16825373 1192.05574761]\n"
     ]
    },
    {
     "name": "stderr",
     "output_type": "stream",
     "text": [
      " 72%|███████▏  | 3126/4321 [03:07<01:16, 15.65it/s]"
     ]
    },
    {
     "name": "stdout",
     "output_type": "stream",
     "text": [
      "[387.8764158  734.67740762 813.79228977]\n",
      "[ 651.90950809  851.17724339 1118.81425923]\n",
      "[ 269.28932607  642.37655167  645.55141505  877.26594631  985.68216553\n",
      " 1102.11693503]\n"
     ]
    },
    {
     "name": "stderr",
     "output_type": "stream",
     "text": [
      " 72%|███████▏  | 3130/4321 [03:07<01:16, 15.65it/s]"
     ]
    },
    {
     "name": "stdout",
     "output_type": "stream",
     "text": [
      "[549.89485196]\n",
      "[ 395.34176458  905.30348215 1204.8069711 ]\n",
      "[]\n"
     ]
    },
    {
     "name": "stderr",
     "output_type": "stream",
     "text": [
      " 73%|███████▎  | 3136/4321 [03:07<01:12, 16.45it/s]"
     ]
    },
    {
     "name": "stdout",
     "output_type": "stream",
     "text": [
      "[271.13752654]\n",
      "[538.34457303]\n",
      "[839.40089081]\n"
     ]
    },
    {
     "name": "stderr",
     "output_type": "stream",
     "text": [
      " 73%|███████▎  | 3142/4321 [03:08<01:11, 16.46it/s]"
     ]
    },
    {
     "name": "stdout",
     "output_type": "stream",
     "text": [
      "[449.84382375]\n",
      "[ 270.62119271 1023.22193102]\n"
     ]
    },
    {
     "name": "stderr",
     "output_type": "stream",
     "text": [
      " 73%|███████▎  | 3146/4321 [03:08<01:10, 16.63it/s]"
     ]
    },
    {
     "name": "stdout",
     "output_type": "stream",
     "text": [
      "[817.59900846]\n",
      "[]\n",
      "[ 712.01648942 1013.07777144 1121.12843639 1202.0687905 ]\n"
     ]
    },
    {
     "name": "stderr",
     "output_type": "stream",
     "text": [
      " 73%|███████▎  | 3154/4321 [03:08<01:06, 17.51it/s]"
     ]
    },
    {
     "name": "stdout",
     "output_type": "stream",
     "text": [
      "[ 433.37994801  743.80731767  930.40948212 1023.18848277  990.83562305]\n",
      "[ 458.85307664  623.45977627  945.61645043 1075.22805366]\n"
     ]
    },
    {
     "name": "stderr",
     "output_type": "stream",
     "text": [
      " 73%|███████▎  | 3158/4321 [03:09<01:06, 17.56it/s]"
     ]
    },
    {
     "name": "stdout",
     "output_type": "stream",
     "text": [
      "[655.26760482 789.96200532]\n",
      "[468.11406304]\n",
      "[753.55853111]\n"
     ]
    },
    {
     "name": "stderr",
     "output_type": "stream",
     "text": [
      " 73%|███████▎  | 3162/4321 [03:09<01:07, 17.28it/s]"
     ]
    },
    {
     "name": "stdout",
     "output_type": "stream",
     "text": [
      "[660.18633927]\n",
      "[ 721.12417934  779.07716399 1033.36599008 1114.35391726]\n",
      "[301.05133513]\n"
     ]
    },
    {
     "name": "stderr",
     "output_type": "stream",
     "text": [
      " 73%|███████▎  | 3166/4321 [03:09<01:06, 17.28it/s]"
     ]
    },
    {
     "name": "stdout",
     "output_type": "stream",
     "text": [
      "[ 662.95955447  932.79898854 1275.76374033]\n",
      "[378.88612207 484.90975107 653.62715165]\n",
      "[ 449.94506105  526.90132594  799.70695839  946.13325918 1057.62039095]\n",
      "[ 383.49151552  677.17385026 1007.91622244 1148.20984206]\n"
     ]
    },
    {
     "name": "stderr",
     "output_type": "stream",
     "text": [
      " 73%|███████▎  | 3170/4321 [03:09<01:07, 17.09it/s]"
     ]
    },
    {
     "name": "stdout",
     "output_type": "stream",
     "text": [
      "[ 551.66939659  653.30131386  881.30219246 1113.27241666]\n",
      "[338.76087976 541.40322884]\n",
      "[]\n",
      "[ 933.11438263 1200.33531841]\n"
     ]
    },
    {
     "name": "stderr",
     "output_type": "stream",
     "text": [
      " 73%|███████▎  | 3174/4321 [03:10<01:03, 17.95it/s]"
     ]
    },
    {
     "name": "stdout",
     "output_type": "stream",
     "text": [
      "[351.55432165 407.78736119 830.74890106 968.39671161]\n"
     ]
    },
    {
     "name": "stderr",
     "output_type": "stream",
     "text": [
      " 74%|███████▎  | 3182/4321 [03:10<01:05, 17.39it/s]"
     ]
    },
    {
     "name": "stdout",
     "output_type": "stream",
     "text": [
      "[]\n",
      "[922.46833657]\n"
     ]
    },
    {
     "name": "stderr",
     "output_type": "stream",
     "text": [
      " 74%|███████▎  | 3186/4321 [03:10<01:09, 16.32it/s]"
     ]
    },
    {
     "name": "stdout",
     "output_type": "stream",
     "text": [
      "[]\n"
     ]
    },
    {
     "name": "stderr",
     "output_type": "stream",
     "text": [
      " 74%|███████▍  | 3192/4321 [03:11<01:06, 16.98it/s]"
     ]
    },
    {
     "name": "stdout",
     "output_type": "stream",
     "text": [
      "[1194.17048208]\n"
     ]
    },
    {
     "name": "stderr",
     "output_type": "stream",
     "text": [
      " 74%|███████▍  | 3198/4321 [03:11<01:04, 17.42it/s]"
     ]
    },
    {
     "name": "stdout",
     "output_type": "stream",
     "text": [
      "[1278.35946605]\n",
      "[ 710.16432768 1241.44094877]\n",
      "[523.45792555 603.21199669]\n"
     ]
    },
    {
     "name": "stderr",
     "output_type": "stream",
     "text": [
      " 74%|███████▍  | 3202/4321 [03:11<01:04, 17.43it/s]"
     ]
    },
    {
     "name": "stdout",
     "output_type": "stream",
     "text": [
      "[]\n",
      "[943.61432416]\n",
      "[]\n",
      "[338.93160745]\n"
     ]
    },
    {
     "name": "stderr",
     "output_type": "stream",
     "text": [
      " 74%|███████▍  | 3206/4321 [03:12<01:05, 17.01it/s]"
     ]
    },
    {
     "name": "stdout",
     "output_type": "stream",
     "text": [
      "[1056.60448525]\n",
      "[]\n",
      "[967.01364832]\n",
      "[257.9107722 355.8150032]\n"
     ]
    },
    {
     "name": "stderr",
     "output_type": "stream",
     "text": [
      " 74%|███████▍  | 3210/4321 [03:12<01:06, 16.82it/s]"
     ]
    },
    {
     "name": "stdout",
     "output_type": "stream",
     "text": [
      "[]\n",
      "[1180.71938765]\n",
      "[ 391.00069925  974.6917355  1006.729705   1170.21298519 1256.82340771]\n"
     ]
    },
    {
     "name": "stderr",
     "output_type": "stream",
     "text": [
      " 74%|███████▍  | 3214/4321 [03:12<01:04, 17.26it/s]"
     ]
    },
    {
     "name": "stdout",
     "output_type": "stream",
     "text": [
      "[263.93671076 446.19862157 711.56229942 841.04182695]\n",
      "[261.60696099 472.76110796 553.60557565 734.13142296]\n",
      "[456.46775457 441.40785946 529.45279075 631.22251799]\n",
      "[273.41337966 321.84994927 501.82686317 555.64134586 652.56240265\n",
      " 760.38772825]\n"
     ]
    },
    {
     "name": "stderr",
     "output_type": "stream",
     "text": [
      " 74%|███████▍  | 3218/4321 [03:12<01:05, 16.84it/s]"
     ]
    },
    {
     "name": "stdout",
     "output_type": "stream",
     "text": [
      "[ 319.16557411  453.55707949  477.63824784  518.33361032 1242.55940986]\n",
      "[314.53481759]\n"
     ]
    },
    {
     "name": "stderr",
     "output_type": "stream",
     "text": [
      " 75%|███████▍  | 3224/4321 [03:13<01:03, 17.40it/s]"
     ]
    },
    {
     "name": "stdout",
     "output_type": "stream",
     "text": [
      "[]\n",
      "[]\n",
      "[909.93640372]\n"
     ]
    },
    {
     "name": "stderr",
     "output_type": "stream",
     "text": [
      " 75%|███████▍  | 3232/4321 [03:13<01:09, 15.72it/s]"
     ]
    },
    {
     "name": "stdout",
     "output_type": "stream",
     "text": [
      "[1217.78487137]\n",
      "[1003.51767103]\n"
     ]
    },
    {
     "name": "stderr",
     "output_type": "stream",
     "text": [
      " 75%|███████▍  | 3240/4321 [03:14<01:04, 16.63it/s]"
     ]
    },
    {
     "name": "stdout",
     "output_type": "stream",
     "text": [
      "[881.49636246]\n"
     ]
    },
    {
     "name": "stderr",
     "output_type": "stream",
     "text": [
      " 75%|███████▌  | 3248/4321 [03:14<01:01, 17.39it/s]"
     ]
    },
    {
     "name": "stdout",
     "output_type": "stream",
     "text": [
      "[799.76304515 891.62491968]\n"
     ]
    },
    {
     "name": "stderr",
     "output_type": "stream",
     "text": [
      " 75%|███████▌  | 3262/4321 [03:15<01:01, 17.15it/s]"
     ]
    },
    {
     "name": "stdout",
     "output_type": "stream",
     "text": [
      "[]\n",
      "[284.15946127]\n",
      "[841.17416145]\n"
     ]
    },
    {
     "name": "stderr",
     "output_type": "stream",
     "text": [
      " 76%|███████▌  | 3266/4321 [03:15<01:02, 16.90it/s]"
     ]
    },
    {
     "name": "stdout",
     "output_type": "stream",
     "text": [
      "[ 741.0538798  1210.03168495]\n"
     ]
    },
    {
     "name": "stderr",
     "output_type": "stream",
     "text": [
      " 76%|███████▌  | 3276/4321 [03:16<01:03, 16.42it/s]"
     ]
    },
    {
     "name": "stdout",
     "output_type": "stream",
     "text": [
      "[359.22444368]\n"
     ]
    },
    {
     "name": "stderr",
     "output_type": "stream",
     "text": [
      " 76%|███████▌  | 3280/4321 [03:16<01:05, 15.86it/s]"
     ]
    },
    {
     "name": "stdout",
     "output_type": "stream",
     "text": [
      "[1049.6256465]\n",
      "[279.08309042]\n"
     ]
    },
    {
     "name": "stderr",
     "output_type": "stream",
     "text": [
      " 76%|███████▌  | 3286/4321 [03:16<01:04, 16.00it/s]"
     ]
    },
    {
     "name": "stdout",
     "output_type": "stream",
     "text": [
      "[]\n"
     ]
    },
    {
     "name": "stderr",
     "output_type": "stream",
     "text": [
      " 76%|███████▌  | 3290/4321 [03:17<01:07, 15.35it/s]"
     ]
    },
    {
     "name": "stdout",
     "output_type": "stream",
     "text": [
      "[ 282.55728052  914.20278719 1175.31603078]\n"
     ]
    },
    {
     "name": "stderr",
     "output_type": "stream",
     "text": [
      " 76%|███████▌  | 3294/4321 [03:17<01:05, 15.66it/s]"
     ]
    },
    {
     "name": "stdout",
     "output_type": "stream",
     "text": [
      "[]\n",
      "[]\n",
      "[339.04706313]\n"
     ]
    },
    {
     "name": "stderr",
     "output_type": "stream",
     "text": [
      " 76%|███████▋  | 3298/4321 [03:17<01:01, 16.71it/s]"
     ]
    },
    {
     "name": "stdout",
     "output_type": "stream",
     "text": [
      "[485.05072202]\n"
     ]
    },
    {
     "name": "stderr",
     "output_type": "stream",
     "text": [
      " 76%|███████▋  | 3304/4321 [03:17<01:02, 16.17it/s]"
     ]
    },
    {
     "name": "stdout",
     "output_type": "stream",
     "text": [
      "[231.52775864]\n"
     ]
    },
    {
     "name": "stderr",
     "output_type": "stream",
     "text": [
      " 77%|███████▋  | 3310/4321 [03:18<01:03, 15.84it/s]"
     ]
    },
    {
     "name": "stdout",
     "output_type": "stream",
     "text": [
      "[]\n"
     ]
    },
    {
     "name": "stderr",
     "output_type": "stream",
     "text": [
      " 77%|███████▋  | 3315/4321 [03:18<00:57, 17.63it/s]"
     ]
    },
    {
     "name": "stdout",
     "output_type": "stream",
     "text": [
      "[236.43759669 423.37904249]\n"
     ]
    },
    {
     "name": "stderr",
     "output_type": "stream",
     "text": [
      " 77%|███████▋  | 3327/4321 [03:19<01:00, 16.37it/s]"
     ]
    },
    {
     "name": "stdout",
     "output_type": "stream",
     "text": [
      "[492.80802779]\n"
     ]
    },
    {
     "name": "stderr",
     "output_type": "stream",
     "text": [
      " 77%|███████▋  | 3335/4321 [03:19<00:57, 17.01it/s]"
     ]
    },
    {
     "name": "stdout",
     "output_type": "stream",
     "text": [
      "[757.55786337]\n",
      "[283.60584541]\n"
     ]
    },
    {
     "name": "stderr",
     "output_type": "stream",
     "text": [
      " 77%|███████▋  | 3339/4321 [03:19<00:58, 16.87it/s]"
     ]
    },
    {
     "name": "stdout",
     "output_type": "stream",
     "text": [
      "[1087.66469006]\n",
      "[1266.04611618]\n",
      "[413.51327773 627.42333172]\n"
     ]
    },
    {
     "name": "stderr",
     "output_type": "stream",
     "text": [
      " 77%|███████▋  | 3343/4321 [03:20<01:02, 15.76it/s]"
     ]
    },
    {
     "name": "stdout",
     "output_type": "stream",
     "text": [
      "[1191.46460473]\n",
      "[567.84236046 733.42874027]\n",
      "[ 334.79185101  522.23044886  645.57698039 1068.07640185 1183.04907992]\n"
     ]
    },
    {
     "name": "stderr",
     "output_type": "stream",
     "text": [
      " 77%|███████▋  | 3347/4321 [03:20<00:58, 16.70it/s]"
     ]
    },
    {
     "name": "stdout",
     "output_type": "stream",
     "text": [
      "[657.59731422]\n",
      "[419.71458422]\n",
      "[ 698.89264527  825.21367517 1002.26420427]\n",
      "[364.73750904]\n"
     ]
    },
    {
     "name": "stderr",
     "output_type": "stream",
     "text": [
      " 78%|███████▊  | 3351/4321 [03:20<00:56, 17.18it/s]"
     ]
    },
    {
     "name": "stdout",
     "output_type": "stream",
     "text": [
      "[1083.96859127]\n"
     ]
    },
    {
     "name": "stderr",
     "output_type": "stream",
     "text": [
      " 78%|███████▊  | 3355/4321 [03:20<00:57, 16.89it/s]"
     ]
    },
    {
     "name": "stdout",
     "output_type": "stream",
     "text": [
      "[878.44084051 913.83042606]\n",
      "[ 312.01319769  472.23266434 1126.81558998]\n"
     ]
    },
    {
     "name": "stderr",
     "output_type": "stream",
     "text": [
      " 78%|███████▊  | 3359/4321 [03:21<00:57, 16.71it/s]"
     ]
    },
    {
     "name": "stdout",
     "output_type": "stream",
     "text": [
      "[584.82512635]\n",
      "[ 647.84529913 1166.88499407]\n",
      "[]\n"
     ]
    },
    {
     "name": "stderr",
     "output_type": "stream",
     "text": [
      " 78%|███████▊  | 3363/4321 [03:21<00:58, 16.36it/s]"
     ]
    },
    {
     "name": "stdout",
     "output_type": "stream",
     "text": [
      "[ 467.51099842  741.64183717 1100.22918979 1155.5157562 ]\n",
      "[ 880.1355498   906.78293052 1026.20146478]\n",
      "[1233.88018677]\n"
     ]
    },
    {
     "name": "stderr",
     "output_type": "stream",
     "text": [
      " 78%|███████▊  | 3367/4321 [03:21<00:57, 16.69it/s]"
     ]
    },
    {
     "name": "stdout",
     "output_type": "stream",
     "text": [
      "[377.19872424]\n",
      "[]\n"
     ]
    },
    {
     "name": "stderr",
     "output_type": "stream",
     "text": [
      " 78%|███████▊  | 3373/4321 [03:22<00:55, 17.23it/s]"
     ]
    },
    {
     "name": "stdout",
     "output_type": "stream",
     "text": [
      "[731.94527218]\n",
      "[1026.30692496 1179.45375481]\n",
      "[]\n"
     ]
    },
    {
     "name": "stderr",
     "output_type": "stream",
     "text": [
      " 78%|███████▊  | 3377/4321 [03:22<00:54, 17.28it/s]"
     ]
    },
    {
     "name": "stdout",
     "output_type": "stream",
     "text": [
      "[889.9875029]\n",
      "[534.48786655 626.40277509 855.01484101]\n"
     ]
    },
    {
     "name": "stderr",
     "output_type": "stream",
     "text": [
      " 78%|███████▊  | 3381/4321 [03:22<00:55, 16.98it/s]"
     ]
    },
    {
     "name": "stdout",
     "output_type": "stream",
     "text": [
      "[312.91764672]\n"
     ]
    },
    {
     "name": "stderr",
     "output_type": "stream",
     "text": [
      " 78%|███████▊  | 3389/4321 [03:22<00:58, 15.86it/s]"
     ]
    },
    {
     "name": "stdout",
     "output_type": "stream",
     "text": [
      "[737.78186444]\n",
      "[]\n",
      "[537.09916784]\n"
     ]
    },
    {
     "name": "stderr",
     "output_type": "stream",
     "text": [
      " 79%|███████▊  | 3393/4321 [03:23<00:58, 15.97it/s]"
     ]
    },
    {
     "name": "stdout",
     "output_type": "stream",
     "text": [
      "[538.9368906]\n",
      "[843.66110383]\n"
     ]
    },
    {
     "name": "stderr",
     "output_type": "stream",
     "text": [
      " 79%|███████▊  | 3399/4321 [03:23<00:58, 15.80it/s]"
     ]
    },
    {
     "name": "stdout",
     "output_type": "stream",
     "text": [
      "[ 807.83538888  913.49004069 1110.46940052]\n",
      "[264.65180097]\n",
      "[]\n",
      "[1111.81620359]\n"
     ]
    },
    {
     "name": "stderr",
     "output_type": "stream",
     "text": [
      " 79%|███████▉  | 3403/4321 [03:23<00:56, 16.16it/s]"
     ]
    },
    {
     "name": "stdout",
     "output_type": "stream",
     "text": [
      "[666.09013867 984.79648286]\n",
      "[1194.2898971]\n"
     ]
    },
    {
     "name": "stderr",
     "output_type": "stream",
     "text": [
      " 79%|███████▉  | 3407/4321 [03:24<00:55, 16.44it/s]"
     ]
    },
    {
     "name": "stdout",
     "output_type": "stream",
     "text": [
      "[805.79866001]\n",
      "[897.93097325]\n",
      "[ 807.35540687 1142.86159001 1256.14476021]\n"
     ]
    },
    {
     "name": "stderr",
     "output_type": "stream",
     "text": [
      " 79%|███████▉  | 3411/4321 [03:24<00:54, 16.80it/s]"
     ]
    },
    {
     "name": "stdout",
     "output_type": "stream",
     "text": [
      "[327.55790585 379.16105692 499.80985921]\n",
      "[]\n"
     ]
    },
    {
     "name": "stderr",
     "output_type": "stream",
     "text": [
      " 79%|███████▉  | 3415/4321 [03:24<00:56, 16.16it/s]"
     ]
    },
    {
     "name": "stdout",
     "output_type": "stream",
     "text": [
      "[ 294.92332115  622.09451025  851.74358902  953.95347452 1178.11837139]\n",
      "[]\n"
     ]
    },
    {
     "name": "stderr",
     "output_type": "stream",
     "text": [
      " 79%|███████▉  | 3421/4321 [03:24<00:55, 16.26it/s]"
     ]
    },
    {
     "name": "stdout",
     "output_type": "stream",
     "text": [
      "[]\n",
      "[419.53792186 552.4796405  660.96123319 772.15014101]\n"
     ]
    },
    {
     "name": "stderr",
     "output_type": "stream",
     "text": [
      " 79%|███████▉  | 3427/4321 [03:25<00:55, 16.13it/s]"
     ]
    },
    {
     "name": "stdout",
     "output_type": "stream",
     "text": [
      "[1041.08242925 1218.91988512]\n",
      "[433.21997251]\n"
     ]
    },
    {
     "name": "stderr",
     "output_type": "stream",
     "text": [
      " 79%|███████▉  | 3433/4321 [03:25<00:54, 16.39it/s]"
     ]
    },
    {
     "name": "stdout",
     "output_type": "stream",
     "text": [
      "[]\n"
     ]
    },
    {
     "name": "stderr",
     "output_type": "stream",
     "text": [
      " 80%|███████▉  | 3437/4321 [03:25<00:53, 16.66it/s]"
     ]
    },
    {
     "name": "stdout",
     "output_type": "stream",
     "text": [
      "[1032.73070126]\n",
      "[]\n"
     ]
    },
    {
     "name": "stderr",
     "output_type": "stream",
     "text": [
      " 80%|███████▉  | 3443/4321 [03:26<00:51, 16.96it/s]"
     ]
    },
    {
     "name": "stdout",
     "output_type": "stream",
     "text": [
      "[382.99834987]\n",
      "[401.45070589 567.46599406 783.36088702]\n",
      "[ 882.27491543 1069.68214145 1208.25097351]\n"
     ]
    },
    {
     "name": "stderr",
     "output_type": "stream",
     "text": [
      " 80%|███████▉  | 3449/4321 [03:26<00:52, 16.72it/s]"
     ]
    },
    {
     "name": "stdout",
     "output_type": "stream",
     "text": [
      "[859.29700459]\n",
      "[]\n",
      "[413.04057456]\n"
     ]
    },
    {
     "name": "stderr",
     "output_type": "stream",
     "text": [
      " 80%|███████▉  | 3455/4321 [03:27<00:54, 15.79it/s]"
     ]
    },
    {
     "name": "stdout",
     "output_type": "stream",
     "text": [
      "[]\n",
      "[ 693.18594604  881.75309128 1006.53479033 1155.16747442]\n"
     ]
    },
    {
     "name": "stderr",
     "output_type": "stream",
     "text": [
      " 80%|████████  | 3459/4321 [03:27<00:56, 15.30it/s]"
     ]
    },
    {
     "name": "stdout",
     "output_type": "stream",
     "text": [
      "[222.52666305 220.56303403 383.36423539]\n",
      "[504.07871826 633.57028885 818.83960672]\n"
     ]
    },
    {
     "name": "stderr",
     "output_type": "stream",
     "text": [
      " 80%|████████  | 3467/4321 [03:27<00:53, 16.06it/s]"
     ]
    },
    {
     "name": "stdout",
     "output_type": "stream",
     "text": [
      "[]\n",
      "[ 274.65632493  247.6780168  1185.87922068]\n"
     ]
    },
    {
     "name": "stderr",
     "output_type": "stream",
     "text": [
      " 80%|████████  | 3475/4321 [03:28<00:54, 15.64it/s]"
     ]
    },
    {
     "name": "stdout",
     "output_type": "stream",
     "text": [
      "[294.20064513 632.01688396]\n",
      "[529.477032   578.43699911 644.84304675]\n"
     ]
    },
    {
     "name": "stderr",
     "output_type": "stream",
     "text": [
      " 81%|████████  | 3481/4321 [03:28<00:50, 16.80it/s]"
     ]
    },
    {
     "name": "stdout",
     "output_type": "stream",
     "text": [
      "[]\n"
     ]
    },
    {
     "name": "stderr",
     "output_type": "stream",
     "text": [
      " 81%|████████  | 3485/4321 [03:28<00:50, 16.70it/s]"
     ]
    },
    {
     "name": "stdout",
     "output_type": "stream",
     "text": [
      "[1142.58959921]\n",
      "[376.77690685]\n",
      "[298.38637555]\n"
     ]
    },
    {
     "name": "stderr",
     "output_type": "stream",
     "text": [
      "\r",
      " 81%|████████  | 3487/4321 [03:29<00:50, 16.45it/s]"
     ]
    },
    {
     "name": "stdout",
     "output_type": "stream",
     "text": [
      "[ 966.3065029  1152.93499397]\n",
      "[431.98215964 490.88766896]\n"
     ]
    },
    {
     "name": "stderr",
     "output_type": "stream",
     "text": [
      " 81%|████████  | 3493/4321 [03:29<00:54, 15.28it/s]"
     ]
    },
    {
     "name": "stdout",
     "output_type": "stream",
     "text": [
      "[ 393.50285708 1157.8743389 ]\n",
      "[321.05019527]\n"
     ]
    },
    {
     "name": "stderr",
     "output_type": "stream",
     "text": [
      "\r",
      " 81%|████████  | 3495/4321 [03:29<00:55, 14.91it/s]"
     ]
    },
    {
     "name": "stdout",
     "output_type": "stream",
     "text": [
      "[466.5688401]\n",
      "[625.55435679 822.20841013]\n",
      "[677.02762838 992.33708474]\n"
     ]
    },
    {
     "name": "stderr",
     "output_type": "stream",
     "text": [
      " 81%|████████  | 3499/4321 [03:29<00:55, 14.77it/s]"
     ]
    },
    {
     "name": "stdout",
     "output_type": "stream",
     "text": [
      "[612.38340757 802.01647414 840.15199273]\n",
      "[]\n"
     ]
    },
    {
     "name": "stderr",
     "output_type": "stream",
     "text": [
      " 81%|████████  | 3505/4321 [03:30<00:53, 15.30it/s]"
     ]
    },
    {
     "name": "stdout",
     "output_type": "stream",
     "text": [
      "[]\n"
     ]
    },
    {
     "name": "stderr",
     "output_type": "stream",
     "text": [
      " 81%|████████▏ | 3515/4321 [03:30<00:51, 15.53it/s]"
     ]
    },
    {
     "name": "stdout",
     "output_type": "stream",
     "text": [
      "[316.95751396]\n",
      "[ 289.74183709  614.79430394 1168.43817988]\n",
      "[839.30425113 961.63638266]\n"
     ]
    },
    {
     "name": "stderr",
     "output_type": "stream",
     "text": [
      " 81%|████████▏ | 3521/4321 [03:31<00:48, 16.53it/s]"
     ]
    },
    {
     "name": "stdout",
     "output_type": "stream",
     "text": [
      "[]\n",
      "[1215.18486076]\n"
     ]
    },
    {
     "name": "stderr",
     "output_type": "stream",
     "text": [
      " 82%|████████▏ | 3525/4321 [03:31<00:48, 16.45it/s]"
     ]
    },
    {
     "name": "stdout",
     "output_type": "stream",
     "text": [
      "[]\n"
     ]
    },
    {
     "name": "stderr",
     "output_type": "stream",
     "text": [
      " 82%|████████▏ | 3529/4321 [03:31<00:48, 16.35it/s]"
     ]
    },
    {
     "name": "stdout",
     "output_type": "stream",
     "text": [
      "[1147.6547769]\n",
      "[1074.0477746]\n",
      "[296.61116302 612.43222542]\n"
     ]
    },
    {
     "name": "stderr",
     "output_type": "stream",
     "text": [
      " 82%|████████▏ | 3533/4321 [03:31<00:48, 16.41it/s]"
     ]
    },
    {
     "name": "stdout",
     "output_type": "stream",
     "text": [
      "[ 536.09128728  846.06493537  990.02631269 1246.62390144]\n",
      "[510.78840946 601.33683693 722.85163588]\n",
      "[727.35065979]\n"
     ]
    },
    {
     "name": "stderr",
     "output_type": "stream",
     "text": [
      " 82%|████████▏ | 3541/4321 [03:32<00:44, 17.60it/s]"
     ]
    },
    {
     "name": "stdout",
     "output_type": "stream",
     "text": [
      "[1130.30241063]\n",
      "[741.79621702 918.83192306]\n"
     ]
    },
    {
     "name": "stderr",
     "output_type": "stream",
     "text": [
      " 82%|████████▏ | 3547/4321 [03:32<00:42, 18.07it/s]"
     ]
    },
    {
     "name": "stdout",
     "output_type": "stream",
     "text": [
      "[]\n",
      "[]\n"
     ]
    },
    {
     "name": "stderr",
     "output_type": "stream",
     "text": [
      " 82%|████████▏ | 3551/4321 [03:32<00:44, 17.27it/s]"
     ]
    },
    {
     "name": "stdout",
     "output_type": "stream",
     "text": [
      "[973.14390587]\n",
      "[]\n",
      "[]\n"
     ]
    },
    {
     "name": "stderr",
     "output_type": "stream",
     "text": [
      " 82%|████████▏ | 3555/4321 [03:33<00:43, 17.57it/s]"
     ]
    },
    {
     "name": "stdout",
     "output_type": "stream",
     "text": [
      "[303.58132429 530.43499807]\n"
     ]
    },
    {
     "name": "stderr",
     "output_type": "stream",
     "text": [
      " 82%|████████▏ | 3561/4321 [03:33<00:45, 16.81it/s]"
     ]
    },
    {
     "name": "stdout",
     "output_type": "stream",
     "text": [
      "[326.82458277 502.78788523 732.4159386 ]\n",
      "[ 820.52716641  966.98373926 1057.78676074]\n",
      "[ 276.71979861  354.46836944  862.76795483 1029.24925032]\n",
      "[1222.10812929]\n"
     ]
    },
    {
     "name": "stderr",
     "output_type": "stream",
     "text": [
      " 83%|████████▎ | 3565/4321 [03:33<00:44, 17.06it/s]"
     ]
    },
    {
     "name": "stdout",
     "output_type": "stream",
     "text": [
      "[]\n",
      "[525.93352342]\n",
      "[871.77289225]\n",
      "[319.61877649 556.06279265]\n"
     ]
    },
    {
     "name": "stderr",
     "output_type": "stream",
     "text": [
      " 83%|████████▎ | 3569/4321 [03:34<00:48, 15.55it/s]"
     ]
    },
    {
     "name": "stdout",
     "output_type": "stream",
     "text": [
      "[1200.4574578]\n",
      "[831.2149034]\n",
      "[633.71154426 755.51792854]\n"
     ]
    },
    {
     "name": "stderr",
     "output_type": "stream",
     "text": [
      "\r",
      " 83%|████████▎ | 3571/4321 [03:34<00:50, 14.77it/s]"
     ]
    },
    {
     "name": "stdout",
     "output_type": "stream",
     "text": [
      "[]\n",
      "[592.45526415]\n",
      "[319.65491278 497.82255991 808.6681536 ]\n"
     ]
    },
    {
     "name": "stderr",
     "output_type": "stream",
     "text": [
      " 83%|████████▎ | 3577/4321 [03:34<00:46, 15.95it/s]"
     ]
    },
    {
     "name": "stdout",
     "output_type": "stream",
     "text": [
      "[ 449.63769793 1024.94462681]\n",
      "[979.26983154]\n"
     ]
    },
    {
     "name": "stderr",
     "output_type": "stream",
     "text": [
      " 83%|████████▎ | 3589/4321 [03:35<00:43, 16.97it/s]"
     ]
    },
    {
     "name": "stdout",
     "output_type": "stream",
     "text": [
      "[]\n",
      "[412.06734561]\n"
     ]
    },
    {
     "name": "stderr",
     "output_type": "stream",
     "text": [
      " 83%|████████▎ | 3595/4321 [03:35<00:47, 15.38it/s]"
     ]
    },
    {
     "name": "stdout",
     "output_type": "stream",
     "text": [
      "[]\n",
      "[1082.86369324]\n"
     ]
    },
    {
     "name": "stderr",
     "output_type": "stream",
     "text": [
      " 83%|████████▎ | 3599/4321 [03:35<00:47, 15.05it/s]"
     ]
    },
    {
     "name": "stdout",
     "output_type": "stream",
     "text": [
      "[ 394.26702977  666.12420615 1009.57607615 1145.00321112 1235.88380512]\n",
      "[573.0219053  821.39671036]\n",
      "[ 591.6276864   859.60343871  979.86378318 1206.22037228]\n"
     ]
    },
    {
     "name": "stderr",
     "output_type": "stream",
     "text": [
      " 83%|████████▎ | 3603/4321 [03:36<00:44, 15.97it/s]"
     ]
    },
    {
     "name": "stdout",
     "output_type": "stream",
     "text": [
      "[ 650.88353774  899.88545882 1021.9045126  1192.23815906]\n",
      "[ 255.75010221  511.79298473  870.73755463 1051.51082525 1119.98603863]\n",
      "[629.30252617 707.09018224]\n"
     ]
    },
    {
     "name": "stderr",
     "output_type": "stream",
     "text": [
      " 83%|████████▎ | 3607/4321 [03:36<00:45, 15.64it/s]"
     ]
    },
    {
     "name": "stdout",
     "output_type": "stream",
     "text": [
      "[ 389.55073489  569.65338417  703.28042033  864.39999614 1047.48578887]\n",
      "[]\n",
      "[]\n"
     ]
    },
    {
     "name": "stderr",
     "output_type": "stream",
     "text": [
      " 84%|████████▎ | 3617/4321 [03:37<00:43, 16.35it/s]"
     ]
    },
    {
     "name": "stdout",
     "output_type": "stream",
     "text": [
      "[858.32794992 964.22576025]\n",
      "[1218.63829353]\n"
     ]
    },
    {
     "name": "stderr",
     "output_type": "stream",
     "text": [
      " 84%|████████▍ | 3633/4321 [03:37<00:39, 17.62it/s]"
     ]
    },
    {
     "name": "stdout",
     "output_type": "stream",
     "text": [
      "[750.49292763]\n",
      "[]\n"
     ]
    },
    {
     "name": "stderr",
     "output_type": "stream",
     "text": [
      " 84%|████████▍ | 3639/4321 [03:38<00:39, 17.20it/s]"
     ]
    },
    {
     "name": "stdout",
     "output_type": "stream",
     "text": [
      "[ 887.68183981 1095.95985735 1171.49673163]\n",
      "[857.03887706]\n"
     ]
    },
    {
     "name": "stderr",
     "output_type": "stream",
     "text": [
      " 84%|████████▍ | 3643/4321 [03:38<00:39, 17.20it/s]"
     ]
    },
    {
     "name": "stdout",
     "output_type": "stream",
     "text": [
      "[1034.1220776]\n",
      "[838.3438613]\n"
     ]
    },
    {
     "name": "stderr",
     "output_type": "stream",
     "text": [
      " 84%|████████▍ | 3651/4321 [03:39<00:39, 17.06it/s]"
     ]
    },
    {
     "name": "stdout",
     "output_type": "stream",
     "text": [
      "[]\n",
      "[ 396.95165698 1100.84492096]\n",
      "[266.72022113]\n"
     ]
    },
    {
     "name": "stderr",
     "output_type": "stream",
     "text": [
      " 85%|████████▍ | 3657/4321 [03:39<00:38, 17.40it/s]"
     ]
    },
    {
     "name": "stdout",
     "output_type": "stream",
     "text": [
      "[]\n",
      "[734.19488309]\n",
      "[]\n"
     ]
    },
    {
     "name": "stderr",
     "output_type": "stream",
     "text": [
      " 85%|████████▍ | 3661/4321 [03:39<00:38, 16.98it/s]"
     ]
    },
    {
     "name": "stdout",
     "output_type": "stream",
     "text": [
      "[648.69588501 997.42585075]\n",
      "[ 351.76393663  446.29832493  740.1686      749.73149955 1082.55524267]\n"
     ]
    },
    {
     "name": "stderr",
     "output_type": "stream",
     "text": [
      " 85%|████████▍ | 3667/4321 [03:39<00:39, 16.67it/s]"
     ]
    },
    {
     "name": "stdout",
     "output_type": "stream",
     "text": [
      "[315.48750148 514.3806712  575.57520234]\n",
      "[289.98024519 336.74425532 495.63904351]\n",
      "[1092.75975489]\n"
     ]
    },
    {
     "name": "stderr",
     "output_type": "stream",
     "text": [
      " 85%|████████▌ | 3673/4321 [03:40<00:38, 16.96it/s]"
     ]
    },
    {
     "name": "stdout",
     "output_type": "stream",
     "text": [
      "[]\n",
      "[ 524.68937581 1215.0684795 ]\n"
     ]
    },
    {
     "name": "stderr",
     "output_type": "stream",
     "text": [
      " 85%|████████▌ | 3679/4321 [03:40<00:38, 16.78it/s]"
     ]
    },
    {
     "name": "stdout",
     "output_type": "stream",
     "text": [
      "[891.42347923]\n",
      "[1110.58343018]\n"
     ]
    },
    {
     "name": "stderr",
     "output_type": "stream",
     "text": [
      " 85%|████████▌ | 3683/4321 [03:40<00:43, 14.66it/s]"
     ]
    },
    {
     "name": "stdout",
     "output_type": "stream",
     "text": [
      "[ 244.6064476   421.25429689  549.81541481 1164.5481111 ]\n"
     ]
    },
    {
     "name": "stderr",
     "output_type": "stream",
     "text": [
      " 85%|████████▌ | 3687/4321 [03:41<00:44, 14.32it/s]"
     ]
    },
    {
     "name": "stdout",
     "output_type": "stream",
     "text": [
      "[948.31377]\n",
      "[1266.57452213]\n",
      "[807.91618145 885.50330384]\n"
     ]
    },
    {
     "name": "stderr",
     "output_type": "stream",
     "text": [
      " 86%|████████▌ | 3701/4321 [03:42<00:41, 14.99it/s]"
     ]
    },
    {
     "name": "stdout",
     "output_type": "stream",
     "text": [
      "[279.36470743]\n",
      "[652.80735276]\n"
     ]
    },
    {
     "name": "stderr",
     "output_type": "stream",
     "text": [
      " 86%|████████▌ | 3705/4321 [03:42<00:40, 15.05it/s]"
     ]
    },
    {
     "name": "stdout",
     "output_type": "stream",
     "text": [
      "[565.95070617 758.40306194 931.91860259]\n",
      "[306.77464118]\n",
      "[538.73780551 758.67248032 879.15706228]\n",
      "[ 435.14309626  541.39081038  511.52023022  575.71177486  851.43046526\n",
      " 1080.68700262]\n"
     ]
    },
    {
     "name": "stderr",
     "output_type": "stream",
     "text": [
      " 86%|████████▌ | 3711/4321 [03:42<00:37, 16.07it/s]"
     ]
    },
    {
     "name": "stdout",
     "output_type": "stream",
     "text": [
      "[572.46173621]\n",
      "[]\n"
     ]
    },
    {
     "name": "stderr",
     "output_type": "stream",
     "text": [
      " 86%|████████▌ | 3719/4321 [03:43<00:33, 17.73it/s]"
     ]
    },
    {
     "name": "stdout",
     "output_type": "stream",
     "text": [
      "[1018.63928378]\n"
     ]
    },
    {
     "name": "stderr",
     "output_type": "stream",
     "text": [
      " 86%|████████▋ | 3727/4321 [03:43<00:34, 17.39it/s]"
     ]
    },
    {
     "name": "stdout",
     "output_type": "stream",
     "text": [
      "[ 507.9111783   486.39024943  957.77985687 1003.57466105]\n",
      "[650.13894317]\n"
     ]
    },
    {
     "name": "stderr",
     "output_type": "stream",
     "text": [
      " 86%|████████▋ | 3737/4321 [03:44<00:33, 17.24it/s]"
     ]
    },
    {
     "name": "stdout",
     "output_type": "stream",
     "text": [
      "[]\n"
     ]
    },
    {
     "name": "stderr",
     "output_type": "stream",
     "text": [
      " 87%|████████▋ | 3741/4321 [03:44<00:34, 16.61it/s]"
     ]
    },
    {
     "name": "stdout",
     "output_type": "stream",
     "text": [
      "[ 442.27649602  550.33723597  741.59985421  950.52096749 1033.94411997\n",
      " 1062.74392472 1163.76842203]\n",
      "[]\n",
      "[ 992.92971749 1000.76500186]\n",
      "[]\n"
     ]
    },
    {
     "name": "stderr",
     "output_type": "stream",
     "text": [
      " 87%|████████▋ | 3749/4321 [03:45<00:33, 16.94it/s]"
     ]
    },
    {
     "name": "stdout",
     "output_type": "stream",
     "text": [
      "[392.13072293]\n",
      "[ 696.32087564  817.61805507  991.08325374 1007.80638865 1207.6723298 ]\n"
     ]
    },
    {
     "name": "stderr",
     "output_type": "stream",
     "text": [
      " 87%|████████▋ | 3753/4321 [03:45<00:32, 17.31it/s]"
     ]
    },
    {
     "name": "stdout",
     "output_type": "stream",
     "text": [
      "[537.63652249]\n",
      "[379.91925789 444.83365201 505.34963855 602.81475917]\n",
      "[1056.72024536]\n",
      "[]\n"
     ]
    },
    {
     "name": "stderr",
     "output_type": "stream",
     "text": [
      " 87%|████████▋ | 3757/4321 [03:45<00:33, 16.84it/s]"
     ]
    },
    {
     "name": "stdout",
     "output_type": "stream",
     "text": [
      "[ 870.18745305 1005.04235577]\n",
      "[350.15047886 407.78720373]\n",
      "[ 490.82729049  610.70479268  650.04028772  800.49109538  875.36434399\n",
      " 1032.56858667]\n"
     ]
    },
    {
     "name": "stderr",
     "output_type": "stream",
     "text": [
      "\r",
      " 87%|████████▋ | 3759/4321 [03:45<00:35, 16.01it/s]"
     ]
    },
    {
     "name": "stdout",
     "output_type": "stream",
     "text": [
      "[241.45388009]\n",
      "[ 371.032806    507.50850157 1258.07965236]\n"
     ]
    },
    {
     "name": "stderr",
     "output_type": "stream",
     "text": [
      " 87%|████████▋ | 3763/4321 [03:45<00:35, 15.71it/s]"
     ]
    },
    {
     "name": "stdout",
     "output_type": "stream",
     "text": [
      "[264.86058537]\n"
     ]
    },
    {
     "name": "stderr",
     "output_type": "stream",
     "text": [
      " 87%|████████▋ | 3773/4321 [03:46<00:33, 16.28it/s]"
     ]
    },
    {
     "name": "stdout",
     "output_type": "stream",
     "text": [
      "[1078.49976987 1213.34183389]\n",
      "[]\n",
      "[723.47504162 832.48252827]\n"
     ]
    },
    {
     "name": "stderr",
     "output_type": "stream",
     "text": [
      " 87%|████████▋ | 3777/4321 [03:46<00:33, 16.21it/s]"
     ]
    },
    {
     "name": "stdout",
     "output_type": "stream",
     "text": [
      "[1177.98885425]\n",
      "[]\n",
      "[]\n"
     ]
    },
    {
     "name": "stderr",
     "output_type": "stream",
     "text": [
      " 88%|████████▊ | 3783/4321 [03:47<00:30, 17.57it/s]"
     ]
    },
    {
     "name": "stdout",
     "output_type": "stream",
     "text": [
      "[ 946.83523238 1146.56286108]\n",
      "[]\n"
     ]
    },
    {
     "name": "stderr",
     "output_type": "stream",
     "text": [
      " 88%|████████▊ | 3789/4321 [03:47<00:33, 16.04it/s]"
     ]
    },
    {
     "name": "stdout",
     "output_type": "stream",
     "text": [
      "[]\n",
      "[]\n",
      "[ 971.53563054 1037.89409247 1163.5882529 ]\n"
     ]
    },
    {
     "name": "stderr",
     "output_type": "stream",
     "text": [
      " 88%|████████▊ | 3799/4321 [03:48<00:31, 16.50it/s]"
     ]
    },
    {
     "name": "stdout",
     "output_type": "stream",
     "text": [
      "[]\n",
      "[1015.58315638]\n"
     ]
    },
    {
     "name": "stderr",
     "output_type": "stream",
     "text": [
      " 88%|████████▊ | 3803/4321 [03:48<00:33, 15.44it/s]"
     ]
    },
    {
     "name": "stdout",
     "output_type": "stream",
     "text": [
      "[]\n",
      "[]\n"
     ]
    },
    {
     "name": "stderr",
     "output_type": "stream",
     "text": [
      " 88%|████████▊ | 3815/4321 [03:49<00:30, 16.73it/s]"
     ]
    },
    {
     "name": "stdout",
     "output_type": "stream",
     "text": [
      "[473.18145502]\n",
      "[]\n",
      "[297.83323214 376.88260505 527.52667811]\n"
     ]
    },
    {
     "name": "stderr",
     "output_type": "stream",
     "text": [
      " 88%|████████▊ | 3821/4321 [03:49<00:29, 16.94it/s]"
     ]
    },
    {
     "name": "stdout",
     "output_type": "stream",
     "text": [
      "[]\n",
      "[]\n",
      "[1235.10236707]\n",
      "[317.39165408 396.30793892 763.4024871  829.29906395]\n"
     ]
    },
    {
     "name": "stderr",
     "output_type": "stream",
     "text": [
      " 89%|████████▊ | 3825/4321 [03:49<00:28, 17.16it/s]"
     ]
    },
    {
     "name": "stdout",
     "output_type": "stream",
     "text": [
      "[278.2514128  593.73028937 694.1795136  727.07504701 787.43654591]\n",
      "[]\n"
     ]
    },
    {
     "name": "stderr",
     "output_type": "stream",
     "text": [
      " 89%|████████▊ | 3831/4321 [03:50<00:29, 16.52it/s]"
     ]
    },
    {
     "name": "stdout",
     "output_type": "stream",
     "text": [
      "[ 774.82634995 1021.86667302]\n",
      "[361.89613379]\n"
     ]
    },
    {
     "name": "stderr",
     "output_type": "stream",
     "text": [
      " 89%|████████▉ | 3835/4321 [03:50<00:30, 15.86it/s]"
     ]
    },
    {
     "name": "stdout",
     "output_type": "stream",
     "text": [
      "[]\n",
      "[1062.96654767 1104.27810135 1195.30319137 1247.60724797]\n",
      "[ 980.4806971  1243.07545004]\n"
     ]
    },
    {
     "name": "stderr",
     "output_type": "stream",
     "text": [
      " 89%|████████▉ | 3841/4321 [03:50<00:28, 16.58it/s]"
     ]
    },
    {
     "name": "stdout",
     "output_type": "stream",
     "text": [
      "[480.88757552 486.94720188]\n",
      "[]\n"
     ]
    },
    {
     "name": "stderr",
     "output_type": "stream",
     "text": [
      " 89%|████████▉ | 3845/4321 [03:50<00:29, 16.25it/s]"
     ]
    },
    {
     "name": "stdout",
     "output_type": "stream",
     "text": [
      "[1100.21207808]\n",
      "[647.22011402]\n",
      "[553.38881103]\n",
      "[736.86478477]\n"
     ]
    },
    {
     "name": "stderr",
     "output_type": "stream",
     "text": [
      " 89%|████████▉ | 3849/4321 [03:51<00:28, 16.63it/s]"
     ]
    },
    {
     "name": "stdout",
     "output_type": "stream",
     "text": [
      "[335.6440493  451.05989944 561.21285142 713.51379973 863.52412784]\n",
      "[632.84959282]\n",
      "[1116.37615507]\n"
     ]
    },
    {
     "name": "stderr",
     "output_type": "stream",
     "text": [
      " 89%|████████▉ | 3853/4321 [03:51<00:28, 16.54it/s]"
     ]
    },
    {
     "name": "stdout",
     "output_type": "stream",
     "text": [
      "[334.12951945 420.57498162 548.24581477]\n",
      "[927.97411374]\n",
      "[ 726.90960238 1112.50141743]\n"
     ]
    },
    {
     "name": "stderr",
     "output_type": "stream",
     "text": [
      " 89%|████████▉ | 3857/4321 [03:51<00:27, 17.03it/s]"
     ]
    },
    {
     "name": "stdout",
     "output_type": "stream",
     "text": [
      "[1102.00769763]\n",
      "[551.21351647]\n"
     ]
    },
    {
     "name": "stderr",
     "output_type": "stream",
     "text": [
      " 89%|████████▉ | 3861/4321 [03:51<00:29, 15.36it/s]"
     ]
    },
    {
     "name": "stdout",
     "output_type": "stream",
     "text": [
      "[343.6823183]\n",
      "[ 294.84478876  442.41654109  812.45038577 1034.53756759 1121.4284026 ]\n"
     ]
    },
    {
     "name": "stderr",
     "output_type": "stream",
     "text": [
      " 89%|████████▉ | 3865/4321 [03:52<00:28, 15.91it/s]"
     ]
    },
    {
     "name": "stdout",
     "output_type": "stream",
     "text": [
      "[413.27948001]\n",
      "[ 524.87713005  639.28669835  810.10926348  942.04308194 1151.64384966]\n",
      "[ 227.30598859  337.02910669  448.188621    915.00149127 1042.82346741]\n",
      "[842.41205963]\n"
     ]
    },
    {
     "name": "stderr",
     "output_type": "stream",
     "text": [
      " 90%|████████▉ | 3871/4321 [03:52<00:27, 16.47it/s]"
     ]
    },
    {
     "name": "stdout",
     "output_type": "stream",
     "text": [
      "[598.22487687]\n",
      "[]\n",
      "[ 362.95601639  539.10822987  628.75602643  953.33059672 1070.24882782\n",
      " 1276.38254676]\n"
     ]
    },
    {
     "name": "stderr",
     "output_type": "stream",
     "text": [
      " 90%|████████▉ | 3877/4321 [03:52<00:27, 16.36it/s]"
     ]
    },
    {
     "name": "stdout",
     "output_type": "stream",
     "text": [
      "[786.79279837]\n",
      "[ 303.21655523  747.377016    817.41842949  980.43768292 1137.27238685]\n",
      "[311.64336575 418.94845582]\n"
     ]
    },
    {
     "name": "stderr",
     "output_type": "stream",
     "text": [
      " 90%|████████▉ | 3883/4321 [03:53<00:27, 16.11it/s]"
     ]
    },
    {
     "name": "stdout",
     "output_type": "stream",
     "text": [
      "[528.04409706]\n",
      "[1184.67323386]\n"
     ]
    },
    {
     "name": "stderr",
     "output_type": "stream",
     "text": [
      " 90%|█████████ | 3895/4321 [03:53<00:24, 17.15it/s]"
     ]
    },
    {
     "name": "stdout",
     "output_type": "stream",
     "text": [
      "[995.72891598]\n"
     ]
    },
    {
     "name": "stderr",
     "output_type": "stream",
     "text": [
      " 90%|█████████ | 3901/4321 [03:54<00:25, 16.54it/s]"
     ]
    },
    {
     "name": "stdout",
     "output_type": "stream",
     "text": [
      "[620.42630009]\n"
     ]
    },
    {
     "name": "stderr",
     "output_type": "stream",
     "text": [
      " 90%|█████████ | 3905/4321 [03:54<00:26, 15.95it/s]"
     ]
    },
    {
     "name": "stdout",
     "output_type": "stream",
     "text": [
      "[ 955.19080447 1028.29087256 1217.03519332]\n",
      "[433.9140476  683.79877085]\n",
      "[337.07541062 463.57017621 478.08956584 734.10785471 908.89224809]\n",
      "[ 930.46291155 1067.71326084 1165.08572822]\n"
     ]
    },
    {
     "name": "stderr",
     "output_type": "stream",
     "text": [
      " 90%|█████████ | 3909/4321 [03:54<00:25, 16.19it/s]"
     ]
    },
    {
     "name": "stdout",
     "output_type": "stream",
     "text": [
      "[453.94440094 625.26194932 723.68430812]\n",
      "[292.94031279 409.98486363 616.43274247]\n",
      "[ 302.04537236  380.87751854 1120.7364559 ]\n"
     ]
    },
    {
     "name": "stderr",
     "output_type": "stream",
     "text": [
      " 91%|█████████ | 3915/4321 [03:55<00:26, 15.34it/s]"
     ]
    },
    {
     "name": "stdout",
     "output_type": "stream",
     "text": [
      "[]\n",
      "[]\n"
     ]
    },
    {
     "name": "stderr",
     "output_type": "stream",
     "text": [
      " 91%|█████████ | 3923/4321 [03:55<00:26, 15.16it/s]"
     ]
    },
    {
     "name": "stdout",
     "output_type": "stream",
     "text": [
      "[1053.94114094]\n",
      "[ 724.84202945  854.82379131  945.9248487  1072.87550009]\n",
      "[ 274.52433434  430.98389571  528.49658548 1041.90613676]\n",
      "[ 365.63142742  502.53168409  588.15408378 1145.52950296]\n"
     ]
    },
    {
     "name": "stderr",
     "output_type": "stream",
     "text": [
      " 91%|█████████ | 3929/4321 [03:56<00:24, 16.24it/s]"
     ]
    },
    {
     "name": "stdout",
     "output_type": "stream",
     "text": [
      "[ 508.83110235  670.515546   1064.98770301 1222.04739144]\n",
      "[638.54917153]\n"
     ]
    },
    {
     "name": "stderr",
     "output_type": "stream",
     "text": [
      " 91%|█████████▏| 3945/4321 [03:57<00:21, 17.25it/s]"
     ]
    },
    {
     "name": "stdout",
     "output_type": "stream",
     "text": [
      "[734.21427177 879.36422328]\n",
      "[551.86800207]\n"
     ]
    },
    {
     "name": "stderr",
     "output_type": "stream",
     "text": [
      " 91%|█████████▏| 3949/4321 [03:57<00:21, 16.94it/s]"
     ]
    },
    {
     "name": "stdout",
     "output_type": "stream",
     "text": [
      "[313.10120192]\n",
      "[295.45640407 431.34834872 597.66636865]\n"
     ]
    },
    {
     "name": "stderr",
     "output_type": "stream",
     "text": [
      " 92%|█████████▏| 3957/4321 [03:57<00:22, 16.47it/s]"
     ]
    },
    {
     "name": "stdout",
     "output_type": "stream",
     "text": [
      "[277.80733959 417.90308687]\n"
     ]
    },
    {
     "name": "stderr",
     "output_type": "stream",
     "text": [
      " 92%|█████████▏| 3963/4321 [03:58<00:22, 15.92it/s]"
     ]
    },
    {
     "name": "stdout",
     "output_type": "stream",
     "text": [
      "[]\n",
      "[]\n",
      "[515.26211162 906.40712328]\n"
     ]
    },
    {
     "name": "stderr",
     "output_type": "stream",
     "text": [
      " 92%|█████████▏| 3971/4321 [03:58<00:20, 17.01it/s]"
     ]
    },
    {
     "name": "stdout",
     "output_type": "stream",
     "text": [
      "[669.36459361]\n",
      "[605.06239232 761.43086029]\n"
     ]
    },
    {
     "name": "stderr",
     "output_type": "stream",
     "text": [
      " 92%|█████████▏| 3979/4321 [03:59<00:20, 16.68it/s]"
     ]
    },
    {
     "name": "stdout",
     "output_type": "stream",
     "text": [
      "[1090.07232655]\n",
      "[470.54339874 480.10484183 549.85228991]\n"
     ]
    },
    {
     "name": "stderr",
     "output_type": "stream",
     "text": [
      " 92%|█████████▏| 3983/4321 [03:59<00:19, 17.49it/s]"
     ]
    },
    {
     "name": "stdout",
     "output_type": "stream",
     "text": [
      "[]\n"
     ]
    },
    {
     "name": "stderr",
     "output_type": "stream",
     "text": [
      " 92%|█████████▏| 3987/4321 [03:59<00:19, 17.26it/s]"
     ]
    },
    {
     "name": "stdout",
     "output_type": "stream",
     "text": [
      "[752.91657966]\n",
      "[784.74770436]\n",
      "[1212.09994578]\n"
     ]
    },
    {
     "name": "stderr",
     "output_type": "stream",
     "text": [
      " 92%|█████████▏| 3991/4321 [03:59<00:19, 17.04it/s]"
     ]
    },
    {
     "name": "stdout",
     "output_type": "stream",
     "text": [
      "[379.48592074]\n",
      "[ 846.22177646 1088.99435792 1197.80016807]\n",
      "[554.61076554]\n"
     ]
    },
    {
     "name": "stderr",
     "output_type": "stream",
     "text": [
      " 93%|█████████▎| 3997/4321 [04:00<00:19, 16.38it/s]"
     ]
    },
    {
     "name": "stdout",
     "output_type": "stream",
     "text": [
      "[569.18525212 694.0539042 ]\n"
     ]
    },
    {
     "name": "stderr",
     "output_type": "stream",
     "text": [
      " 93%|█████████▎| 4001/4321 [04:00<00:19, 16.63it/s]"
     ]
    },
    {
     "name": "stdout",
     "output_type": "stream",
     "text": [
      "[]\n",
      "[567.60315279]\n",
      "[]\n"
     ]
    },
    {
     "name": "stderr",
     "output_type": "stream",
     "text": [
      " 93%|█████████▎| 4009/4321 [04:00<00:18, 17.16it/s]"
     ]
    },
    {
     "name": "stdout",
     "output_type": "stream",
     "text": [
      "[312.13098776]\n",
      "[1179.68119377]\n",
      "[ 606.74684194  718.77798818  878.40063326 1018.75102993 1170.87796225]\n"
     ]
    },
    {
     "name": "stderr",
     "output_type": "stream",
     "text": [
      " 93%|█████████▎| 4013/4321 [04:01<00:18, 16.63it/s]"
     ]
    },
    {
     "name": "stdout",
     "output_type": "stream",
     "text": [
      "[ 541.46772716  686.97555425  777.76881575 1109.60986605]\n",
      "[ 891.51787628 1011.78613416 1133.4803448 ]\n",
      "[ 325.04652818  539.08269307  840.57780243  928.06151768 1014.25607243\n",
      "  988.86591374 1089.74500632]\n"
     ]
    },
    {
     "name": "stderr",
     "output_type": "stream",
     "text": [
      " 93%|█████████▎| 4017/4321 [04:01<00:18, 16.53it/s]"
     ]
    },
    {
     "name": "stdout",
     "output_type": "stream",
     "text": [
      "[ 324.75542785  435.36169856  569.61037994  924.23366651 1076.31628151\n",
      " 1093.05924186 1235.1347316 ]\n",
      "[782.17207767]\n",
      "[]\n"
     ]
    },
    {
     "name": "stderr",
     "output_type": "stream",
     "text": [
      " 93%|█████████▎| 4021/4321 [04:01<00:18, 16.53it/s]"
     ]
    },
    {
     "name": "stdout",
     "output_type": "stream",
     "text": [
      "[ 926.9915695  1025.13415133 1012.74733054 1156.95287617]\n",
      "[ 268.51661468 1192.13195534]\n",
      "[803.95191341 969.62196803]\n"
     ]
    },
    {
     "name": "stderr",
     "output_type": "stream",
     "text": [
      " 93%|█████████▎| 4025/4321 [04:01<00:18, 16.14it/s]"
     ]
    },
    {
     "name": "stdout",
     "output_type": "stream",
     "text": [
      "[333.82933608]\n",
      "[449.14293561 688.87563407]\n",
      "[]\n"
     ]
    },
    {
     "name": "stderr",
     "output_type": "stream",
     "text": [
      " 93%|█████████▎| 4031/4321 [04:02<00:17, 16.51it/s]"
     ]
    },
    {
     "name": "stdout",
     "output_type": "stream",
     "text": [
      "[]\n",
      "[327.18402165 404.22387692]\n"
     ]
    },
    {
     "name": "stderr",
     "output_type": "stream",
     "text": [
      " 93%|█████████▎| 4037/4321 [04:02<00:16, 17.34it/s]"
     ]
    },
    {
     "name": "stdout",
     "output_type": "stream",
     "text": [
      "[]\n"
     ]
    },
    {
     "name": "stderr",
     "output_type": "stream",
     "text": [
      " 94%|█████████▎| 4041/4321 [04:02<00:16, 16.84it/s]"
     ]
    },
    {
     "name": "stdout",
     "output_type": "stream",
     "text": [
      "[276.25771564 558.10872685]\n",
      "[1031.0617058]\n"
     ]
    },
    {
     "name": "stderr",
     "output_type": "stream",
     "text": [
      " 94%|█████████▎| 4047/4321 [04:03<00:16, 16.38it/s]"
     ]
    },
    {
     "name": "stdout",
     "output_type": "stream",
     "text": [
      "[379.882022   449.38760808 599.03515229 780.88345536 780.27415868]\n",
      "[669.73431419 686.99280834]\n"
     ]
    },
    {
     "name": "stderr",
     "output_type": "stream",
     "text": [
      " 94%|█████████▍| 4053/4321 [04:03<00:15, 16.84it/s]"
     ]
    },
    {
     "name": "stdout",
     "output_type": "stream",
     "text": [
      "[ 240.33879033 1278.4393454 ]\n"
     ]
    },
    {
     "name": "stderr",
     "output_type": "stream",
     "text": [
      " 94%|█████████▍| 4057/4321 [04:03<00:16, 16.49it/s]"
     ]
    },
    {
     "name": "stdout",
     "output_type": "stream",
     "text": [
      "[594.0798733]\n",
      "[]\n",
      "[ 270.1251045  1236.11547751]\n"
     ]
    },
    {
     "name": "stderr",
     "output_type": "stream",
     "text": [
      " 94%|█████████▍| 4065/4321 [04:04<00:15, 16.71it/s]"
     ]
    },
    {
     "name": "stdout",
     "output_type": "stream",
     "text": [
      "[549.26128919]\n",
      "[1058.36753684]\n"
     ]
    },
    {
     "name": "stderr",
     "output_type": "stream",
     "text": [
      " 94%|█████████▍| 4069/4321 [04:04<00:14, 16.93it/s]"
     ]
    },
    {
     "name": "stdout",
     "output_type": "stream",
     "text": [
      "[306.58333033 762.48116317]\n"
     ]
    },
    {
     "name": "stderr",
     "output_type": "stream",
     "text": [
      " 94%|█████████▍| 4077/4321 [04:04<00:14, 17.16it/s]"
     ]
    },
    {
     "name": "stdout",
     "output_type": "stream",
     "text": [
      "[]\n"
     ]
    },
    {
     "name": "stderr",
     "output_type": "stream",
     "text": [
      " 94%|█████████▍| 4083/4321 [04:05<00:13, 17.74it/s]"
     ]
    },
    {
     "name": "stdout",
     "output_type": "stream",
     "text": [
      "[]\n"
     ]
    },
    {
     "name": "stderr",
     "output_type": "stream",
     "text": [
      " 95%|█████████▍| 4089/4321 [04:05<00:13, 16.89it/s]"
     ]
    },
    {
     "name": "stdout",
     "output_type": "stream",
     "text": [
      "[758.97619193]\n"
     ]
    },
    {
     "name": "stderr",
     "output_type": "stream",
     "text": [
      " 95%|█████████▍| 4093/4321 [04:05<00:13, 16.49it/s]"
     ]
    },
    {
     "name": "stdout",
     "output_type": "stream",
     "text": [
      "[1011.87962648  990.31195523]\n",
      "[595.72586972 793.27504603 902.37042567 967.46335389]\n",
      "[]\n"
     ]
    },
    {
     "name": "stderr",
     "output_type": "stream",
     "text": [
      " 95%|█████████▍| 4099/4321 [04:06<00:13, 16.90it/s]"
     ]
    },
    {
     "name": "stdout",
     "output_type": "stream",
     "text": [
      "[1183.6490872]\n",
      "[ 433.91324751  656.56608058  914.11748826  928.91868075 1064.25692725\n",
      " 1213.8243088 ]\n",
      "[713.5002815]\n"
     ]
    },
    {
     "name": "stderr",
     "output_type": "stream",
     "text": [
      " 95%|█████████▌| 4105/4321 [04:06<00:13, 15.74it/s]"
     ]
    },
    {
     "name": "stdout",
     "output_type": "stream",
     "text": [
      "[923.85561644]\n",
      "[ 348.00732035  501.76926269  840.79579881 1104.08414457]\n"
     ]
    },
    {
     "name": "stderr",
     "output_type": "stream",
     "text": [
      " 95%|█████████▌| 4111/4321 [04:06<00:12, 16.50it/s]"
     ]
    },
    {
     "name": "stdout",
     "output_type": "stream",
     "text": [
      "[]\n"
     ]
    },
    {
     "name": "stderr",
     "output_type": "stream",
     "text": [
      " 95%|█████████▌| 4119/4321 [04:07<00:12, 15.87it/s]"
     ]
    },
    {
     "name": "stdout",
     "output_type": "stream",
     "text": [
      "[411.98544899]\n",
      "[]\n"
     ]
    },
    {
     "name": "stderr",
     "output_type": "stream",
     "text": [
      "\r",
      " 95%|█████████▌| 4121/4321 [04:07<00:13, 15.15it/s]"
     ]
    },
    {
     "name": "stdout",
     "output_type": "stream",
     "text": [
      "[1209.29125338]\n",
      "[ 278.58563088  506.91299156  738.82675761 1110.97294864]\n",
      "[502.49185587 808.44959771]\n"
     ]
    },
    {
     "name": "stderr",
     "output_type": "stream",
     "text": [
      " 95%|█████████▌| 4125/4321 [04:07<00:12, 15.15it/s]"
     ]
    },
    {
     "name": "stdout",
     "output_type": "stream",
     "text": [
      "[ 926.04032499 1082.65577634]\n",
      "[1015.21283859]\n"
     ]
    },
    {
     "name": "stderr",
     "output_type": "stream",
     "text": [
      " 96%|█████████▌| 4129/4321 [04:08<00:12, 15.05it/s]"
     ]
    },
    {
     "name": "stdout",
     "output_type": "stream",
     "text": [
      "[874.15081012]\n"
     ]
    },
    {
     "name": "stderr",
     "output_type": "stream",
     "text": [
      " 96%|█████████▌| 4135/4321 [04:08<00:12, 15.18it/s]"
     ]
    },
    {
     "name": "stdout",
     "output_type": "stream",
     "text": [
      "[ 819.01701593 1194.65581829]\n",
      "[580.91628101]\n"
     ]
    },
    {
     "name": "stderr",
     "output_type": "stream",
     "text": [
      " 96%|█████████▌| 4139/4321 [04:08<00:11, 16.04it/s]"
     ]
    },
    {
     "name": "stdout",
     "output_type": "stream",
     "text": [
      "[]\n"
     ]
    },
    {
     "name": "stderr",
     "output_type": "stream",
     "text": [
      " 96%|█████████▌| 4143/4321 [04:09<00:10, 16.46it/s]"
     ]
    },
    {
     "name": "stdout",
     "output_type": "stream",
     "text": [
      "[278.07451311]\n"
     ]
    },
    {
     "name": "stderr",
     "output_type": "stream",
     "text": [
      " 96%|█████████▌| 4147/4321 [04:09<00:10, 16.01it/s]"
     ]
    },
    {
     "name": "stdout",
     "output_type": "stream",
     "text": [
      "[]\n",
      "[]\n"
     ]
    },
    {
     "name": "stderr",
     "output_type": "stream",
     "text": [
      " 96%|█████████▌| 4155/4321 [04:09<00:10, 15.61it/s]"
     ]
    },
    {
     "name": "stdout",
     "output_type": "stream",
     "text": [
      "[ 973.03953133 1157.11521102]\n",
      "[]\n",
      "[]\n"
     ]
    },
    {
     "name": "stderr",
     "output_type": "stream",
     "text": [
      " 96%|█████████▋| 4159/4321 [04:10<00:10, 15.36it/s]"
     ]
    },
    {
     "name": "stdout",
     "output_type": "stream",
     "text": [
      "[623.95311681]\n",
      "[270.85322166 374.47326355]\n",
      "[]\n"
     ]
    },
    {
     "name": "stderr",
     "output_type": "stream",
     "text": [
      " 96%|█████████▋| 4167/4321 [04:10<00:09, 16.68it/s]"
     ]
    },
    {
     "name": "stdout",
     "output_type": "stream",
     "text": [
      "[330.55972857 532.49417323]\n"
     ]
    },
    {
     "name": "stderr",
     "output_type": "stream",
     "text": [
      " 97%|█████████▋| 4171/4321 [04:10<00:09, 16.50it/s]"
     ]
    },
    {
     "name": "stdout",
     "output_type": "stream",
     "text": [
      "[ 967.88668836 1112.68655539]\n",
      "[718.29529861]\n",
      "[543.30067599]\n",
      "[ 827.88265974 1244.3753894 ]\n"
     ]
    },
    {
     "name": "stderr",
     "output_type": "stream",
     "text": [
      " 97%|█████████▋| 4177/4321 [04:11<00:08, 16.03it/s]"
     ]
    },
    {
     "name": "stdout",
     "output_type": "stream",
     "text": [
      "[315.83503224]\n",
      "[508.86401147 583.45357343]\n",
      "[]\n"
     ]
    },
    {
     "name": "stderr",
     "output_type": "stream",
     "text": [
      " 97%|█████████▋| 4183/4321 [04:11<00:08, 16.94it/s]"
     ]
    },
    {
     "name": "stdout",
     "output_type": "stream",
     "text": [
      "[ 319.94482142  438.99318066 1208.26227326]\n",
      "[ 453.52526769  573.92761185 1219.44942941]\n",
      "[ 292.89806487  675.65256872  717.15477855 1004.74537436 1061.46154832]\n"
     ]
    },
    {
     "name": "stderr",
     "output_type": "stream",
     "text": [
      " 97%|█████████▋| 4187/4321 [04:11<00:07, 16.96it/s]"
     ]
    },
    {
     "name": "stdout",
     "output_type": "stream",
     "text": [
      "[444.97914256 743.38826317]\n",
      "[]\n"
     ]
    },
    {
     "name": "stderr",
     "output_type": "stream",
     "text": [
      " 97%|█████████▋| 4193/4321 [04:12<00:07, 16.97it/s]"
     ]
    },
    {
     "name": "stdout",
     "output_type": "stream",
     "text": [
      "[672.80749227]\n"
     ]
    },
    {
     "name": "stderr",
     "output_type": "stream",
     "text": [
      " 97%|█████████▋| 4201/4321 [04:12<00:07, 16.83it/s]"
     ]
    },
    {
     "name": "stdout",
     "output_type": "stream",
     "text": [
      "[525.99514204]\n",
      "[266.32122805]\n",
      "[1028.53904701]\n"
     ]
    },
    {
     "name": "stderr",
     "output_type": "stream",
     "text": [
      " 97%|█████████▋| 4205/4321 [04:12<00:06, 16.62it/s]"
     ]
    },
    {
     "name": "stdout",
     "output_type": "stream",
     "text": [
      "[844.54661135]\n",
      "[]\n"
     ]
    },
    {
     "name": "stderr",
     "output_type": "stream",
     "text": [
      " 97%|█████████▋| 4211/4321 [04:13<00:06, 17.28it/s]"
     ]
    },
    {
     "name": "stdout",
     "output_type": "stream",
     "text": [
      "[]\n",
      "[704.13097299]\n"
     ]
    },
    {
     "name": "stderr",
     "output_type": "stream",
     "text": [
      " 98%|█████████▊| 4221/4321 [04:13<00:05, 16.84it/s]"
     ]
    },
    {
     "name": "stdout",
     "output_type": "stream",
     "text": [
      "[]\n",
      "[ 890.49836407 1055.63594608 1143.27888873]\n"
     ]
    },
    {
     "name": "stderr",
     "output_type": "stream",
     "text": [
      " 98%|█████████▊| 4227/4321 [04:14<00:05, 17.15it/s]"
     ]
    },
    {
     "name": "stdout",
     "output_type": "stream",
     "text": [
      "[358.23535083 749.46277957]\n",
      "[]\n",
      "[1224.00296197]\n"
     ]
    },
    {
     "name": "stderr",
     "output_type": "stream",
     "text": [
      " 98%|█████████▊| 4233/4321 [04:14<00:05, 17.20it/s]"
     ]
    },
    {
     "name": "stdout",
     "output_type": "stream",
     "text": [
      "[884.03389307]\n"
     ]
    },
    {
     "name": "stderr",
     "output_type": "stream",
     "text": [
      " 98%|█████████▊| 4237/4321 [04:14<00:04, 17.27it/s]"
     ]
    },
    {
     "name": "stdout",
     "output_type": "stream",
     "text": [
      "[905.85308902]\n",
      "[ 886.35146499  982.38297338 1052.58630661]\n"
     ]
    },
    {
     "name": "stderr",
     "output_type": "stream",
     "text": [
      " 98%|█████████▊| 4241/4321 [04:14<00:04, 16.74it/s]"
     ]
    },
    {
     "name": "stdout",
     "output_type": "stream",
     "text": [
      "[444.68374561 502.2295177 ]\n",
      "[ 879.10772753  936.57376507 1143.44881374 1166.83176346]\n",
      "[447.04642638]\n",
      "[835.75311515]\n"
     ]
    },
    {
     "name": "stderr",
     "output_type": "stream",
     "text": [
      " 98%|█████████▊| 4245/4321 [04:15<00:04, 16.92it/s]"
     ]
    },
    {
     "name": "stdout",
     "output_type": "stream",
     "text": [
      "[331.92188768 552.61899491 580.66295073]\n",
      "[ 567.73982164 1232.68369268]\n"
     ]
    },
    {
     "name": "stderr",
     "output_type": "stream",
     "text": [
      "\r",
      " 98%|█████████▊| 4247/4321 [04:15<00:04, 14.88it/s]"
     ]
    },
    {
     "name": "stdout",
     "output_type": "stream",
     "text": [
      "[]\n",
      "[1118.15311999 1239.6658983 ]\n",
      "[843.7714373]\n"
     ]
    },
    {
     "name": "stderr",
     "output_type": "stream",
     "text": [
      " 98%|█████████▊| 4255/4321 [04:15<00:04, 15.32it/s]"
     ]
    },
    {
     "name": "stdout",
     "output_type": "stream",
     "text": [
      "[522.3224695]\n"
     ]
    },
    {
     "name": "stderr",
     "output_type": "stream",
     "text": [
      " 99%|█████████▊| 4261/4321 [04:16<00:03, 16.10it/s]"
     ]
    },
    {
     "name": "stdout",
     "output_type": "stream",
     "text": [
      "[]\n"
     ]
    },
    {
     "name": "stderr",
     "output_type": "stream",
     "text": [
      " 99%|█████████▊| 4265/4321 [04:16<00:03, 15.63it/s]"
     ]
    },
    {
     "name": "stdout",
     "output_type": "stream",
     "text": [
      "[ 842.05959599  975.09613469 1058.96034894 1175.10204962]\n",
      "[528.52361199 713.81751516 890.98675255]\n"
     ]
    },
    {
     "name": "stderr",
     "output_type": "stream",
     "text": [
      " 99%|█████████▉| 4271/4321 [04:16<00:03, 16.43it/s]"
     ]
    },
    {
     "name": "stdout",
     "output_type": "stream",
     "text": [
      "[ 697.94734765  767.92713181  928.41936669 1015.68911989]\n",
      "[1029.44977686]\n"
     ]
    },
    {
     "name": "stderr",
     "output_type": "stream",
     "text": [
      " 99%|█████████▉| 4275/4321 [04:17<00:02, 16.24it/s]"
     ]
    },
    {
     "name": "stdout",
     "output_type": "stream",
     "text": [
      "[510.44440477]\n",
      "[1100.68859282]\n",
      "[330.28645839 516.2166426  531.01283324 695.44361254]\n",
      "[ 278.81127455  465.65479608 1157.08390575]\n"
     ]
    },
    {
     "name": "stderr",
     "output_type": "stream",
     "text": [
      " 99%|█████████▉| 4279/4321 [04:17<00:02, 15.75it/s]"
     ]
    },
    {
     "name": "stdout",
     "output_type": "stream",
     "text": [
      "[1127.93542834]\n",
      "[]\n",
      "[267.06183868 509.72947247 495.93201103 771.85330808 986.61750391]\n"
     ]
    },
    {
     "name": "stderr",
     "output_type": "stream",
     "text": [
      " 99%|█████████▉| 4285/4321 [04:17<00:02, 16.33it/s]"
     ]
    },
    {
     "name": "stdout",
     "output_type": "stream",
     "text": [
      "[602.58043378 853.2523811 ]\n",
      "[ 412.32878889  685.29297257 1002.45052248 1105.62766573 1220.51210222]\n",
      "[ 406.81216953  481.10468715  674.04943134  737.78425669  958.72207456\n",
      " 1027.47043841 1171.96697833]\n",
      "[514.23677654 673.92364809 789.8138236 ]\n"
     ]
    },
    {
     "name": "stderr",
     "output_type": "stream",
     "text": [
      " 99%|█████████▉| 4289/4321 [04:18<00:02, 15.31it/s]"
     ]
    },
    {
     "name": "stdout",
     "output_type": "stream",
     "text": [
      "[]\n",
      "[1068.51767947]\n",
      "[498.23593322]\n"
     ]
    },
    {
     "name": "stderr",
     "output_type": "stream",
     "text": [
      " 99%|█████████▉| 4295/4321 [04:18<00:01, 16.54it/s]"
     ]
    },
    {
     "name": "stdout",
     "output_type": "stream",
     "text": [
      "[]\n",
      "[1182.21327549]\n"
     ]
    },
    {
     "name": "stderr",
     "output_type": "stream",
     "text": [
      " 99%|█████████▉| 4299/4321 [04:18<00:01, 16.89it/s]"
     ]
    },
    {
     "name": "stdout",
     "output_type": "stream",
     "text": [
      "[1154.53811023]\n",
      "[606.82057004 619.58491077]\n",
      "[474.28925779 911.75012037]\n"
     ]
    },
    {
     "name": "stderr",
     "output_type": "stream",
     "text": [
      "100%|█████████▉| 4305/4321 [04:19<00:00, 16.35it/s]"
     ]
    },
    {
     "name": "stdout",
     "output_type": "stream",
     "text": [
      "[380.7485611]\n",
      "[]\n"
     ]
    },
    {
     "name": "stderr",
     "output_type": "stream",
     "text": [
      "100%|█████████▉| 4309/4321 [04:19<00:00, 16.00it/s]"
     ]
    },
    {
     "name": "stdout",
     "output_type": "stream",
     "text": [
      "[]\n",
      "[240.41426582]\n",
      "[ 494.32913682  559.68214766 1089.47882606]\n"
     ]
    },
    {
     "name": "stderr",
     "output_type": "stream",
     "text": [
      "100%|█████████▉| 4313/4321 [04:19<00:00, 16.48it/s]"
     ]
    },
    {
     "name": "stdout",
     "output_type": "stream",
     "text": [
      "[580.50530288]\n"
     ]
    },
    {
     "name": "stderr",
     "output_type": "stream",
     "text": [
      "100%|██████████| 4321/4321 [04:19<00:00, 16.54it/s]"
     ]
    },
    {
     "name": "stdout",
     "output_type": "stream",
     "text": [
      "[ 758.6237463  1214.72137915]\n"
     ]
    },
    {
     "name": "stderr",
     "output_type": "stream",
     "text": [
      "\n"
     ]
    }
   ],
   "source": [
    "file_name = \"1slice_DS_frequency_lambda20*0.25_lsb_remNrem_20_73\"\n",
    "extract_results(file_name)\n",
    "normalize_signals = True\n",
    "cuda_id = 2\n",
    "random = True\n",
    "oversample = False\n",
    "gap_norm_opt = 'batch_norm'\n",
    "task = 'rem_nrem'  # ['rem_nrem', 'wake_rem', 'all']\n",
    "num_patients = 600  # There are 1570 patients in the test set\n",
    "cam_target = 1\n",
    "\n",
    "template_opt = 'rem'  # in ['spindle', 'activation', 'sw', 'rem', 'emg']\n",
    "num_ch = 2\n",
    "before, after = 5, 5  # sec\n",
    "#0.05, # 0.1 # 0.2, 0.5 # 1\n",
    "noise_inter = 0.8\n",
    "templates = get_templates(file_name=file_name, template_opt=template_opt, cam_target=cam_target,\n",
    "                          num_patients=num_patients, num_ch=num_ch, before=before, after=after, task=task,\n",
    "                          try2load=False, cuda_id=cuda_id, random=random, gap_norm_opt=gap_norm_opt,\n",
    "                          normalize_signals=normalize_signals, oversample=oversample, noise_inter=noise_inter)\n",
    "# plot_templates(file_name=file_name, cam_target=cam_target, text_height=0.3005, template_opt=template_opt,\n",
    "#                before=5, after=5, task=task, random=random)"
   ]
  },
  {
   "cell_type": "code",
   "execution_count": null,
   "metadata": {},
   "outputs": [],
   "source": []
  }
 ],
 "metadata": {
  "kernelspec": {
   "display_name": "Python 3",
   "language": "python",
   "name": "python3"
  },
  "language_info": {
   "codemirror_mode": {
    "name": "ipython",
    "version": 3
   },
   "file_extension": ".py",
   "mimetype": "text/x-python",
   "name": "python",
   "nbconvert_exporter": "python",
   "pygments_lexer": "ipython3",
   "version": "3.6.9"
  }
 },
 "nbformat": 4,
 "nbformat_minor": 2
}
